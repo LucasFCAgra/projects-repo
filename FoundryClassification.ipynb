{
 "cells": [
  {
   "cell_type": "markdown",
   "id": "bda0d803",
   "metadata": {},
   "source": [
    "# CPU and GPU exploratory Analysis and Predictions"
   ]
  },
  {
   "cell_type": "markdown",
   "id": "eb44b857",
   "metadata": {},
   "source": [
    "## Importing Libraries"
   ]
  },
  {
   "cell_type": "code",
   "execution_count": 1,
   "id": "8b3c7864-402f-4f8e-851d-f2b6c5f24a75",
   "metadata": {},
   "outputs": [],
   "source": [
    "import matplotlib.pyplot as plt\n",
    "import pandas as pd\n",
    "from sklearn.ensemble import RandomForestClassifier\n",
    "from sklearn.impute import SimpleImputer\n",
    "from sklearn.metrics import ConfusionMatrixDisplay, classification_report\n",
    "from sklearn.model_selection import GridSearchCV, train_test_split\n",
    "from sklearn.pipeline import make_pipeline\n",
    "from sklearn.impute import KNNImputer\n",
    "from sklearn.preprocessing import OrdinalEncoder"
   ]
  },
  {
   "cell_type": "code",
   "execution_count": 2,
   "id": "2c725b8c",
   "metadata": {},
   "outputs": [],
   "source": [
    "# import matplotlib.pyplot as plt\n",
    "# import pandas as pd\n",
    "# from sklearn.ensemble import RandomForestClassifier\n",
    "# from sklearn.impute import SimpleImputer\n",
    "# from category_encoders import OrdinalEncoder\n",
    "# from sklearn.metrics import ConfusionMatrixDisplay, classification_report\n",
    "# from sklearn.model_selection import GridSearchCV, train_test_split\n",
    "# from sklearn.pipeline import make_pipeline\n",
    "# import numpy as np\n",
    "# import warnings\n",
    "# import datetime\n",
    "# from sklearn.compose import ColumnTransformer\n",
    "# warnings.simplefilter(action=\"ignore\", category=np.VisibleDeprecationWarning)\n",
    "# warnings.simplefilter(action=\"ignore\", category= UserWarning)\n",
    "# warnings.simplefilter(action=\"ignore\", category= pd.core.common.SettingWithCopyWarning)\n",
    "# warnings.simplefilter(action=\"ignore\", category=FutureWarning)\n",
    "# pd.set_option(\"display.max_columns\", 28)"
   ]
  },
  {
   "cell_type": "markdown",
   "id": "a2b4cb76",
   "metadata": {},
   "source": [
    "## Loading Data"
   ]
  },
  {
   "cell_type": "code",
   "execution_count": 3,
   "id": "8aa06dea",
   "metadata": {},
   "outputs": [],
   "source": [
    "df = pd.read_csv(r\"C:\\Users\\Lucas\\JupyterLab\\Projects for Portifolio\\CSVs\\chip_dataset.csv\")"
   ]
  },
  {
   "cell_type": "code",
   "execution_count": 4,
   "id": "d500abb7-7306-4f39-9765-2e17e8750541",
   "metadata": {},
   "outputs": [],
   "source": [
    "df.drop(columns=\"Unnamed: 0\", inplace=True)"
   ]
  },
  {
   "cell_type": "code",
   "execution_count": 5,
   "id": "31285c89-4906-4fba-a4a8-bfbc3109e8d4",
   "metadata": {},
   "outputs": [
    {
     "data": {
      "text/plain": [
       "110"
      ]
     },
     "execution_count": 5,
     "metadata": {},
     "output_type": "execute_result"
    }
   ],
   "source": [
    "df.duplicated().sum()"
   ]
  },
  {
   "cell_type": "code",
   "execution_count": 6,
   "id": "1fe81b45-d560-4464-9af4-3b5712827694",
   "metadata": {},
   "outputs": [],
   "source": [
    "df.drop_duplicates(inplace=True)"
   ]
  },
  {
   "cell_type": "code",
   "execution_count": 7,
   "id": "44e6381e-ad24-4b75-afab-78bd223bc545",
   "metadata": {},
   "outputs": [
    {
     "data": {
      "text/plain": [
       "(4744, 13)"
      ]
     },
     "execution_count": 7,
     "metadata": {},
     "output_type": "execute_result"
    }
   ],
   "source": [
    "df.shape"
   ]
  },
  {
   "cell_type": "code",
   "execution_count": 8,
   "id": "2f0d6aea",
   "metadata": {},
   "outputs": [
    {
     "data": {
      "text/html": [
       "<div>\n",
       "<style scoped>\n",
       "    .dataframe tbody tr th:only-of-type {\n",
       "        vertical-align: middle;\n",
       "    }\n",
       "\n",
       "    .dataframe tbody tr th {\n",
       "        vertical-align: top;\n",
       "    }\n",
       "\n",
       "    .dataframe thead th {\n",
       "        text-align: right;\n",
       "    }\n",
       "</style>\n",
       "<table border=\"1\" class=\"dataframe\">\n",
       "  <thead>\n",
       "    <tr style=\"text-align: right;\">\n",
       "      <th></th>\n",
       "      <th>Product</th>\n",
       "      <th>Type</th>\n",
       "      <th>Release Date</th>\n",
       "      <th>Process Size (nm)</th>\n",
       "      <th>TDP (W)</th>\n",
       "      <th>Die Size (mm^2)</th>\n",
       "      <th>Transistors (million)</th>\n",
       "      <th>Freq (MHz)</th>\n",
       "      <th>Foundry</th>\n",
       "      <th>Vendor</th>\n",
       "      <th>FP16 GFLOPS</th>\n",
       "      <th>FP32 GFLOPS</th>\n",
       "      <th>FP64 GFLOPS</th>\n",
       "    </tr>\n",
       "  </thead>\n",
       "  <tbody>\n",
       "    <tr>\n",
       "      <th>0</th>\n",
       "      <td>AMD Athlon 64 3500+</td>\n",
       "      <td>CPU</td>\n",
       "      <td>2007-02-20</td>\n",
       "      <td>65.0</td>\n",
       "      <td>45.0</td>\n",
       "      <td>77.0</td>\n",
       "      <td>122.0</td>\n",
       "      <td>2200.0</td>\n",
       "      <td>Unknown</td>\n",
       "      <td>AMD</td>\n",
       "      <td>NaN</td>\n",
       "      <td>NaN</td>\n",
       "      <td>NaN</td>\n",
       "    </tr>\n",
       "    <tr>\n",
       "      <th>1</th>\n",
       "      <td>AMD Athlon 200GE</td>\n",
       "      <td>CPU</td>\n",
       "      <td>2018-09-06</td>\n",
       "      <td>14.0</td>\n",
       "      <td>35.0</td>\n",
       "      <td>192.0</td>\n",
       "      <td>4800.0</td>\n",
       "      <td>3200.0</td>\n",
       "      <td>Unknown</td>\n",
       "      <td>AMD</td>\n",
       "      <td>NaN</td>\n",
       "      <td>NaN</td>\n",
       "      <td>NaN</td>\n",
       "    </tr>\n",
       "    <tr>\n",
       "      <th>2</th>\n",
       "      <td>Intel Core i5-1145G7</td>\n",
       "      <td>CPU</td>\n",
       "      <td>2020-09-02</td>\n",
       "      <td>10.0</td>\n",
       "      <td>28.0</td>\n",
       "      <td>NaN</td>\n",
       "      <td>NaN</td>\n",
       "      <td>2600.0</td>\n",
       "      <td>Intel</td>\n",
       "      <td>Intel</td>\n",
       "      <td>NaN</td>\n",
       "      <td>NaN</td>\n",
       "      <td>NaN</td>\n",
       "    </tr>\n",
       "    <tr>\n",
       "      <th>3</th>\n",
       "      <td>Intel Xeon E5-2603 v2</td>\n",
       "      <td>CPU</td>\n",
       "      <td>2013-09-01</td>\n",
       "      <td>22.0</td>\n",
       "      <td>80.0</td>\n",
       "      <td>160.0</td>\n",
       "      <td>1400.0</td>\n",
       "      <td>1800.0</td>\n",
       "      <td>Intel</td>\n",
       "      <td>Intel</td>\n",
       "      <td>NaN</td>\n",
       "      <td>NaN</td>\n",
       "      <td>NaN</td>\n",
       "    </tr>\n",
       "    <tr>\n",
       "      <th>4</th>\n",
       "      <td>AMD Phenom II X4 980 BE</td>\n",
       "      <td>CPU</td>\n",
       "      <td>2011-05-03</td>\n",
       "      <td>45.0</td>\n",
       "      <td>125.0</td>\n",
       "      <td>258.0</td>\n",
       "      <td>758.0</td>\n",
       "      <td>3700.0</td>\n",
       "      <td>Unknown</td>\n",
       "      <td>AMD</td>\n",
       "      <td>NaN</td>\n",
       "      <td>NaN</td>\n",
       "      <td>NaN</td>\n",
       "    </tr>\n",
       "  </tbody>\n",
       "</table>\n",
       "</div>"
      ],
      "text/plain": [
       "                   Product Type Release Date  Process Size (nm)  TDP (W)  \\\n",
       "0      AMD Athlon 64 3500+  CPU   2007-02-20               65.0     45.0   \n",
       "1         AMD Athlon 200GE  CPU   2018-09-06               14.0     35.0   \n",
       "2     Intel Core i5-1145G7  CPU   2020-09-02               10.0     28.0   \n",
       "3    Intel Xeon E5-2603 v2  CPU   2013-09-01               22.0     80.0   \n",
       "4  AMD Phenom II X4 980 BE  CPU   2011-05-03               45.0    125.0   \n",
       "\n",
       "   Die Size (mm^2)  Transistors (million)  Freq (MHz)  Foundry Vendor  \\\n",
       "0             77.0                  122.0      2200.0  Unknown    AMD   \n",
       "1            192.0                 4800.0      3200.0  Unknown    AMD   \n",
       "2              NaN                    NaN      2600.0    Intel  Intel   \n",
       "3            160.0                 1400.0      1800.0    Intel  Intel   \n",
       "4            258.0                  758.0      3700.0  Unknown    AMD   \n",
       "\n",
       "   FP16 GFLOPS  FP32 GFLOPS  FP64 GFLOPS  \n",
       "0          NaN          NaN          NaN  \n",
       "1          NaN          NaN          NaN  \n",
       "2          NaN          NaN          NaN  \n",
       "3          NaN          NaN          NaN  \n",
       "4          NaN          NaN          NaN  "
      ]
     },
     "execution_count": 8,
     "metadata": {},
     "output_type": "execute_result"
    }
   ],
   "source": [
    "df.head()"
   ]
  },
  {
   "cell_type": "code",
   "execution_count": 9,
   "id": "6ae8a418",
   "metadata": {},
   "outputs": [
    {
     "data": {
      "text/plain": [
       "0"
      ]
     },
     "execution_count": 9,
     "metadata": {},
     "output_type": "execute_result"
    }
   ],
   "source": [
    "df.duplicated().sum()"
   ]
  },
  {
   "cell_type": "code",
   "execution_count": 10,
   "id": "755a650d",
   "metadata": {},
   "outputs": [
    {
     "data": {
      "text/plain": [
       "Product                   object\n",
       "Type                      object\n",
       "Release Date              object\n",
       "Process Size (nm)        float64\n",
       "TDP (W)                  float64\n",
       "Die Size (mm^2)          float64\n",
       "Transistors (million)    float64\n",
       "Freq (MHz)               float64\n",
       "Foundry                   object\n",
       "Vendor                    object\n",
       "FP16 GFLOPS              float64\n",
       "FP32 GFLOPS              float64\n",
       "FP64 GFLOPS              float64\n",
       "dtype: object"
      ]
     },
     "execution_count": 10,
     "metadata": {},
     "output_type": "execute_result"
    }
   ],
   "source": [
    "df.dtypes"
   ]
  },
  {
   "cell_type": "code",
   "execution_count": 11,
   "id": "500af019-a7c9-4379-b68e-b3473a948a5b",
   "metadata": {},
   "outputs": [
    {
     "data": {
      "text/plain": [
       "TSMC       2156\n",
       "Intel      1341\n",
       "Unknown     838\n",
       "GF          264\n",
       "UMC          70\n",
       "Samsung      59\n",
       "Sony         10\n",
       "IBM           3\n",
       "NEC           2\n",
       "Renesas       1\n",
       "Name: Foundry, dtype: int64"
      ]
     },
     "execution_count": 11,
     "metadata": {},
     "output_type": "execute_result"
    }
   ],
   "source": [
    "df[\"Foundry\"].value_counts()"
   ]
  },
  {
   "cell_type": "markdown",
   "id": "ea2ab9bb",
   "metadata": {},
   "source": [
    "# Cleaning Data"
   ]
  },
  {
   "cell_type": "markdown",
   "id": "c91abc41",
   "metadata": {},
   "source": [
    "Dropping the column \"Unnamed: 0\" since it has irrelevant information."
   ]
  },
  {
   "cell_type": "markdown",
   "id": "1b269623",
   "metadata": {},
   "source": [
    "The release date is being treated as an object, so it will be converted to datetime, set as index and sorted:"
   ]
  },
  {
   "cell_type": "code",
   "execution_count": 12,
   "id": "ad27b903",
   "metadata": {},
   "outputs": [],
   "source": [
    "df[\"Release Date\"] = pd.to_datetime(df[\"Release Date\"])"
   ]
  },
  {
   "cell_type": "code",
   "execution_count": 13,
   "id": "f7c95ec0-04bd-4138-b8ba-ffe8dbb9d120",
   "metadata": {},
   "outputs": [],
   "source": [
    "df[\"year\"] = df[\"Release Date\"].dt.year\n",
    "df[\"month\"] = df[\"Release Date\"].dt.month\n",
    "df[\"day\"] = df[\"Release Date\"].dt.day"
   ]
  },
  {
   "cell_type": "code",
   "execution_count": 14,
   "id": "78cc9a31-c60b-4ea3-afa8-0369d955184d",
   "metadata": {},
   "outputs": [
    {
     "data": {
      "text/plain": [
       "TSMC       2156\n",
       "Intel      1341\n",
       "Unknown     838\n",
       "GF          264\n",
       "UMC          70\n",
       "Samsung      59\n",
       "Sony         10\n",
       "IBM           3\n",
       "NEC           2\n",
       "Renesas       1\n",
       "Name: Foundry, dtype: int64"
      ]
     },
     "execution_count": 14,
     "metadata": {},
     "output_type": "execute_result"
    }
   ],
   "source": [
    "df[\"Foundry\"].value_counts()"
   ]
  },
  {
   "cell_type": "code",
   "execution_count": 15,
   "id": "6bcc0749-b548-4900-b028-f84ced1dbfee",
   "metadata": {},
   "outputs": [],
   "source": [
    "a = (df[\"Foundry\"].value_counts() < 100)\n",
    "b = []\n",
    "for i in range(len(a)):\n",
    "    if a[i]:\n",
    "        b.append(a.index[i])"
   ]
  },
  {
   "cell_type": "code",
   "execution_count": 16,
   "id": "f9502bcd-dd42-4529-93fb-be8a3b08a491",
   "metadata": {},
   "outputs": [
    {
     "data": {
      "text/plain": [
       "['UMC', 'Samsung', 'Sony', 'IBM', 'NEC', 'Renesas']"
      ]
     },
     "execution_count": 16,
     "metadata": {},
     "output_type": "execute_result"
    }
   ],
   "source": [
    "b"
   ]
  },
  {
   "cell_type": "code",
   "execution_count": 17,
   "id": "32a9df48-154d-4c87-8767-930ed8be78a1",
   "metadata": {},
   "outputs": [],
   "source": [
    "df[\"Foundry\"] = df[\"Foundry\"].apply(lambda x: \"Other\" if x in b else x)"
   ]
  },
  {
   "cell_type": "code",
   "execution_count": 18,
   "id": "8b7f412c",
   "metadata": {},
   "outputs": [
    {
     "data": {
      "text/html": [
       "<div>\n",
       "<style scoped>\n",
       "    .dataframe tbody tr th:only-of-type {\n",
       "        vertical-align: middle;\n",
       "    }\n",
       "\n",
       "    .dataframe tbody tr th {\n",
       "        vertical-align: top;\n",
       "    }\n",
       "\n",
       "    .dataframe thead th {\n",
       "        text-align: right;\n",
       "    }\n",
       "</style>\n",
       "<table border=\"1\" class=\"dataframe\">\n",
       "  <thead>\n",
       "    <tr style=\"text-align: right;\">\n",
       "      <th></th>\n",
       "      <th>Product</th>\n",
       "      <th>Type</th>\n",
       "      <th>Release Date</th>\n",
       "      <th>Process Size (nm)</th>\n",
       "      <th>TDP (W)</th>\n",
       "      <th>Die Size (mm^2)</th>\n",
       "      <th>Transistors (million)</th>\n",
       "      <th>Freq (MHz)</th>\n",
       "      <th>Foundry</th>\n",
       "      <th>Vendor</th>\n",
       "      <th>FP16 GFLOPS</th>\n",
       "      <th>FP32 GFLOPS</th>\n",
       "      <th>FP64 GFLOPS</th>\n",
       "      <th>year</th>\n",
       "      <th>month</th>\n",
       "      <th>day</th>\n",
       "    </tr>\n",
       "  </thead>\n",
       "  <tbody>\n",
       "    <tr>\n",
       "      <th>0</th>\n",
       "      <td>AMD Athlon 64 3500+</td>\n",
       "      <td>CPU</td>\n",
       "      <td>2007-02-20</td>\n",
       "      <td>65.0</td>\n",
       "      <td>45.0</td>\n",
       "      <td>77.0</td>\n",
       "      <td>122.0</td>\n",
       "      <td>2200.0</td>\n",
       "      <td>Unknown</td>\n",
       "      <td>AMD</td>\n",
       "      <td>NaN</td>\n",
       "      <td>NaN</td>\n",
       "      <td>NaN</td>\n",
       "      <td>2007.0</td>\n",
       "      <td>2.0</td>\n",
       "      <td>20.0</td>\n",
       "    </tr>\n",
       "    <tr>\n",
       "      <th>1</th>\n",
       "      <td>AMD Athlon 200GE</td>\n",
       "      <td>CPU</td>\n",
       "      <td>2018-09-06</td>\n",
       "      <td>14.0</td>\n",
       "      <td>35.0</td>\n",
       "      <td>192.0</td>\n",
       "      <td>4800.0</td>\n",
       "      <td>3200.0</td>\n",
       "      <td>Unknown</td>\n",
       "      <td>AMD</td>\n",
       "      <td>NaN</td>\n",
       "      <td>NaN</td>\n",
       "      <td>NaN</td>\n",
       "      <td>2018.0</td>\n",
       "      <td>9.0</td>\n",
       "      <td>6.0</td>\n",
       "    </tr>\n",
       "    <tr>\n",
       "      <th>2</th>\n",
       "      <td>Intel Core i5-1145G7</td>\n",
       "      <td>CPU</td>\n",
       "      <td>2020-09-02</td>\n",
       "      <td>10.0</td>\n",
       "      <td>28.0</td>\n",
       "      <td>NaN</td>\n",
       "      <td>NaN</td>\n",
       "      <td>2600.0</td>\n",
       "      <td>Intel</td>\n",
       "      <td>Intel</td>\n",
       "      <td>NaN</td>\n",
       "      <td>NaN</td>\n",
       "      <td>NaN</td>\n",
       "      <td>2020.0</td>\n",
       "      <td>9.0</td>\n",
       "      <td>2.0</td>\n",
       "    </tr>\n",
       "    <tr>\n",
       "      <th>3</th>\n",
       "      <td>Intel Xeon E5-2603 v2</td>\n",
       "      <td>CPU</td>\n",
       "      <td>2013-09-01</td>\n",
       "      <td>22.0</td>\n",
       "      <td>80.0</td>\n",
       "      <td>160.0</td>\n",
       "      <td>1400.0</td>\n",
       "      <td>1800.0</td>\n",
       "      <td>Intel</td>\n",
       "      <td>Intel</td>\n",
       "      <td>NaN</td>\n",
       "      <td>NaN</td>\n",
       "      <td>NaN</td>\n",
       "      <td>2013.0</td>\n",
       "      <td>9.0</td>\n",
       "      <td>1.0</td>\n",
       "    </tr>\n",
       "    <tr>\n",
       "      <th>4</th>\n",
       "      <td>AMD Phenom II X4 980 BE</td>\n",
       "      <td>CPU</td>\n",
       "      <td>2011-05-03</td>\n",
       "      <td>45.0</td>\n",
       "      <td>125.0</td>\n",
       "      <td>258.0</td>\n",
       "      <td>758.0</td>\n",
       "      <td>3700.0</td>\n",
       "      <td>Unknown</td>\n",
       "      <td>AMD</td>\n",
       "      <td>NaN</td>\n",
       "      <td>NaN</td>\n",
       "      <td>NaN</td>\n",
       "      <td>2011.0</td>\n",
       "      <td>5.0</td>\n",
       "      <td>3.0</td>\n",
       "    </tr>\n",
       "  </tbody>\n",
       "</table>\n",
       "</div>"
      ],
      "text/plain": [
       "                   Product Type Release Date  Process Size (nm)  TDP (W)  \\\n",
       "0      AMD Athlon 64 3500+  CPU   2007-02-20               65.0     45.0   \n",
       "1         AMD Athlon 200GE  CPU   2018-09-06               14.0     35.0   \n",
       "2     Intel Core i5-1145G7  CPU   2020-09-02               10.0     28.0   \n",
       "3    Intel Xeon E5-2603 v2  CPU   2013-09-01               22.0     80.0   \n",
       "4  AMD Phenom II X4 980 BE  CPU   2011-05-03               45.0    125.0   \n",
       "\n",
       "   Die Size (mm^2)  Transistors (million)  Freq (MHz)  Foundry Vendor  \\\n",
       "0             77.0                  122.0      2200.0  Unknown    AMD   \n",
       "1            192.0                 4800.0      3200.0  Unknown    AMD   \n",
       "2              NaN                    NaN      2600.0    Intel  Intel   \n",
       "3            160.0                 1400.0      1800.0    Intel  Intel   \n",
       "4            258.0                  758.0      3700.0  Unknown    AMD   \n",
       "\n",
       "   FP16 GFLOPS  FP32 GFLOPS  FP64 GFLOPS    year  month   day  \n",
       "0          NaN          NaN          NaN  2007.0    2.0  20.0  \n",
       "1          NaN          NaN          NaN  2018.0    9.0   6.0  \n",
       "2          NaN          NaN          NaN  2020.0    9.0   2.0  \n",
       "3          NaN          NaN          NaN  2013.0    9.0   1.0  \n",
       "4          NaN          NaN          NaN  2011.0    5.0   3.0  "
      ]
     },
     "execution_count": 18,
     "metadata": {},
     "output_type": "execute_result"
    }
   ],
   "source": [
    "df.head()"
   ]
  },
  {
   "cell_type": "markdown",
   "id": "a172a3ec",
   "metadata": {},
   "source": [
    "Dropping duplicates:"
   ]
  },
  {
   "cell_type": "code",
   "execution_count": 19,
   "id": "2b59e72f-c325-470e-8af2-275ca8369e36",
   "metadata": {},
   "outputs": [
    {
     "data": {
      "text/plain": [
       "TSMC       2156\n",
       "Intel      1341\n",
       "Unknown     838\n",
       "GF          264\n",
       "Other       145\n",
       "Name: Foundry, dtype: int64"
      ]
     },
     "execution_count": 19,
     "metadata": {},
     "output_type": "execute_result"
    }
   ],
   "source": [
    "df[\"Foundry\"].value_counts()"
   ]
  },
  {
   "cell_type": "markdown",
   "id": "78739bfb",
   "metadata": {},
   "source": [
    "# Model Building"
   ]
  },
  {
   "cell_type": "markdown",
   "id": "817ee7b4",
   "metadata": {},
   "source": [
    "# Spliting the Data # 1"
   ]
  },
  {
   "cell_type": "code",
   "execution_count": 20,
   "id": "dadde2eb-8728-4722-bce4-778b6b862583",
   "metadata": {},
   "outputs": [],
   "source": [
    "df.reset_index(inplace=True)"
   ]
  },
  {
   "cell_type": "code",
   "execution_count": 21,
   "id": "3a6f424a",
   "metadata": {},
   "outputs": [],
   "source": [
    "X = df[df[\"Foundry\"] != \"Unknown\"][['Process Size (nm)', 'TDP (W)', 'Die Size (mm^2)', 'Transistors (million)', 'Freq (MHz)', \"day\", \"month\", \"year\"]]\n",
    "y = df[df[\"Foundry\"] != \"Unknown\"][\"Foundry\"]"
   ]
  },
  {
   "cell_type": "code",
   "execution_count": 22,
   "id": "e9ee6de0",
   "metadata": {},
   "outputs": [],
   "source": [
    "X_train, X_test, y_train, y_test = train_test_split(X,y,test_size=0.2,random_state=42)"
   ]
  },
  {
   "cell_type": "markdown",
   "id": "aafbab35",
   "metadata": {},
   "source": [
    "# Defining Baseline # 1"
   ]
  },
  {
   "cell_type": "code",
   "execution_count": 23,
   "id": "10d1cee6",
   "metadata": {},
   "outputs": [
    {
     "name": "stdout",
     "output_type": "stream",
     "text": [
      "Baseline Accuracy: 0.5554\n"
     ]
    }
   ],
   "source": [
    "acc_baseline = y_train.value_counts(normalize=True).max()\n",
    "print(\"Baseline Accuracy:\", round(acc_baseline, 4))"
   ]
  },
  {
   "cell_type": "markdown",
   "id": "e86e87b3",
   "metadata": {},
   "source": [
    "## First model: Random Forest Classifier"
   ]
  },
  {
   "cell_type": "markdown",
   "id": "981c5b2e",
   "metadata": {},
   "source": [
    "### Creating the pipeline:"
   ]
  },
  {
   "cell_type": "code",
   "execution_count": 24,
   "id": "5899b720",
   "metadata": {},
   "outputs": [],
   "source": [
    "pipe = make_pipeline(SimpleImputer() , RandomForestClassifier(random_state=42))"
   ]
  },
  {
   "cell_type": "markdown",
   "id": "75f3830f",
   "metadata": {
    "tags": []
   },
   "source": [
    "### Setting parameters:"
   ]
  },
  {
   "cell_type": "code",
   "execution_count": 25,
   "id": "eee201b8",
   "metadata": {},
   "outputs": [],
   "source": [
    "params = {\n",
    "    'simpleimputer__strategy' : ['mean', 'median', \"most_frequent\"],\n",
    "    \"randomforestclassifier__n_estimators\": range(90,121,100),\n",
    "    \"randomforestclassifier__max_depth\": range(20,46,5),\n",
    "    \"randomforestclassifier__criterion\": [\"gini\", \"entropy\"]\n",
    "}"
   ]
  },
  {
   "cell_type": "markdown",
   "id": "a73dda95",
   "metadata": {
    "tags": []
   },
   "source": [
    "### Building the model:"
   ]
  },
  {
   "cell_type": "code",
   "execution_count": 26,
   "id": "f6db95cd",
   "metadata": {},
   "outputs": [],
   "source": [
    "model_rf = GridSearchCV(\n",
    "    pipe,\n",
    "    param_grid=params,\n",
    "    cv=5,\n",
    "    n_jobs=-1,\n",
    "    verbose=1\n",
    ")"
   ]
  },
  {
   "cell_type": "markdown",
   "id": "f5b99dd5",
   "metadata": {},
   "source": [
    "### Fitting:"
   ]
  },
  {
   "cell_type": "code",
   "execution_count": 27,
   "id": "9a38488c",
   "metadata": {},
   "outputs": [
    {
     "name": "stdout",
     "output_type": "stream",
     "text": [
      "Fitting 5 folds for each of 36 candidates, totalling 180 fits\n"
     ]
    },
    {
     "data": {
      "text/plain": [
       "GridSearchCV(cv=5,\n",
       "             estimator=Pipeline(steps=[('simpleimputer', SimpleImputer()),\n",
       "                                       ('randomforestclassifier',\n",
       "                                        RandomForestClassifier(random_state=42))]),\n",
       "             n_jobs=-1,\n",
       "             param_grid={'randomforestclassifier__criterion': ['gini',\n",
       "                                                               'entropy'],\n",
       "                         'randomforestclassifier__max_depth': range(20, 46, 5),\n",
       "                         'randomforestclassifier__n_estimators': range(90, 121, 100),\n",
       "                         'simpleimputer__strategy': ['mean', 'median',\n",
       "                                                     'most_frequent']},\n",
       "             verbose=1)"
      ]
     },
     "execution_count": 27,
     "metadata": {},
     "output_type": "execute_result"
    }
   ],
   "source": [
    "model_rf.fit(X_train, y_train)"
   ]
  },
  {
   "cell_type": "markdown",
   "id": "a4cf65f6",
   "metadata": {},
   "source": [
    "### Getting results:"
   ]
  },
  {
   "cell_type": "code",
   "execution_count": 28,
   "id": "c293cdb5",
   "metadata": {},
   "outputs": [
    {
     "data": {
      "text/html": [
       "<div>\n",
       "<style scoped>\n",
       "    .dataframe tbody tr th:only-of-type {\n",
       "        vertical-align: middle;\n",
       "    }\n",
       "\n",
       "    .dataframe tbody tr th {\n",
       "        vertical-align: top;\n",
       "    }\n",
       "\n",
       "    .dataframe thead th {\n",
       "        text-align: right;\n",
       "    }\n",
       "</style>\n",
       "<table border=\"1\" class=\"dataframe\">\n",
       "  <thead>\n",
       "    <tr style=\"text-align: right;\">\n",
       "      <th></th>\n",
       "      <th>mean_fit_time</th>\n",
       "      <th>std_fit_time</th>\n",
       "      <th>mean_score_time</th>\n",
       "      <th>std_score_time</th>\n",
       "      <th>param_randomforestclassifier__criterion</th>\n",
       "      <th>param_randomforestclassifier__max_depth</th>\n",
       "      <th>param_randomforestclassifier__n_estimators</th>\n",
       "      <th>param_simpleimputer__strategy</th>\n",
       "      <th>params</th>\n",
       "      <th>split0_test_score</th>\n",
       "      <th>split1_test_score</th>\n",
       "      <th>split2_test_score</th>\n",
       "      <th>split3_test_score</th>\n",
       "      <th>split4_test_score</th>\n",
       "      <th>mean_test_score</th>\n",
       "      <th>std_test_score</th>\n",
       "      <th>rank_test_score</th>\n",
       "    </tr>\n",
       "  </thead>\n",
       "  <tbody>\n",
       "    <tr>\n",
       "      <th>27</th>\n",
       "      <td>0.382577</td>\n",
       "      <td>0.054214</td>\n",
       "      <td>0.025133</td>\n",
       "      <td>0.007007</td>\n",
       "      <td>entropy</td>\n",
       "      <td>35</td>\n",
       "      <td>90</td>\n",
       "      <td>mean</td>\n",
       "      <td>{'randomforestclassifier__criterion': 'entropy...</td>\n",
       "      <td>0.9840</td>\n",
       "      <td>0.9840</td>\n",
       "      <td>0.9904</td>\n",
       "      <td>0.9888</td>\n",
       "      <td>0.987179</td>\n",
       "      <td>0.986876</td>\n",
       "      <td>0.002560</td>\n",
       "      <td>1</td>\n",
       "    </tr>\n",
       "    <tr>\n",
       "      <th>24</th>\n",
       "      <td>0.355249</td>\n",
       "      <td>0.029582</td>\n",
       "      <td>0.024335</td>\n",
       "      <td>0.002932</td>\n",
       "      <td>entropy</td>\n",
       "      <td>30</td>\n",
       "      <td>90</td>\n",
       "      <td>mean</td>\n",
       "      <td>{'randomforestclassifier__criterion': 'entropy...</td>\n",
       "      <td>0.9840</td>\n",
       "      <td>0.9840</td>\n",
       "      <td>0.9904</td>\n",
       "      <td>0.9888</td>\n",
       "      <td>0.987179</td>\n",
       "      <td>0.986876</td>\n",
       "      <td>0.002560</td>\n",
       "      <td>1</td>\n",
       "    </tr>\n",
       "    <tr>\n",
       "      <th>33</th>\n",
       "      <td>0.355449</td>\n",
       "      <td>0.032111</td>\n",
       "      <td>0.024335</td>\n",
       "      <td>0.009326</td>\n",
       "      <td>entropy</td>\n",
       "      <td>45</td>\n",
       "      <td>90</td>\n",
       "      <td>mean</td>\n",
       "      <td>{'randomforestclassifier__criterion': 'entropy...</td>\n",
       "      <td>0.9840</td>\n",
       "      <td>0.9840</td>\n",
       "      <td>0.9904</td>\n",
       "      <td>0.9888</td>\n",
       "      <td>0.987179</td>\n",
       "      <td>0.986876</td>\n",
       "      <td>0.002560</td>\n",
       "      <td>1</td>\n",
       "    </tr>\n",
       "    <tr>\n",
       "      <th>21</th>\n",
       "      <td>0.388761</td>\n",
       "      <td>0.084206</td>\n",
       "      <td>0.020345</td>\n",
       "      <td>0.000798</td>\n",
       "      <td>entropy</td>\n",
       "      <td>25</td>\n",
       "      <td>90</td>\n",
       "      <td>mean</td>\n",
       "      <td>{'randomforestclassifier__criterion': 'entropy...</td>\n",
       "      <td>0.9840</td>\n",
       "      <td>0.9840</td>\n",
       "      <td>0.9904</td>\n",
       "      <td>0.9888</td>\n",
       "      <td>0.987179</td>\n",
       "      <td>0.986876</td>\n",
       "      <td>0.002560</td>\n",
       "      <td>1</td>\n",
       "    </tr>\n",
       "    <tr>\n",
       "      <th>18</th>\n",
       "      <td>0.360436</td>\n",
       "      <td>0.070593</td>\n",
       "      <td>0.024534</td>\n",
       "      <td>0.006811</td>\n",
       "      <td>entropy</td>\n",
       "      <td>20</td>\n",
       "      <td>90</td>\n",
       "      <td>mean</td>\n",
       "      <td>{'randomforestclassifier__criterion': 'entropy...</td>\n",
       "      <td>0.9840</td>\n",
       "      <td>0.9840</td>\n",
       "      <td>0.9904</td>\n",
       "      <td>0.9888</td>\n",
       "      <td>0.987179</td>\n",
       "      <td>0.986876</td>\n",
       "      <td>0.002560</td>\n",
       "      <td>1</td>\n",
       "    </tr>\n",
       "    <tr>\n",
       "      <th>30</th>\n",
       "      <td>0.419877</td>\n",
       "      <td>0.052164</td>\n",
       "      <td>0.034707</td>\n",
       "      <td>0.016525</td>\n",
       "      <td>entropy</td>\n",
       "      <td>40</td>\n",
       "      <td>90</td>\n",
       "      <td>mean</td>\n",
       "      <td>{'randomforestclassifier__criterion': 'entropy...</td>\n",
       "      <td>0.9840</td>\n",
       "      <td>0.9840</td>\n",
       "      <td>0.9904</td>\n",
       "      <td>0.9888</td>\n",
       "      <td>0.987179</td>\n",
       "      <td>0.986876</td>\n",
       "      <td>0.002560</td>\n",
       "      <td>1</td>\n",
       "    </tr>\n",
       "    <tr>\n",
       "      <th>15</th>\n",
       "      <td>0.290224</td>\n",
       "      <td>0.018486</td>\n",
       "      <td>0.019548</td>\n",
       "      <td>0.000489</td>\n",
       "      <td>gini</td>\n",
       "      <td>45</td>\n",
       "      <td>90</td>\n",
       "      <td>mean</td>\n",
       "      <td>{'randomforestclassifier__criterion': 'gini', ...</td>\n",
       "      <td>0.9856</td>\n",
       "      <td>0.9856</td>\n",
       "      <td>0.9856</td>\n",
       "      <td>0.9888</td>\n",
       "      <td>0.987179</td>\n",
       "      <td>0.986556</td>\n",
       "      <td>0.001278</td>\n",
       "      <td>7</td>\n",
       "    </tr>\n",
       "    <tr>\n",
       "      <th>12</th>\n",
       "      <td>0.317151</td>\n",
       "      <td>0.020165</td>\n",
       "      <td>0.027127</td>\n",
       "      <td>0.004522</td>\n",
       "      <td>gini</td>\n",
       "      <td>40</td>\n",
       "      <td>90</td>\n",
       "      <td>mean</td>\n",
       "      <td>{'randomforestclassifier__criterion': 'gini', ...</td>\n",
       "      <td>0.9856</td>\n",
       "      <td>0.9856</td>\n",
       "      <td>0.9856</td>\n",
       "      <td>0.9888</td>\n",
       "      <td>0.987179</td>\n",
       "      <td>0.986556</td>\n",
       "      <td>0.001278</td>\n",
       "      <td>7</td>\n",
       "    </tr>\n",
       "    <tr>\n",
       "      <th>9</th>\n",
       "      <td>0.340689</td>\n",
       "      <td>0.022199</td>\n",
       "      <td>0.027726</td>\n",
       "      <td>0.007394</td>\n",
       "      <td>gini</td>\n",
       "      <td>35</td>\n",
       "      <td>90</td>\n",
       "      <td>mean</td>\n",
       "      <td>{'randomforestclassifier__criterion': 'gini', ...</td>\n",
       "      <td>0.9856</td>\n",
       "      <td>0.9856</td>\n",
       "      <td>0.9856</td>\n",
       "      <td>0.9888</td>\n",
       "      <td>0.987179</td>\n",
       "      <td>0.986556</td>\n",
       "      <td>0.001278</td>\n",
       "      <td>7</td>\n",
       "    </tr>\n",
       "    <tr>\n",
       "      <th>0</th>\n",
       "      <td>0.281049</td>\n",
       "      <td>0.006193</td>\n",
       "      <td>0.021742</td>\n",
       "      <td>0.002309</td>\n",
       "      <td>gini</td>\n",
       "      <td>20</td>\n",
       "      <td>90</td>\n",
       "      <td>mean</td>\n",
       "      <td>{'randomforestclassifier__criterion': 'gini', ...</td>\n",
       "      <td>0.9856</td>\n",
       "      <td>0.9856</td>\n",
       "      <td>0.9856</td>\n",
       "      <td>0.9888</td>\n",
       "      <td>0.987179</td>\n",
       "      <td>0.986556</td>\n",
       "      <td>0.001278</td>\n",
       "      <td>7</td>\n",
       "    </tr>\n",
       "  </tbody>\n",
       "</table>\n",
       "</div>"
      ],
      "text/plain": [
       "    mean_fit_time  std_fit_time  mean_score_time  std_score_time  \\\n",
       "27       0.382577      0.054214         0.025133        0.007007   \n",
       "24       0.355249      0.029582         0.024335        0.002932   \n",
       "33       0.355449      0.032111         0.024335        0.009326   \n",
       "21       0.388761      0.084206         0.020345        0.000798   \n",
       "18       0.360436      0.070593         0.024534        0.006811   \n",
       "30       0.419877      0.052164         0.034707        0.016525   \n",
       "15       0.290224      0.018486         0.019548        0.000489   \n",
       "12       0.317151      0.020165         0.027127        0.004522   \n",
       "9        0.340689      0.022199         0.027726        0.007394   \n",
       "0        0.281049      0.006193         0.021742        0.002309   \n",
       "\n",
       "   param_randomforestclassifier__criterion  \\\n",
       "27                                 entropy   \n",
       "24                                 entropy   \n",
       "33                                 entropy   \n",
       "21                                 entropy   \n",
       "18                                 entropy   \n",
       "30                                 entropy   \n",
       "15                                    gini   \n",
       "12                                    gini   \n",
       "9                                     gini   \n",
       "0                                     gini   \n",
       "\n",
       "   param_randomforestclassifier__max_depth  \\\n",
       "27                                      35   \n",
       "24                                      30   \n",
       "33                                      45   \n",
       "21                                      25   \n",
       "18                                      20   \n",
       "30                                      40   \n",
       "15                                      45   \n",
       "12                                      40   \n",
       "9                                       35   \n",
       "0                                       20   \n",
       "\n",
       "   param_randomforestclassifier__n_estimators param_simpleimputer__strategy  \\\n",
       "27                                         90                          mean   \n",
       "24                                         90                          mean   \n",
       "33                                         90                          mean   \n",
       "21                                         90                          mean   \n",
       "18                                         90                          mean   \n",
       "30                                         90                          mean   \n",
       "15                                         90                          mean   \n",
       "12                                         90                          mean   \n",
       "9                                          90                          mean   \n",
       "0                                          90                          mean   \n",
       "\n",
       "                                               params  split0_test_score  \\\n",
       "27  {'randomforestclassifier__criterion': 'entropy...             0.9840   \n",
       "24  {'randomforestclassifier__criterion': 'entropy...             0.9840   \n",
       "33  {'randomforestclassifier__criterion': 'entropy...             0.9840   \n",
       "21  {'randomforestclassifier__criterion': 'entropy...             0.9840   \n",
       "18  {'randomforestclassifier__criterion': 'entropy...             0.9840   \n",
       "30  {'randomforestclassifier__criterion': 'entropy...             0.9840   \n",
       "15  {'randomforestclassifier__criterion': 'gini', ...             0.9856   \n",
       "12  {'randomforestclassifier__criterion': 'gini', ...             0.9856   \n",
       "9   {'randomforestclassifier__criterion': 'gini', ...             0.9856   \n",
       "0   {'randomforestclassifier__criterion': 'gini', ...             0.9856   \n",
       "\n",
       "    split1_test_score  split2_test_score  split3_test_score  \\\n",
       "27             0.9840             0.9904             0.9888   \n",
       "24             0.9840             0.9904             0.9888   \n",
       "33             0.9840             0.9904             0.9888   \n",
       "21             0.9840             0.9904             0.9888   \n",
       "18             0.9840             0.9904             0.9888   \n",
       "30             0.9840             0.9904             0.9888   \n",
       "15             0.9856             0.9856             0.9888   \n",
       "12             0.9856             0.9856             0.9888   \n",
       "9              0.9856             0.9856             0.9888   \n",
       "0              0.9856             0.9856             0.9888   \n",
       "\n",
       "    split4_test_score  mean_test_score  std_test_score  rank_test_score  \n",
       "27           0.987179         0.986876        0.002560                1  \n",
       "24           0.987179         0.986876        0.002560                1  \n",
       "33           0.987179         0.986876        0.002560                1  \n",
       "21           0.987179         0.986876        0.002560                1  \n",
       "18           0.987179         0.986876        0.002560                1  \n",
       "30           0.987179         0.986876        0.002560                1  \n",
       "15           0.987179         0.986556        0.001278                7  \n",
       "12           0.987179         0.986556        0.001278                7  \n",
       "9            0.987179         0.986556        0.001278                7  \n",
       "0            0.987179         0.986556        0.001278                7  "
      ]
     },
     "execution_count": 28,
     "metadata": {},
     "output_type": "execute_result"
    }
   ],
   "source": [
    "cv_results = pd.DataFrame(model_rf.cv_results_)\n",
    "cv_results.sort_values(\"rank_test_score\").head(10)"
   ]
  },
  {
   "cell_type": "code",
   "execution_count": 29,
   "id": "85bba13d-c00f-4b08-9938-d3c59ec6d7d4",
   "metadata": {},
   "outputs": [
    {
     "data": {
      "image/png": "[encoded data removed]",
      "text/plain": [
       "<Figure size 432x288 with 1 Axes>"
      ]
     },
     "metadata": {
      "needs_background": "light"
     },
     "output_type": "display_data"
    }
   ],
   "source": [
    "# Get feature names from training data\n",
    "features = X_train.columns\n",
    "# Extract importances from model\n",
    "importances = model_rf.best_estimator_.named_steps[\"randomforestclassifier\"].feature_importances_\n",
    "# Create a series with feature names and importances\n",
    "feat_imp = pd.Series(importances, index=features)\n",
    "# Plot 10 most important features\n",
    "feat_imp.sort_values().tail(10).plot(kind=\"barh\")\n",
    "plt.xlabel(\"Gini Importance\")\n",
    "plt.ylabel(\"Feature\")\n",
    "plt.title(\"Feature Importance\");"
   ]
  },
  {
   "cell_type": "markdown",
   "id": "2e3a496c",
   "metadata": {
    "tags": []
   },
   "source": [
    "### Evaluating the model:"
   ]
  },
  {
   "cell_type": "code",
   "execution_count": 30,
   "id": "ef068079",
   "metadata": {},
   "outputs": [
    {
     "name": "stdout",
     "output_type": "stream",
     "text": [
      "Random Forest with OverSampler:\n",
      "Training Accuracy: 1.0\n",
      "Test Accuracy: 0.9872\n",
      "Baseline Accuracy: 0.5554\n"
     ]
    }
   ],
   "source": [
    "acc_train = model_rf.score(X_train, y_train)\n",
    "acc_test = model_rf.score(X_test, y_test)\n",
    "\n",
    "print(\"Random Forest with OverSampler:\")\n",
    "print(\"Training Accuracy:\", round(acc_train, 4))\n",
    "print(\"Test Accuracy:\", round(acc_test, 4))\n",
    "print(\"Baseline Accuracy:\", round(acc_baseline, 4))"
   ]
  },
  {
   "cell_type": "code",
   "execution_count": 31,
   "id": "40786009",
   "metadata": {},
   "outputs": [
    {
     "data": {
      "image/png": "[encoded data removed]",
      "text/plain": [
       "<Figure size 432x288 with 2 Axes>"
      ]
     },
     "metadata": {
      "needs_background": "light"
     },
     "output_type": "display_data"
    }
   ],
   "source": [
    "ConfusionMatrixDisplay.from_estimator(model_rf,X_test,y_test)\n",
    "plt.title(\"Confusion Matrix: Random Forest\");"
   ]
  },
  {
   "cell_type": "code",
   "execution_count": 32,
   "id": "c640bba0",
   "metadata": {},
   "outputs": [
    {
     "name": "stdout",
     "output_type": "stream",
     "text": [
      "Random Forest classification report:\n",
      "              precision    recall  f1-score   support\n",
      "\n",
      "          GF       1.00      1.00      1.00        59\n",
      "       Intel       1.00      0.99      0.99       270\n",
      "       Other       1.00      0.81      0.90        32\n",
      "        TSMC       0.98      1.00      0.99       421\n",
      "\n",
      "    accuracy                           0.99       782\n",
      "   macro avg       0.99      0.95      0.97       782\n",
      "weighted avg       0.99      0.99      0.99       782\n",
      "\n"
     ]
    }
   ],
   "source": [
    "print(\"Random Forest classification report:\")\n",
    "print(classification_report(y_test, model_rf.predict(X_test)))"
   ]
  },
  {
   "cell_type": "markdown",
   "id": "6b2040d6-9ecd-4170-8def-14b8ed88d33f",
   "metadata": {},
   "source": [
    "# Using the model to predict Unknown Values"
   ]
  },
  {
   "cell_type": "code",
   "execution_count": 33,
   "id": "8a40422a-f5bf-4264-a241-4d0d41cbea98",
   "metadata": {},
   "outputs": [
    {
     "data": {
      "text/plain": [
       "TSMC       2156\n",
       "Intel      1341\n",
       "Unknown     838\n",
       "GF          264\n",
       "Other       145\n",
       "Name: Foundry, dtype: int64"
      ]
     },
     "execution_count": 33,
     "metadata": {},
     "output_type": "execute_result"
    }
   ],
   "source": [
    "df[\"Foundry\"].value_counts()"
   ]
  },
  {
   "cell_type": "code",
   "execution_count": 34,
   "id": "8f754fbb-abef-4a6a-9879-4bae7017d20a",
   "metadata": {},
   "outputs": [],
   "source": [
    "lista = ['Process Size (nm)', 'TDP (W)', 'Die Size (mm^2)', 'Transistors (million)', 'Freq (MHz)', \"day\", \"month\", \"year\"]"
   ]
  },
  {
   "cell_type": "code",
   "execution_count": 35,
   "id": "c5252007-0f74-45d9-8c3c-d10b8ab29d59",
   "metadata": {},
   "outputs": [],
   "source": [
    "for i in range(len(df)):\n",
    "    if df.loc[i, \"Foundry\"] == \"Unknown\":\n",
    "        df.loc[i, \"Foundry\"] = model_rf.predict(df.loc[i, lista].to_frame().T)"
   ]
  },
  {
   "cell_type": "code",
   "execution_count": 36,
   "id": "b15a0f7d-df33-4a56-90db-8d45d79a60a7",
   "metadata": {
    "tags": []
   },
   "outputs": [
    {
     "data": {
      "text/plain": [
       "array(['Intel'], dtype=object)"
      ]
     },
     "execution_count": 36,
     "metadata": {},
     "output_type": "execute_result"
    }
   ],
   "source": [
    "model_rf.predict(df.loc[0, lista].to_frame().T)"
   ]
  },
  {
   "cell_type": "code",
   "execution_count": 37,
   "id": "035a0605-ae0c-4ed7-9aac-544583035b83",
   "metadata": {},
   "outputs": [
    {
     "data": {
      "text/html": [
       "<div>\n",
       "<style scoped>\n",
       "    .dataframe tbody tr th:only-of-type {\n",
       "        vertical-align: middle;\n",
       "    }\n",
       "\n",
       "    .dataframe tbody tr th {\n",
       "        vertical-align: top;\n",
       "    }\n",
       "\n",
       "    .dataframe thead th {\n",
       "        text-align: right;\n",
       "    }\n",
       "</style>\n",
       "<table border=\"1\" class=\"dataframe\">\n",
       "  <thead>\n",
       "    <tr style=\"text-align: right;\">\n",
       "      <th></th>\n",
       "      <th>Process Size (nm)</th>\n",
       "      <th>TDP (W)</th>\n",
       "      <th>Die Size (mm^2)</th>\n",
       "      <th>Transistors (million)</th>\n",
       "      <th>Freq (MHz)</th>\n",
       "      <th>day</th>\n",
       "      <th>month</th>\n",
       "      <th>year</th>\n",
       "    </tr>\n",
       "  </thead>\n",
       "  <tbody>\n",
       "    <tr>\n",
       "      <th>0</th>\n",
       "      <td>65.0</td>\n",
       "      <td>45.0</td>\n",
       "      <td>77.0</td>\n",
       "      <td>122.0</td>\n",
       "      <td>2200.0</td>\n",
       "      <td>20.0</td>\n",
       "      <td>2.0</td>\n",
       "      <td>2007.0</td>\n",
       "    </tr>\n",
       "  </tbody>\n",
       "</table>\n",
       "</div>"
      ],
      "text/plain": [
       "  Process Size (nm) TDP (W) Die Size (mm^2) Transistors (million) Freq (MHz)  \\\n",
       "0              65.0    45.0            77.0                 122.0     2200.0   \n",
       "\n",
       "    day month    year  \n",
       "0  20.0   2.0  2007.0  "
      ]
     },
     "execution_count": 37,
     "metadata": {},
     "output_type": "execute_result"
    }
   ],
   "source": [
    "df.loc[0, lista].to_frame().T"
   ]
  },
  {
   "cell_type": "code",
   "execution_count": 38,
   "id": "c47f999a-af99-42b0-95bc-2f27403d11f3",
   "metadata": {},
   "outputs": [
    {
     "data": {
      "text/plain": [
       "TSMC     2253\n",
       "Intel    2075\n",
       "GF        270\n",
       "Other     146\n",
       "Name: Foundry, dtype: int64"
      ]
     },
     "execution_count": 38,
     "metadata": {},
     "output_type": "execute_result"
    }
   ],
   "source": [
    "df[\"Foundry\"].value_counts()"
   ]
  },
  {
   "cell_type": "code",
   "execution_count": 39,
   "id": "4264dfcb-c25f-4ee2-918e-3e4952f6ac21",
   "metadata": {},
   "outputs": [],
   "source": [
    "df.to_csv(\"Foundry.csv\")"
   ]
  },
  {
   "cell_type": "code",
   "execution_count": null,
   "id": "160a117d-52bc-412b-b75c-4e2ba383957b",
   "metadata": {},
   "outputs": [],
   "source": []
  }
 ],
 "metadata": {
  "kernelspec": {
   "display_name": "Python 3 (ipykernel)",
   "language": "python",
   "name": "python3"
  },
  "language_info": {
   "codemirror_mode": {
    "name": "ipython",
    "version": 3
   },
   "file_extension": ".py",
   "mimetype": "text/x-python",
   "name": "python",
   "nbconvert_exporter": "python",
   "pygments_lexer": "ipython3",
   "version": "3.9.7"
  },
  "toc-autonumbering": false,
  "toc-showmarkdowntxt": false
 },
 "nbformat": 4,
 "nbformat_minor": 5
}
