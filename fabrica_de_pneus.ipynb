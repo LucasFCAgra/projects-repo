{
 "cells": [
  {
   "cell_type": "markdown",
   "id": "d8c9e063-fe08-4faf-b656-014b37456676",
   "metadata": {},
   "source": [
    "# Dataset\n",
    "O dataset é um conjunto de dados real de pedidos de manutenção de máquinas de uma fabricante multinacional de pneus."
   ]
  },
  {
   "cell_type": "markdown",
   "id": "8fe2c574-d6b0-4482-9a28-4c6a2435952a",
   "metadata": {},
   "source": [
    "## Dicionário de dados\n",
    "### As colunas dos dados representam as seguintes informações:\n",
    "* **n_nota** - Número da nota gerada ao solicitar uma manutenção.\n",
    "* **consequencia** - Ao gerar uma nota, o colaborador tem que colocar uma consequência, que são divididas em 3 e significam:\n",
    "  * 1 - Máquina parada;\n",
    "  * 2 - Máquina com parada parcial;\n",
    "  * 3 - Máquina em funcionamento.\n",
    "* **n_ordem** - Número de ordem gerada pela equipe de manutenção, ao atender uma solicitação.\n",
    "* **rank** - O rank é um input manual que a equipe de manutenção faz para categorizar o tempo necessário para e execução. Ele é dividido em A, B, C e D, que significam:\n",
    "  * A - manutenções com duração maiores ou iguais à 240 minutos.\n",
    "  * B - manutenções com duração entre 20 e 240 minutos.\n",
    "  * C - manutenções com duração entre 0 e 20 minutos.\n",
    "  * D - manutenção de máquinas específicas independente do tempo.\n",
    "* **centro_custo** - Centro de custo de onde a solicitação de manutenção está sendo emitida, indica também onde a máquina sujeita a manutenção está localizada.\n",
    "* **equipamento** - Indica o máquina que necessita de manutenção. Os nomes dos equipamentos foram alterados para manter o sigilo da empresa.\n",
    "* **data_inicio** - A data em que foi aberta a solicitação de manutenção.\n",
    "* **hora_inicio** - A hora que a solicitação foi requisitada. \n",
    "* **hora_ordem** - Hora do início da manutenção\n",
    "* **hora_fim** - O horário do fim da manutenção.\n",
    "* **data_fim** - Data do fim da manutenção.\n",
    "* **custo_de_pecas** - O custo da manutenção em Reais.\n",
    "* **tempo_real** - O tempo que levou desde a solicitação até o fim da manutenção (hora_inicio - hora_fim)\n",
    "* **tempo_manutenção** - O tempo que levou para ser realizada a manutenção a partir da chegada do técnico ao local (hora_ordem - hora_fim)\n"
   ]
  },
  {
   "cell_type": "markdown",
   "id": "0ba127b3-3036-49aa-aa91-f5a67644dd7a",
   "metadata": {},
   "source": [
    "## Bibliotecas"
   ]
  },
  {
   "cell_type": "code",
   "execution_count": 1,
   "id": "db046934-c1e8-453f-91c9-d8875d01f23d",
   "metadata": {},
   "outputs": [],
   "source": [
    "import pandas as pd\n",
    "import numpy as np\n",
    "import matplotlib.pyplot as plt\n",
    "import plotly.express as px\n",
    "import seaborn as sns\n",
    "from ipywidgets import Dropdown, FloatSlider, IntSlider, interact\n",
    "from sklearn.impute import SimpleImputer\n",
    "from sklearn.linear_model import LinearRegression, Ridge  # noqa F401\n",
    "from sklearn.metrics import mean_absolute_error\n",
    "from sklearn.pipeline import make_pipeline\n",
    "from sklearn.utils.validation import check_is_fitted\n",
    "from category_encoders import OneHotEncoder\n",
    "from sklearn.model_selection import train_test_split\n",
    "import warnings\n",
    "warnings.simplefilter(action=\"ignore\", category=np.VisibleDeprecationWarning)\n",
    "warnings.simplefilter(action=\"ignore\", category= UserWarning)\n",
    "warnings.simplefilter(action=\"ignore\", category= pd.core.common.SettingWithCopyWarning)\n",
    "warnings.simplefilter(action=\"ignore\", category=FutureWarning)"
   ]
  },
  {
   "cell_type": "markdown",
   "id": "0397c644-de4e-42c3-9049-3818b5945d92",
   "metadata": {},
   "source": [
    "## Dados\n",
    "Realizando a leitura dos dados "
   ]
  },
  {
   "cell_type": "code",
   "execution_count": 2,
   "id": "01902b48-17cf-4008-b0be-fed83ff87a78",
   "metadata": {},
   "outputs": [],
   "source": [
    "df = pd.read_csv(r\"D:\\Lucas2\\Pós\\Data Science\\Estatística\\Trabalho Final\\dados.csv\")"
   ]
  },
  {
   "cell_type": "code",
   "execution_count": 3,
   "id": "8fba73ff-fbd5-4cf8-a48f-a98e8dcae9e9",
   "metadata": {},
   "outputs": [
    {
     "data": {
      "text/html": [
       "<div>\n",
       "<style scoped>\n",
       "    .dataframe tbody tr th:only-of-type {\n",
       "        vertical-align: middle;\n",
       "    }\n",
       "\n",
       "    .dataframe tbody tr th {\n",
       "        vertical-align: top;\n",
       "    }\n",
       "\n",
       "    .dataframe thead th {\n",
       "        text-align: right;\n",
       "    }\n",
       "</style>\n",
       "<table border=\"1\" class=\"dataframe\">\n",
       "  <thead>\n",
       "    <tr style=\"text-align: right;\">\n",
       "      <th></th>\n",
       "      <th>Unnamed: 0</th>\n",
       "      <th>Unnamed: 0.1</th>\n",
       "      <th>n_nota</th>\n",
       "      <th>consequencia</th>\n",
       "      <th>n_ordem</th>\n",
       "      <th>rank</th>\n",
       "      <th>centro_custo</th>\n",
       "      <th>equipamento</th>\n",
       "      <th>data_inicio</th>\n",
       "      <th>hora_inicio</th>\n",
       "      <th>hora_ordem</th>\n",
       "      <th>hora_fim</th>\n",
       "      <th>data_fim</th>\n",
       "      <th>custo_de_pecas</th>\n",
       "      <th>tempo_real</th>\n",
       "      <th>tempo_manutencao</th>\n",
       "    </tr>\n",
       "  </thead>\n",
       "  <tbody>\n",
       "    <tr>\n",
       "      <th>0</th>\n",
       "      <td>0</td>\n",
       "      <td>0</td>\n",
       "      <td>1001950445</td>\n",
       "      <td>1</td>\n",
       "      <td>NaN</td>\n",
       "      <td>NaN</td>\n",
       "      <td>25B1112</td>\n",
       "      <td>Equipamento 1</td>\n",
       "      <td>2015-01-12</td>\n",
       "      <td>09:08:06</td>\n",
       "      <td>00:00:00</td>\n",
       "      <td>00:00:00</td>\n",
       "      <td>NaN</td>\n",
       "      <td>0.00</td>\n",
       "      <td>0.0</td>\n",
       "      <td>0.0</td>\n",
       "    </tr>\n",
       "    <tr>\n",
       "      <th>1</th>\n",
       "      <td>1</td>\n",
       "      <td>1</td>\n",
       "      <td>1001950446</td>\n",
       "      <td>1</td>\n",
       "      <td>5.000116e+09</td>\n",
       "      <td>NaN</td>\n",
       "      <td>25B1112</td>\n",
       "      <td>Equipamento 1</td>\n",
       "      <td>2015-01-12</td>\n",
       "      <td>09:10:07</td>\n",
       "      <td>10:17:52</td>\n",
       "      <td>00:00:00</td>\n",
       "      <td>NaN</td>\n",
       "      <td>0.00</td>\n",
       "      <td>0.0</td>\n",
       "      <td>0.0</td>\n",
       "    </tr>\n",
       "    <tr>\n",
       "      <th>2</th>\n",
       "      <td>2</td>\n",
       "      <td>2</td>\n",
       "      <td>1001950447</td>\n",
       "      <td>1</td>\n",
       "      <td>5.000116e+09</td>\n",
       "      <td>NaN</td>\n",
       "      <td>25B1112</td>\n",
       "      <td>Equipamento 1</td>\n",
       "      <td>2015-01-12</td>\n",
       "      <td>09:12:02</td>\n",
       "      <td>10:16:03</td>\n",
       "      <td>00:00:00</td>\n",
       "      <td>NaN</td>\n",
       "      <td>601.89</td>\n",
       "      <td>0.0</td>\n",
       "      <td>0.0</td>\n",
       "    </tr>\n",
       "    <tr>\n",
       "      <th>3</th>\n",
       "      <td>3</td>\n",
       "      <td>3</td>\n",
       "      <td>1001950448</td>\n",
       "      <td>1</td>\n",
       "      <td>NaN</td>\n",
       "      <td>NaN</td>\n",
       "      <td>25B1112</td>\n",
       "      <td>Equipamento 1</td>\n",
       "      <td>2015-01-12</td>\n",
       "      <td>09:12:48</td>\n",
       "      <td>00:00:00</td>\n",
       "      <td>00:00:00</td>\n",
       "      <td>NaN</td>\n",
       "      <td>0.00</td>\n",
       "      <td>0.0</td>\n",
       "      <td>0.0</td>\n",
       "    </tr>\n",
       "    <tr>\n",
       "      <th>4</th>\n",
       "      <td>4</td>\n",
       "      <td>4</td>\n",
       "      <td>1001950616</td>\n",
       "      <td>1</td>\n",
       "      <td>5.000116e+09</td>\n",
       "      <td>NaN</td>\n",
       "      <td>25B1112</td>\n",
       "      <td>Equipamento 1</td>\n",
       "      <td>2015-01-12</td>\n",
       "      <td>14:34:16</td>\n",
       "      <td>21:15:20</td>\n",
       "      <td>00:00:00</td>\n",
       "      <td>NaN</td>\n",
       "      <td>0.00</td>\n",
       "      <td>0.0</td>\n",
       "      <td>0.0</td>\n",
       "    </tr>\n",
       "  </tbody>\n",
       "</table>\n",
       "</div>"
      ],
      "text/plain": [
       "   Unnamed: 0  Unnamed: 0.1      n_nota  consequencia       n_ordem rank  \\\n",
       "0           0             0  1001950445             1           NaN  NaN   \n",
       "1           1             1  1001950446             1  5.000116e+09  NaN   \n",
       "2           2             2  1001950447             1  5.000116e+09  NaN   \n",
       "3           3             3  1001950448             1           NaN  NaN   \n",
       "4           4             4  1001950616             1  5.000116e+09  NaN   \n",
       "\n",
       "  centro_custo    equipamento data_inicio hora_inicio hora_ordem  hora_fim  \\\n",
       "0      25B1112  Equipamento 1  2015-01-12    09:08:06   00:00:00  00:00:00   \n",
       "1      25B1112  Equipamento 1  2015-01-12    09:10:07   10:17:52  00:00:00   \n",
       "2      25B1112  Equipamento 1  2015-01-12    09:12:02   10:16:03  00:00:00   \n",
       "3      25B1112  Equipamento 1  2015-01-12    09:12:48   00:00:00  00:00:00   \n",
       "4      25B1112  Equipamento 1  2015-01-12    14:34:16   21:15:20  00:00:00   \n",
       "\n",
       "  data_fim  custo_de_pecas  tempo_real  tempo_manutencao  \n",
       "0      NaN            0.00         0.0               0.0  \n",
       "1      NaN            0.00         0.0               0.0  \n",
       "2      NaN          601.89         0.0               0.0  \n",
       "3      NaN            0.00         0.0               0.0  \n",
       "4      NaN            0.00         0.0               0.0  "
      ]
     },
     "execution_count": 3,
     "metadata": {},
     "output_type": "execute_result"
    }
   ],
   "source": [
    "df.head()"
   ]
  },
  {
   "cell_type": "markdown",
   "id": "81741a3b-b04f-4068-8166-58909bd37664",
   "metadata": {},
   "source": [
    "Verificando o número de NA's:"
   ]
  },
  {
   "cell_type": "code",
   "execution_count": 4,
   "id": "f1d4aed8-e60b-43f3-8dc9-5341d091b6b9",
   "metadata": {},
   "outputs": [
    {
     "data": {
      "text/plain": [
       "Unnamed: 0              0\n",
       "Unnamed: 0.1            0\n",
       "n_nota                  0\n",
       "consequencia            0\n",
       "n_ordem             34956\n",
       "rank                56742\n",
       "centro_custo            1\n",
       "equipamento             0\n",
       "data_inicio             0\n",
       "hora_inicio             0\n",
       "hora_ordem              0\n",
       "hora_fim                0\n",
       "data_fim            47538\n",
       "custo_de_pecas          0\n",
       "tempo_real              0\n",
       "tempo_manutencao        0\n",
       "dtype: int64"
      ]
     },
     "execution_count": 4,
     "metadata": {},
     "output_type": "execute_result"
    }
   ],
   "source": [
    "df.isna().sum()"
   ]
  },
  {
   "cell_type": "markdown",
   "id": "0dc0d59d-ad9b-450c-bdcf-a7b443806a64",
   "metadata": {},
   "source": [
    "Analisando as variáveis do dataset:"
   ]
  },
  {
   "cell_type": "code",
   "execution_count": 5,
   "id": "d3515cc1-be12-472e-8ec7-4d55949bf624",
   "metadata": {},
   "outputs": [
    {
     "data": {
      "text/html": [
       "<div>\n",
       "<style scoped>\n",
       "    .dataframe tbody tr th:only-of-type {\n",
       "        vertical-align: middle;\n",
       "    }\n",
       "\n",
       "    .dataframe tbody tr th {\n",
       "        vertical-align: top;\n",
       "    }\n",
       "\n",
       "    .dataframe thead th {\n",
       "        text-align: right;\n",
       "    }\n",
       "</style>\n",
       "<table border=\"1\" class=\"dataframe\">\n",
       "  <thead>\n",
       "    <tr style=\"text-align: right;\">\n",
       "      <th></th>\n",
       "      <th>Unnamed: 0</th>\n",
       "      <th>Unnamed: 0.1</th>\n",
       "      <th>n_nota</th>\n",
       "      <th>consequencia</th>\n",
       "      <th>n_ordem</th>\n",
       "      <th>custo_de_pecas</th>\n",
       "      <th>tempo_real</th>\n",
       "      <th>tempo_manutencao</th>\n",
       "    </tr>\n",
       "  </thead>\n",
       "  <tbody>\n",
       "    <tr>\n",
       "      <th>count</th>\n",
       "      <td>259534.000000</td>\n",
       "      <td>259534.000000</td>\n",
       "      <td>2.595340e+05</td>\n",
       "      <td>259534.000000</td>\n",
       "      <td>2.245780e+05</td>\n",
       "      <td>259534.000000</td>\n",
       "      <td>259534.000000</td>\n",
       "      <td>259534.000000</td>\n",
       "    </tr>\n",
       "    <tr>\n",
       "      <th>mean</th>\n",
       "      <td>129766.500000</td>\n",
       "      <td>129766.500000</td>\n",
       "      <td>1.002848e+09</td>\n",
       "      <td>1.574653</td>\n",
       "      <td>5.000238e+09</td>\n",
       "      <td>147.853444</td>\n",
       "      <td>81.237776</td>\n",
       "      <td>50.355905</td>\n",
       "    </tr>\n",
       "    <tr>\n",
       "      <th>std</th>\n",
       "      <td>74921.156719</td>\n",
       "      <td>74921.156719</td>\n",
       "      <td>4.463661e+05</td>\n",
       "      <td>0.891788</td>\n",
       "      <td>6.971077e+04</td>\n",
       "      <td>1224.174016</td>\n",
       "      <td>1932.582699</td>\n",
       "      <td>1810.054281</td>\n",
       "    </tr>\n",
       "    <tr>\n",
       "      <th>min</th>\n",
       "      <td>0.000000</td>\n",
       "      <td>0.000000</td>\n",
       "      <td>1.001950e+09</td>\n",
       "      <td>1.000000</td>\n",
       "      <td>5.000116e+09</td>\n",
       "      <td>-5052.870000</td>\n",
       "      <td>0.000000</td>\n",
       "      <td>0.000000</td>\n",
       "    </tr>\n",
       "    <tr>\n",
       "      <th>25%</th>\n",
       "      <td>64883.250000</td>\n",
       "      <td>64883.250000</td>\n",
       "      <td>1.002487e+09</td>\n",
       "      <td>1.000000</td>\n",
       "      <td>5.000177e+09</td>\n",
       "      <td>0.000000</td>\n",
       "      <td>8.600000</td>\n",
       "      <td>0.000000</td>\n",
       "    </tr>\n",
       "    <tr>\n",
       "      <th>50%</th>\n",
       "      <td>129766.500000</td>\n",
       "      <td>129766.500000</td>\n",
       "      <td>1.002910e+09</td>\n",
       "      <td>1.000000</td>\n",
       "      <td>5.000238e+09</td>\n",
       "      <td>0.000000</td>\n",
       "      <td>30.470000</td>\n",
       "      <td>7.680000</td>\n",
       "    </tr>\n",
       "    <tr>\n",
       "      <th>75%</th>\n",
       "      <td>194649.750000</td>\n",
       "      <td>194649.750000</td>\n",
       "      <td>1.003234e+09</td>\n",
       "      <td>3.000000</td>\n",
       "      <td>5.000298e+09</td>\n",
       "      <td>0.000000</td>\n",
       "      <td>75.050000</td>\n",
       "      <td>37.330000</td>\n",
       "    </tr>\n",
       "    <tr>\n",
       "      <th>max</th>\n",
       "      <td>259533.000000</td>\n",
       "      <td>259533.000000</td>\n",
       "      <td>1.003520e+09</td>\n",
       "      <td>8.000000</td>\n",
       "      <td>5.000357e+09</td>\n",
       "      <td>112617.080000</td>\n",
       "      <td>526030.950000</td>\n",
       "      <td>525942.820000</td>\n",
       "    </tr>\n",
       "  </tbody>\n",
       "</table>\n",
       "</div>"
      ],
      "text/plain": [
       "          Unnamed: 0   Unnamed: 0.1        n_nota   consequencia  \\\n",
       "count  259534.000000  259534.000000  2.595340e+05  259534.000000   \n",
       "mean   129766.500000  129766.500000  1.002848e+09       1.574653   \n",
       "std     74921.156719   74921.156719  4.463661e+05       0.891788   \n",
       "min         0.000000       0.000000  1.001950e+09       1.000000   \n",
       "25%     64883.250000   64883.250000  1.002487e+09       1.000000   \n",
       "50%    129766.500000  129766.500000  1.002910e+09       1.000000   \n",
       "75%    194649.750000  194649.750000  1.003234e+09       3.000000   \n",
       "max    259533.000000  259533.000000  1.003520e+09       8.000000   \n",
       "\n",
       "            n_ordem  custo_de_pecas     tempo_real  tempo_manutencao  \n",
       "count  2.245780e+05   259534.000000  259534.000000     259534.000000  \n",
       "mean   5.000238e+09      147.853444      81.237776         50.355905  \n",
       "std    6.971077e+04     1224.174016    1932.582699       1810.054281  \n",
       "min    5.000116e+09    -5052.870000       0.000000          0.000000  \n",
       "25%    5.000177e+09        0.000000       8.600000          0.000000  \n",
       "50%    5.000238e+09        0.000000      30.470000          7.680000  \n",
       "75%    5.000298e+09        0.000000      75.050000         37.330000  \n",
       "max    5.000357e+09   112617.080000  526030.950000     525942.820000  "
      ]
     },
     "execution_count": 5,
     "metadata": {},
     "output_type": "execute_result"
    }
   ],
   "source": [
    "df.describe()"
   ]
  },
  {
   "cell_type": "markdown",
   "id": "3cfa48f4-e390-462a-ad14-ba5ef1f4c9a8",
   "metadata": {},
   "source": [
    "## Limpeza dos dados\n",
    "\n",
    "### Exclusão de colunas e substituição dos tipos de dados. "
   ]
  },
  {
   "cell_type": "code",
   "execution_count": 6,
   "id": "ad7cfc1c-f0d5-47c7-8b2a-5ed5823f8c67",
   "metadata": {},
   "outputs": [
    {
     "name": "stdout",
     "output_type": "stream",
     "text": [
      "<class 'pandas.core.frame.DataFrame'>\n",
      "RangeIndex: 259534 entries, 0 to 259533\n",
      "Data columns (total 16 columns):\n",
      " #   Column            Non-Null Count   Dtype  \n",
      "---  ------            --------------   -----  \n",
      " 0   Unnamed: 0        259534 non-null  int64  \n",
      " 1   Unnamed: 0.1      259534 non-null  int64  \n",
      " 2   n_nota            259534 non-null  int64  \n",
      " 3   consequencia      259534 non-null  int64  \n",
      " 4   n_ordem           224578 non-null  float64\n",
      " 5   rank              202792 non-null  object \n",
      " 6   centro_custo      259533 non-null  object \n",
      " 7   equipamento       259534 non-null  object \n",
      " 8   data_inicio       259534 non-null  object \n",
      " 9   hora_inicio       259534 non-null  object \n",
      " 10  hora_ordem        259534 non-null  object \n",
      " 11  hora_fim          259534 non-null  object \n",
      " 12  data_fim          211996 non-null  object \n",
      " 13  custo_de_pecas    259534 non-null  float64\n",
      " 14  tempo_real        259534 non-null  float64\n",
      " 15  tempo_manutencao  259534 non-null  float64\n",
      "dtypes: float64(4), int64(4), object(8)\n",
      "memory usage: 31.7+ MB\n"
     ]
    }
   ],
   "source": [
    "df.info()"
   ]
  },
  {
   "cell_type": "markdown",
   "id": "5c9c6561-41ae-432d-8f5f-390e72ab094d",
   "metadata": {},
   "source": [
    "Preenchendo os NaN's da coluna rank: "
   ]
  },
  {
   "cell_type": "code",
   "execution_count": 7,
   "id": "e273af34-3e56-4f54-8e80-ac7854f34c0d",
   "metadata": {},
   "outputs": [],
   "source": [
    "df[\"rank\"].fillna(\"Sem rank\", inplace=True)"
   ]
  },
  {
   "cell_type": "markdown",
   "id": "baa48cca-eada-4b47-81bd-8dbde67d40e1",
   "metadata": {},
   "source": [
    "As colunas \"Unnamed: 0\" e \"Unnamed: 0.1\" não representam informações úteis, logo serão descartadas:"
   ]
  },
  {
   "cell_type": "code",
   "execution_count": 8,
   "id": "15ecdb80-32b9-49d7-8b8c-eaa8bb4d2391",
   "metadata": {},
   "outputs": [],
   "source": [
    "df.drop(columns=[\"Unnamed: 0\", \"Unnamed: 0.1\"], inplace=True)"
   ]
  },
  {
   "cell_type": "markdown",
   "id": "6eb2a83e-b870-4d3f-96c6-1a610739e95b",
   "metadata": {},
   "source": [
    "Transformando os valores \"00:00:00\" em NaN, uma vez que esse input é dado quando não há registro:"
   ]
  },
  {
   "cell_type": "code",
   "execution_count": 9,
   "id": "8ea301b3-4fe0-4e54-a068-9c0ffb35d3b6",
   "metadata": {},
   "outputs": [],
   "source": [
    "df[[\"hora_fim\", \"hora_ordem\"]] = df[[\"hora_fim\", \"hora_ordem\"]].replace({\"00:00:00\": np.NaN})"
   ]
  },
  {
   "cell_type": "markdown",
   "id": "8441a892-0626-4449-a620-5ec7eb855448",
   "metadata": {},
   "source": [
    "Transformando as colunas hora_ordem, data_inicio e data_fim em formato de datetime (\"%Y-%m-%d %H:%M:S\"):"
   ]
  },
  {
   "cell_type": "code",
   "execution_count": 10,
   "id": "62d43996-6e68-490d-b8ad-0507ae251735",
   "metadata": {},
   "outputs": [],
   "source": [
    "df[\"hora_ordem\"] = df[\"data_inicio\"] + \" \" + df[\"hora_ordem\"]\n",
    "df[\"data_inicio\"] = df[\"data_inicio\"] + \" \" + df[\"hora_inicio\"]\n",
    "df[\"data_fim\"] = df[\"data_fim\"] + \" \" + df[\"hora_fim\"]"
   ]
  },
  {
   "cell_type": "code",
   "execution_count": 11,
   "id": "c348da76-27be-4fc7-b2ff-7b4ddc9ed925",
   "metadata": {},
   "outputs": [],
   "source": [
    "df[\"data_fim\"] =  df[\"data_fim\"].apply(pd.to_datetime)\n",
    "df[\"data_inicio\"] = df[\"data_inicio\"].astype(\"datetime64\")\n",
    "df[\"hora_ordem\"] =  df[\"hora_ordem\"].apply(pd.to_datetime)"
   ]
  },
  {
   "cell_type": "markdown",
   "id": "bb0049a2-22b4-413c-b827-5ec3f0d2d9c9",
   "metadata": {},
   "source": [
    "Removendo as colunas \"hora_inicio\" e \"hora_fim\", uma vez que foram agregadas às colunas de data:"
   ]
  },
  {
   "cell_type": "code",
   "execution_count": 13,
   "id": "9547eeec-5026-4754-8da2-7504bd9a2bd4",
   "metadata": {},
   "outputs": [],
   "source": [
    "df.drop(columns=[\"hora_inicio\", \"hora_fim\"], inplace=True)"
   ]
  },
  {
   "cell_type": "code",
   "execution_count": 14,
   "id": "2c113ed7-9150-4cb9-8916-53dd21f77c6d",
   "metadata": {},
   "outputs": [
    {
     "data": {
      "text/html": [
       "<div>\n",
       "<style scoped>\n",
       "    .dataframe tbody tr th:only-of-type {\n",
       "        vertical-align: middle;\n",
       "    }\n",
       "\n",
       "    .dataframe tbody tr th {\n",
       "        vertical-align: top;\n",
       "    }\n",
       "\n",
       "    .dataframe thead th {\n",
       "        text-align: right;\n",
       "    }\n",
       "</style>\n",
       "<table border=\"1\" class=\"dataframe\">\n",
       "  <thead>\n",
       "    <tr style=\"text-align: right;\">\n",
       "      <th></th>\n",
       "      <th>data_fim</th>\n",
       "      <th>data_inicio</th>\n",
       "      <th>hora_ordem</th>\n",
       "    </tr>\n",
       "  </thead>\n",
       "  <tbody>\n",
       "    <tr>\n",
       "      <th>259529</th>\n",
       "      <td>2022-08-01 15:25:00</td>\n",
       "      <td>2022-08-01 14:49:20</td>\n",
       "      <td>2022-08-01 14:50:12</td>\n",
       "    </tr>\n",
       "    <tr>\n",
       "      <th>259530</th>\n",
       "      <td>2022-08-01 22:25:00</td>\n",
       "      <td>2022-08-01 22:17:46</td>\n",
       "      <td>2022-08-01 22:29:47</td>\n",
       "    </tr>\n",
       "    <tr>\n",
       "      <th>259531</th>\n",
       "      <td>2022-08-01 09:00:00</td>\n",
       "      <td>2022-08-01 08:44:52</td>\n",
       "      <td>2022-08-01 08:47:58</td>\n",
       "    </tr>\n",
       "    <tr>\n",
       "      <th>259532</th>\n",
       "      <td>2022-08-01 14:00:00</td>\n",
       "      <td>2022-08-01 13:49:15</td>\n",
       "      <td>2022-08-01 14:20:31</td>\n",
       "    </tr>\n",
       "    <tr>\n",
       "      <th>259533</th>\n",
       "      <td>2022-08-01 10:15:00</td>\n",
       "      <td>2022-08-01 10:02:42</td>\n",
       "      <td>2022-08-01 10:07:05</td>\n",
       "    </tr>\n",
       "  </tbody>\n",
       "</table>\n",
       "</div>"
      ],
      "text/plain": [
       "                   data_fim         data_inicio          hora_ordem\n",
       "259529  2022-08-01 15:25:00 2022-08-01 14:49:20 2022-08-01 14:50:12\n",
       "259530  2022-08-01 22:25:00 2022-08-01 22:17:46 2022-08-01 22:29:47\n",
       "259531  2022-08-01 09:00:00 2022-08-01 08:44:52 2022-08-01 08:47:58\n",
       "259532  2022-08-01 14:00:00 2022-08-01 13:49:15 2022-08-01 14:20:31\n",
       "259533  2022-08-01 10:15:00 2022-08-01 10:02:42 2022-08-01 10:07:05"
      ]
     },
     "execution_count": 14,
     "metadata": {},
     "output_type": "execute_result"
    }
   ],
   "source": [
    "df[[\"data_fim\", \"data_inicio\", \"hora_ordem\"]].tail()"
   ]
  },
  {
   "cell_type": "markdown",
   "id": "e17b8492-f266-4138-beb0-3f662216448c",
   "metadata": {},
   "source": [
    "# Análise"
   ]
  },
  {
   "cell_type": "markdown",
   "id": "95a2d4fb-5dd9-49ad-9a60-541a60594522",
   "metadata": {},
   "source": [
    "## Análise 1 - Identificar os 3 equipamentos que mais tiveram gasto de manutenção por ano."
   ]
  },
  {
   "cell_type": "code",
   "execution_count": 15,
   "id": "0261c9e2-8360-41d2-98f0-62a295e5018c",
   "metadata": {},
   "outputs": [],
   "source": [
    "df_custo_total = df.groupby([df[\"data_inicio\"].dt.year, \"equipamento\"])[\"custo_de_pecas\"].sum().to_frame().reset_index()"
   ]
  },
  {
   "cell_type": "code",
   "execution_count": 16,
   "id": "403cdc99-6a4a-47a9-9d6a-b503df34e8e1",
   "metadata": {},
   "outputs": [],
   "source": [
    "df_custo_total2 = pd.concat([df_custo_total[df_custo_total[\"data_inicio\"] == 2015].sort_values(\"custo_de_pecas\" ,ascending=False)[0:3],\n",
    "                            df_custo_total[df_custo_total[\"data_inicio\"] == 2016].sort_values(\"custo_de_pecas\" ,ascending=False)[0:3],\n",
    "                           df_custo_total[df_custo_total[\"data_inicio\"] == 2017].sort_values(\"custo_de_pecas\" ,ascending=False)[0:3],\n",
    "                           df_custo_total[df_custo_total[\"data_inicio\"] == 2018].sort_values(\"custo_de_pecas\" ,ascending=False)[0:3],\n",
    "                            df_custo_total[df_custo_total[\"data_inicio\"] == 2019].sort_values(\"custo_de_pecas\" ,ascending=False)[0:3],\n",
    "                            df_custo_total[df_custo_total[\"data_inicio\"] == 2020].sort_values(\"custo_de_pecas\" ,ascending=False)[0:3],\n",
    "                            df_custo_total[df_custo_total[\"data_inicio\"] == 2021].sort_values(\"custo_de_pecas\" ,ascending=False)[0:3]])"
   ]
  },
  {
   "cell_type": "code",
   "execution_count": 17,
   "id": "ca46c7c4-65da-46de-9bef-626b6090e09e",
   "metadata": {},
   "outputs": [],
   "source": [
    "df_custo_total2[\"data_inicio\"] = df_custo_total2[\"data_inicio\"].astype(str)\n",
    "df_custo_total2.rename(columns={\"data_inicio\": \"Ano\"}, inplace=True)"
   ]
  },
  {
   "cell_type": "code",
   "execution_count": 19,
   "id": "6fb89101-7013-44de-a196-cd6ecfcbdd71",
   "metadata": {},
   "outputs": [
    {
     "data": {
      "application/vnd.plotly.v1+json": {
       "config": {
        "plotlyServerURL": "https://plot.ly"
       },
       "data": [
        {
         "alignmentgroup": "True",
         "hovertemplate": "equipamento=Equipamento 1<br>Ano=%{x}<br>custo_de_pecas=%{y}<extra></extra>",
         "legendgroup": "Equipamento 1",
         "marker": {
          "color": "#e2d9e2",
          "pattern": {
           "shape": ""
          }
         },
         "name": "Equipamento 1",
         "offsetgroup": "Equipamento 1",
         "orientation": "v",
         "showlegend": true,
         "textposition": "auto",
         "type": "bar",
         "x": [
          "2015",
          "2018",
          "2019",
          "2021"
         ],
         "xaxis": "x",
         "y": [
          245904.3,
          215239.36000000002,
          272023.33,
          179013.28
         ],
         "yaxis": "y"
        },
        {
         "alignmentgroup": "True",
         "hovertemplate": "equipamento=Equipamento 76<br>Ano=%{x}<br>custo_de_pecas=%{y}<extra></extra>",
         "legendgroup": "Equipamento 76",
         "marker": {
          "color": "#9ebbc9",
          "pattern": {
           "shape": ""
          }
         },
         "name": "Equipamento 76",
         "offsetgroup": "Equipamento 76",
         "orientation": "v",
         "showlegend": true,
         "textposition": "auto",
         "type": "bar",
         "x": [
          "2015",
          "2016",
          "2017",
          "2018",
          "2019",
          "2020",
          "2021"
         ],
         "xaxis": "x",
         "y": [
          222361.68,
          163844.88,
          260261.45,
          501842.14999999997,
          235733.25,
          233057.47999999998,
          280976.94
         ],
         "yaxis": "y"
        },
        {
         "alignmentgroup": "True",
         "hovertemplate": "equipamento=Equipamento 4<br>Ano=%{x}<br>custo_de_pecas=%{y}<extra></extra>",
         "legendgroup": "Equipamento 4",
         "marker": {
          "color": "#6785be",
          "pattern": {
           "shape": ""
          }
         },
         "name": "Equipamento 4",
         "offsetgroup": "Equipamento 4",
         "orientation": "v",
         "showlegend": true,
         "textposition": "auto",
         "type": "bar",
         "x": [
          "2015",
          "2017"
         ],
         "xaxis": "x",
         "y": [
          146215.07,
          181417.65
         ],
         "yaxis": "y"
        },
        {
         "alignmentgroup": "True",
         "hovertemplate": "equipamento=Equipamento 32<br>Ano=%{x}<br>custo_de_pecas=%{y}<extra></extra>",
         "legendgroup": "Equipamento 32",
         "marker": {
          "color": "#5e43a5",
          "pattern": {
           "shape": ""
          }
         },
         "name": "Equipamento 32",
         "offsetgroup": "Equipamento 32",
         "orientation": "v",
         "showlegend": true,
         "textposition": "auto",
         "type": "bar",
         "x": [
          "2016"
         ],
         "xaxis": "x",
         "y": [
          159379.97
         ],
         "yaxis": "y"
        },
        {
         "alignmentgroup": "True",
         "hovertemplate": "equipamento=Equipamento 9<br>Ano=%{x}<br>custo_de_pecas=%{y}<extra></extra>",
         "legendgroup": "Equipamento 9",
         "marker": {
          "color": "#421257",
          "pattern": {
           "shape": ""
          }
         },
         "name": "Equipamento 9",
         "offsetgroup": "Equipamento 9",
         "orientation": "v",
         "showlegend": true,
         "textposition": "auto",
         "type": "bar",
         "x": [
          "2016"
         ],
         "xaxis": "x",
         "y": [
          140408.77
         ],
         "yaxis": "y"
        },
        {
         "alignmentgroup": "True",
         "hovertemplate": "equipamento=Equipamento 70<br>Ano=%{x}<br>custo_de_pecas=%{y}<extra></extra>",
         "legendgroup": "Equipamento 70",
         "marker": {
          "color": "#471340",
          "pattern": {
           "shape": ""
          }
         },
         "name": "Equipamento 70",
         "offsetgroup": "Equipamento 70",
         "orientation": "v",
         "showlegend": true,
         "textposition": "auto",
         "type": "bar",
         "x": [
          "2017"
         ],
         "xaxis": "x",
         "y": [
          224412.43
         ],
         "yaxis": "y"
        },
        {
         "alignmentgroup": "True",
         "hovertemplate": "equipamento=Equipamento 88<br>Ano=%{x}<br>custo_de_pecas=%{y}<extra></extra>",
         "legendgroup": "Equipamento 88",
         "marker": {
          "color": "#8e2c50",
          "pattern": {
           "shape": ""
          }
         },
         "name": "Equipamento 88",
         "offsetgroup": "Equipamento 88",
         "orientation": "v",
         "showlegend": true,
         "textposition": "auto",
         "type": "bar",
         "x": [
          "2018",
          "2019"
         ],
         "xaxis": "x",
         "y": [
          202059.27,
          144831.12
         ],
         "yaxis": "y"
        },
        {
         "alignmentgroup": "True",
         "hovertemplate": "equipamento=Equipamento 168<br>Ano=%{x}<br>custo_de_pecas=%{y}<extra></extra>",
         "legendgroup": "Equipamento 168",
         "marker": {
          "color": "#ba6657",
          "pattern": {
           "shape": ""
          }
         },
         "name": "Equipamento 168",
         "offsetgroup": "Equipamento 168",
         "orientation": "v",
         "showlegend": true,
         "textposition": "auto",
         "type": "bar",
         "x": [
          "2020"
         ],
         "xaxis": "x",
         "y": [
          157593.49000000002
         ],
         "yaxis": "y"
        },
        {
         "alignmentgroup": "True",
         "hovertemplate": "equipamento=Equipamento 12<br>Ano=%{x}<br>custo_de_pecas=%{y}<extra></extra>",
         "legendgroup": "Equipamento 12",
         "marker": {
          "color": "#ceac94",
          "pattern": {
           "shape": ""
          }
         },
         "name": "Equipamento 12",
         "offsetgroup": "Equipamento 12",
         "orientation": "v",
         "showlegend": true,
         "textposition": "auto",
         "type": "bar",
         "x": [
          "2020",
          "2021"
         ],
         "xaxis": "x",
         "y": [
          151202.86,
          180981.47
         ],
         "yaxis": "y"
        }
       ],
       "layout": {
        "autosize": true,
        "barmode": "relative",
        "legend": {
         "title": {
          "text": "equipamento"
         },
         "tracegroupgap": 0
        },
        "template": {
         "data": {
          "bar": [
           {
            "error_x": {
             "color": "#2a3f5f"
            },
            "error_y": {
             "color": "#2a3f5f"
            },
            "marker": {
             "line": {
              "color": "#E5ECF6",
              "width": 0.5
             },
             "pattern": {
              "fillmode": "overlay",
              "size": 10,
              "solidity": 0.2
             }
            },
            "type": "bar"
           }
          ],
          "barpolar": [
           {
            "marker": {
             "line": {
              "color": "#E5ECF6",
              "width": 0.5
             },
             "pattern": {
              "fillmode": "overlay",
              "size": 10,
              "solidity": 0.2
             }
            },
            "type": "barpolar"
           }
          ],
          "carpet": [
           {
            "aaxis": {
             "endlinecolor": "#2a3f5f",
             "gridcolor": "white",
             "linecolor": "white",
             "minorgridcolor": "white",
             "startlinecolor": "#2a3f5f"
            },
            "baxis": {
             "endlinecolor": "#2a3f5f",
             "gridcolor": "white",
             "linecolor": "white",
             "minorgridcolor": "white",
             "startlinecolor": "#2a3f5f"
            },
            "type": "carpet"
           }
          ],
          "choropleth": [
           {
            "colorbar": {
             "outlinewidth": 0,
             "ticks": ""
            },
            "type": "choropleth"
           }
          ],
          "contour": [
           {
            "colorbar": {
             "outlinewidth": 0,
             "ticks": ""
            },
            "colorscale": [
             [
              0,
              "#0d0887"
             ],
             [
              0.1111111111111111,
              "#46039f"
             ],
             [
              0.2222222222222222,
              "#7201a8"
             ],
             [
              0.3333333333333333,
              "#9c179e"
             ],
             [
              0.4444444444444444,
              "#bd3786"
             ],
             [
              0.5555555555555556,
              "#d8576b"
             ],
             [
              0.6666666666666666,
              "#ed7953"
             ],
             [
              0.7777777777777778,
              "#fb9f3a"
             ],
             [
              0.8888888888888888,
              "#fdca26"
             ],
             [
              1,
              "#f0f921"
             ]
            ],
            "type": "contour"
           }
          ],
          "contourcarpet": [
           {
            "colorbar": {
             "outlinewidth": 0,
             "ticks": ""
            },
            "type": "contourcarpet"
           }
          ],
          "heatmap": [
           {
            "colorbar": {
             "outlinewidth": 0,
             "ticks": ""
            },
            "colorscale": [
             [
              0,
              "#0d0887"
             ],
             [
              0.1111111111111111,
              "#46039f"
             ],
             [
              0.2222222222222222,
              "#7201a8"
             ],
             [
              0.3333333333333333,
              "#9c179e"
             ],
             [
              0.4444444444444444,
              "#bd3786"
             ],
             [
              0.5555555555555556,
              "#d8576b"
             ],
             [
              0.6666666666666666,
              "#ed7953"
             ],
             [
              0.7777777777777778,
              "#fb9f3a"
             ],
             [
              0.8888888888888888,
              "#fdca26"
             ],
             [
              1,
              "#f0f921"
             ]
            ],
            "type": "heatmap"
           }
          ],
          "heatmapgl": [
           {
            "colorbar": {
             "outlinewidth": 0,
             "ticks": ""
            },
            "colorscale": [
             [
              0,
              "#0d0887"
             ],
             [
              0.1111111111111111,
              "#46039f"
             ],
             [
              0.2222222222222222,
              "#7201a8"
             ],
             [
              0.3333333333333333,
              "#9c179e"
             ],
             [
              0.4444444444444444,
              "#bd3786"
             ],
             [
              0.5555555555555556,
              "#d8576b"
             ],
             [
              0.6666666666666666,
              "#ed7953"
             ],
             [
              0.7777777777777778,
              "#fb9f3a"
             ],
             [
              0.8888888888888888,
              "#fdca26"
             ],
             [
              1,
              "#f0f921"
             ]
            ],
            "type": "heatmapgl"
           }
          ],
          "histogram": [
           {
            "marker": {
             "pattern": {
              "fillmode": "overlay",
              "size": 10,
              "solidity": 0.2
             }
            },
            "type": "histogram"
           }
          ],
          "histogram2d": [
           {
            "colorbar": {
             "outlinewidth": 0,
             "ticks": ""
            },
            "colorscale": [
             [
              0,
              "#0d0887"
             ],
             [
              0.1111111111111111,
              "#46039f"
             ],
             [
              0.2222222222222222,
              "#7201a8"
             ],
             [
              0.3333333333333333,
              "#9c179e"
             ],
             [
              0.4444444444444444,
              "#bd3786"
             ],
             [
              0.5555555555555556,
              "#d8576b"
             ],
             [
              0.6666666666666666,
              "#ed7953"
             ],
             [
              0.7777777777777778,
              "#fb9f3a"
             ],
             [
              0.8888888888888888,
              "#fdca26"
             ],
             [
              1,
              "#f0f921"
             ]
            ],
            "type": "histogram2d"
           }
          ],
          "histogram2dcontour": [
           {
            "colorbar": {
             "outlinewidth": 0,
             "ticks": ""
            },
            "colorscale": [
             [
              0,
              "#0d0887"
             ],
             [
              0.1111111111111111,
              "#46039f"
             ],
             [
              0.2222222222222222,
              "#7201a8"
             ],
             [
              0.3333333333333333,
              "#9c179e"
             ],
             [
              0.4444444444444444,
              "#bd3786"
             ],
             [
              0.5555555555555556,
              "#d8576b"
             ],
             [
              0.6666666666666666,
              "#ed7953"
             ],
             [
              0.7777777777777778,
              "#fb9f3a"
             ],
             [
              0.8888888888888888,
              "#fdca26"
             ],
             [
              1,
              "#f0f921"
             ]
            ],
            "type": "histogram2dcontour"
           }
          ],
          "mesh3d": [
           {
            "colorbar": {
             "outlinewidth": 0,
             "ticks": ""
            },
            "type": "mesh3d"
           }
          ],
          "parcoords": [
           {
            "line": {
             "colorbar": {
              "outlinewidth": 0,
              "ticks": ""
             }
            },
            "type": "parcoords"
           }
          ],
          "pie": [
           {
            "automargin": true,
            "type": "pie"
           }
          ],
          "scatter": [
           {
            "fillpattern": {
             "fillmode": "overlay",
             "size": 10,
             "solidity": 0.2
            },
            "type": "scatter"
           }
          ],
          "scatter3d": [
           {
            "line": {
             "colorbar": {
              "outlinewidth": 0,
              "ticks": ""
             }
            },
            "marker": {
             "colorbar": {
              "outlinewidth": 0,
              "ticks": ""
             }
            },
            "type": "scatter3d"
           }
          ],
          "scattercarpet": [
           {
            "marker": {
             "colorbar": {
              "outlinewidth": 0,
              "ticks": ""
             }
            },
            "type": "scattercarpet"
           }
          ],
          "scattergeo": [
           {
            "marker": {
             "colorbar": {
              "outlinewidth": 0,
              "ticks": ""
             }
            },
            "type": "scattergeo"
           }
          ],
          "scattergl": [
           {
            "marker": {
             "colorbar": {
              "outlinewidth": 0,
              "ticks": ""
             }
            },
            "type": "scattergl"
           }
          ],
          "scattermapbox": [
           {
            "marker": {
             "colorbar": {
              "outlinewidth": 0,
              "ticks": ""
             }
            },
            "type": "scattermapbox"
           }
          ],
          "scatterpolar": [
           {
            "marker": {
             "colorbar": {
              "outlinewidth": 0,
              "ticks": ""
             }
            },
            "type": "scatterpolar"
           }
          ],
          "scatterpolargl": [
           {
            "marker": {
             "colorbar": {
              "outlinewidth": 0,
              "ticks": ""
             }
            },
            "type": "scatterpolargl"
           }
          ],
          "scatterternary": [
           {
            "marker": {
             "colorbar": {
              "outlinewidth": 0,
              "ticks": ""
             }
            },
            "type": "scatterternary"
           }
          ],
          "surface": [
           {
            "colorbar": {
             "outlinewidth": 0,
             "ticks": ""
            },
            "colorscale": [
             [
              0,
              "#0d0887"
             ],
             [
              0.1111111111111111,
              "#46039f"
             ],
             [
              0.2222222222222222,
              "#7201a8"
             ],
             [
              0.3333333333333333,
              "#9c179e"
             ],
             [
              0.4444444444444444,
              "#bd3786"
             ],
             [
              0.5555555555555556,
              "#d8576b"
             ],
             [
              0.6666666666666666,
              "#ed7953"
             ],
             [
              0.7777777777777778,
              "#fb9f3a"
             ],
             [
              0.8888888888888888,
              "#fdca26"
             ],
             [
              1,
              "#f0f921"
             ]
            ],
            "type": "surface"
           }
          ],
          "table": [
           {
            "cells": {
             "fill": {
              "color": "#EBF0F8"
             },
             "line": {
              "color": "white"
             }
            },
            "header": {
             "fill": {
              "color": "#C8D4E3"
             },
             "line": {
              "color": "white"
             }
            },
            "type": "table"
           }
          ]
         },
         "layout": {
          "annotationdefaults": {
           "arrowcolor": "#2a3f5f",
           "arrowhead": 0,
           "arrowwidth": 1
          },
          "autotypenumbers": "strict",
          "coloraxis": {
           "colorbar": {
            "outlinewidth": 0,
            "ticks": ""
           }
          },
          "colorscale": {
           "diverging": [
            [
             0,
             "#8e0152"
            ],
            [
             0.1,
             "#c51b7d"
            ],
            [
             0.2,
             "#de77ae"
            ],
            [
             0.3,
             "#f1b6da"
            ],
            [
             0.4,
             "#fde0ef"
            ],
            [
             0.5,
             "#f7f7f7"
            ],
            [
             0.6,
             "#e6f5d0"
            ],
            [
             0.7,
             "#b8e186"
            ],
            [
             0.8,
             "#7fbc41"
            ],
            [
             0.9,
             "#4d9221"
            ],
            [
             1,
             "#276419"
            ]
           ],
           "sequential": [
            [
             0,
             "#0d0887"
            ],
            [
             0.1111111111111111,
             "#46039f"
            ],
            [
             0.2222222222222222,
             "#7201a8"
            ],
            [
             0.3333333333333333,
             "#9c179e"
            ],
            [
             0.4444444444444444,
             "#bd3786"
            ],
            [
             0.5555555555555556,
             "#d8576b"
            ],
            [
             0.6666666666666666,
             "#ed7953"
            ],
            [
             0.7777777777777778,
             "#fb9f3a"
            ],
            [
             0.8888888888888888,
             "#fdca26"
            ],
            [
             1,
             "#f0f921"
            ]
           ],
           "sequentialminus": [
            [
             0,
             "#0d0887"
            ],
            [
             0.1111111111111111,
             "#46039f"
            ],
            [
             0.2222222222222222,
             "#7201a8"
            ],
            [
             0.3333333333333333,
             "#9c179e"
            ],
            [
             0.4444444444444444,
             "#bd3786"
            ],
            [
             0.5555555555555556,
             "#d8576b"
            ],
            [
             0.6666666666666666,
             "#ed7953"
            ],
            [
             0.7777777777777778,
             "#fb9f3a"
            ],
            [
             0.8888888888888888,
             "#fdca26"
            ],
            [
             1,
             "#f0f921"
            ]
           ]
          },
          "colorway": [
           "#636efa",
           "#EF553B",
           "#00cc96",
           "#ab63fa",
           "#FFA15A",
           "#19d3f3",
           "#FF6692",
           "#B6E880",
           "#FF97FF",
           "#FECB52"
          ],
          "font": {
           "color": "#2a3f5f"
          },
          "geo": {
           "bgcolor": "white",
           "lakecolor": "white",
           "landcolor": "#E5ECF6",
           "showlakes": true,
           "showland": true,
           "subunitcolor": "white"
          },
          "hoverlabel": {
           "align": "left"
          },
          "hovermode": "closest",
          "mapbox": {
           "style": "light"
          },
          "paper_bgcolor": "white",
          "plot_bgcolor": "#E5ECF6",
          "polar": {
           "angularaxis": {
            "gridcolor": "white",
            "linecolor": "white",
            "ticks": ""
           },
           "bgcolor": "#E5ECF6",
           "radialaxis": {
            "gridcolor": "white",
            "linecolor": "white",
            "ticks": ""
           }
          },
          "scene": {
           "xaxis": {
            "backgroundcolor": "#E5ECF6",
            "gridcolor": "white",
            "gridwidth": 2,
            "linecolor": "white",
            "showbackground": true,
            "ticks": "",
            "zerolinecolor": "white"
           },
           "yaxis": {
            "backgroundcolor": "#E5ECF6",
            "gridcolor": "white",
            "gridwidth": 2,
            "linecolor": "white",
            "showbackground": true,
            "ticks": "",
            "zerolinecolor": "white"
           },
           "zaxis": {
            "backgroundcolor": "#E5ECF6",
            "gridcolor": "white",
            "gridwidth": 2,
            "linecolor": "white",
            "showbackground": true,
            "ticks": "",
            "zerolinecolor": "white"
           }
          },
          "shapedefaults": {
           "line": {
            "color": "#2a3f5f"
           }
          },
          "ternary": {
           "aaxis": {
            "gridcolor": "white",
            "linecolor": "white",
            "ticks": ""
           },
           "baxis": {
            "gridcolor": "white",
            "linecolor": "white",
            "ticks": ""
           },
           "bgcolor": "#E5ECF6",
           "caxis": {
            "gridcolor": "white",
            "linecolor": "white",
            "ticks": ""
           }
          },
          "title": {
           "x": 0.05
          },
          "xaxis": {
           "automargin": true,
           "gridcolor": "white",
           "linecolor": "white",
           "ticks": "",
           "title": {
            "standoff": 15
           },
           "zerolinecolor": "white",
           "zerolinewidth": 2
          },
          "yaxis": {
           "automargin": true,
           "gridcolor": "white",
           "linecolor": "white",
           "ticks": "",
           "title": {
            "standoff": 15
           },
           "zerolinecolor": "white",
           "zerolinewidth": 2
          }
         }
        },
        "title": {
         "text": "Valor total de manutenção dos 3 equipamentos mais caros por ano <br><sup>Período de 2015 a 2021</sup>"
        },
        "xaxis": {
         "anchor": "y",
         "autorange": true,
         "categoryorder": "total descending",
         "domain": [
          0,
          1
         ],
         "range": [
          -0.5,
          6.5
         ],
         "title": {
          "text": "Equipamentos"
         },
         "type": "category"
        },
        "yaxis": {
         "anchor": "x",
         "autorange": true,
         "domain": [
          0,
          1
         ],
         "range": [
          0,
          967516.6105263159
         ],
         "title": {
          "text": "Custo de manutenção (R$)"
         },
         "type": "linear"
        }
       }
      },
      "image/png": "[encoded data removed]",
      "text/html": [
       "<div>                            <div id=\"7bfbb117-f56d-4409-882b-3bdfe4a7949e\" class=\"plotly-graph-div\" style=\"height:525px; width:100%;\"></div>            <script type=\"text/javascript\">                require([\"plotly\"], function(Plotly) {                    window.PLOTLYENV=window.PLOTLYENV || {};                                    if (document.getElementById(\"7bfbb117-f56d-4409-882b-3bdfe4a7949e\")) {                    Plotly.newPlot(                        \"7bfbb117-f56d-4409-882b-3bdfe4a7949e\",                        [{\"alignmentgroup\":\"True\",\"hovertemplate\":\"equipamento=Equipamento 1<br>Ano=%{x}<br>custo_de_pecas=%{y}<extra></extra>\",\"legendgroup\":\"Equipamento 1\",\"marker\":{\"color\":\"#e2d9e2\",\"pattern\":{\"shape\":\"\"}},\"name\":\"Equipamento 1\",\"offsetgroup\":\"Equipamento 1\",\"orientation\":\"v\",\"showlegend\":true,\"textposition\":\"auto\",\"x\":[\"2015\",\"2018\",\"2019\",\"2021\"],\"xaxis\":\"x\",\"y\":[245904.3,215239.36000000002,272023.33,179013.28],\"yaxis\":\"y\",\"type\":\"bar\"},{\"alignmentgroup\":\"True\",\"hovertemplate\":\"equipamento=Equipamento 76<br>Ano=%{x}<br>custo_de_pecas=%{y}<extra></extra>\",\"legendgroup\":\"Equipamento 76\",\"marker\":{\"color\":\"#9ebbc9\",\"pattern\":{\"shape\":\"\"}},\"name\":\"Equipamento 76\",\"offsetgroup\":\"Equipamento 76\",\"orientation\":\"v\",\"showlegend\":true,\"textposition\":\"auto\",\"x\":[\"2015\",\"2016\",\"2017\",\"2018\",\"2019\",\"2020\",\"2021\"],\"xaxis\":\"x\",\"y\":[222361.68,163844.88,260261.45,501842.14999999997,235733.25,233057.47999999998,280976.94],\"yaxis\":\"y\",\"type\":\"bar\"},{\"alignmentgroup\":\"True\",\"hovertemplate\":\"equipamento=Equipamento 4<br>Ano=%{x}<br>custo_de_pecas=%{y}<extra></extra>\",\"legendgroup\":\"Equipamento 4\",\"marker\":{\"color\":\"#6785be\",\"pattern\":{\"shape\":\"\"}},\"name\":\"Equipamento 4\",\"offsetgroup\":\"Equipamento 4\",\"orientation\":\"v\",\"showlegend\":true,\"textposition\":\"auto\",\"x\":[\"2015\",\"2017\"],\"xaxis\":\"x\",\"y\":[146215.07,181417.65],\"yaxis\":\"y\",\"type\":\"bar\"},{\"alignmentgroup\":\"True\",\"hovertemplate\":\"equipamento=Equipamento 32<br>Ano=%{x}<br>custo_de_pecas=%{y}<extra></extra>\",\"legendgroup\":\"Equipamento 32\",\"marker\":{\"color\":\"#5e43a5\",\"pattern\":{\"shape\":\"\"}},\"name\":\"Equipamento 32\",\"offsetgroup\":\"Equipamento 32\",\"orientation\":\"v\",\"showlegend\":true,\"textposition\":\"auto\",\"x\":[\"2016\"],\"xaxis\":\"x\",\"y\":[159379.97],\"yaxis\":\"y\",\"type\":\"bar\"},{\"alignmentgroup\":\"True\",\"hovertemplate\":\"equipamento=Equipamento 9<br>Ano=%{x}<br>custo_de_pecas=%{y}<extra></extra>\",\"legendgroup\":\"Equipamento 9\",\"marker\":{\"color\":\"#421257\",\"pattern\":{\"shape\":\"\"}},\"name\":\"Equipamento 9\",\"offsetgroup\":\"Equipamento 9\",\"orientation\":\"v\",\"showlegend\":true,\"textposition\":\"auto\",\"x\":[\"2016\"],\"xaxis\":\"x\",\"y\":[140408.77],\"yaxis\":\"y\",\"type\":\"bar\"},{\"alignmentgroup\":\"True\",\"hovertemplate\":\"equipamento=Equipamento 70<br>Ano=%{x}<br>custo_de_pecas=%{y}<extra></extra>\",\"legendgroup\":\"Equipamento 70\",\"marker\":{\"color\":\"#471340\",\"pattern\":{\"shape\":\"\"}},\"name\":\"Equipamento 70\",\"offsetgroup\":\"Equipamento 70\",\"orientation\":\"v\",\"showlegend\":true,\"textposition\":\"auto\",\"x\":[\"2017\"],\"xaxis\":\"x\",\"y\":[224412.43],\"yaxis\":\"y\",\"type\":\"bar\"},{\"alignmentgroup\":\"True\",\"hovertemplate\":\"equipamento=Equipamento 88<br>Ano=%{x}<br>custo_de_pecas=%{y}<extra></extra>\",\"legendgroup\":\"Equipamento 88\",\"marker\":{\"color\":\"#8e2c50\",\"pattern\":{\"shape\":\"\"}},\"name\":\"Equipamento 88\",\"offsetgroup\":\"Equipamento 88\",\"orientation\":\"v\",\"showlegend\":true,\"textposition\":\"auto\",\"x\":[\"2018\",\"2019\"],\"xaxis\":\"x\",\"y\":[202059.27,144831.12],\"yaxis\":\"y\",\"type\":\"bar\"},{\"alignmentgroup\":\"True\",\"hovertemplate\":\"equipamento=Equipamento 168<br>Ano=%{x}<br>custo_de_pecas=%{y}<extra></extra>\",\"legendgroup\":\"Equipamento 168\",\"marker\":{\"color\":\"#ba6657\",\"pattern\":{\"shape\":\"\"}},\"name\":\"Equipamento 168\",\"offsetgroup\":\"Equipamento 168\",\"orientation\":\"v\",\"showlegend\":true,\"textposition\":\"auto\",\"x\":[\"2020\"],\"xaxis\":\"x\",\"y\":[157593.49000000002],\"yaxis\":\"y\",\"type\":\"bar\"},{\"alignmentgroup\":\"True\",\"hovertemplate\":\"equipamento=Equipamento 12<br>Ano=%{x}<br>custo_de_pecas=%{y}<extra></extra>\",\"legendgroup\":\"Equipamento 12\",\"marker\":{\"color\":\"#ceac94\",\"pattern\":{\"shape\":\"\"}},\"name\":\"Equipamento 12\",\"offsetgroup\":\"Equipamento 12\",\"orientation\":\"v\",\"showlegend\":true,\"textposition\":\"auto\",\"x\":[\"2020\",\"2021\"],\"xaxis\":\"x\",\"y\":[151202.86,180981.47],\"yaxis\":\"y\",\"type\":\"bar\"}],                        {\"template\":{\"data\":{\"histogram2dcontour\":[{\"type\":\"histogram2dcontour\",\"colorbar\":{\"outlinewidth\":0,\"ticks\":\"\"},\"colorscale\":[[0.0,\"#0d0887\"],[0.1111111111111111,\"#46039f\"],[0.2222222222222222,\"#7201a8\"],[0.3333333333333333,\"#9c179e\"],[0.4444444444444444,\"#bd3786\"],[0.5555555555555556,\"#d8576b\"],[0.6666666666666666,\"#ed7953\"],[0.7777777777777778,\"#fb9f3a\"],[0.8888888888888888,\"#fdca26\"],[1.0,\"#f0f921\"]]}],\"choropleth\":[{\"type\":\"choropleth\",\"colorbar\":{\"outlinewidth\":0,\"ticks\":\"\"}}],\"histogram2d\":[{\"type\":\"histogram2d\",\"colorbar\":{\"outlinewidth\":0,\"ticks\":\"\"},\"colorscale\":[[0.0,\"#0d0887\"],[0.1111111111111111,\"#46039f\"],[0.2222222222222222,\"#7201a8\"],[0.3333333333333333,\"#9c179e\"],[0.4444444444444444,\"#bd3786\"],[0.5555555555555556,\"#d8576b\"],[0.6666666666666666,\"#ed7953\"],[0.7777777777777778,\"#fb9f3a\"],[0.8888888888888888,\"#fdca26\"],[1.0,\"#f0f921\"]]}],\"heatmap\":[{\"type\":\"heatmap\",\"colorbar\":{\"outlinewidth\":0,\"ticks\":\"\"},\"colorscale\":[[0.0,\"#0d0887\"],[0.1111111111111111,\"#46039f\"],[0.2222222222222222,\"#7201a8\"],[0.3333333333333333,\"#9c179e\"],[0.4444444444444444,\"#bd3786\"],[0.5555555555555556,\"#d8576b\"],[0.6666666666666666,\"#ed7953\"],[0.7777777777777778,\"#fb9f3a\"],[0.8888888888888888,\"#fdca26\"],[1.0,\"#f0f921\"]]}],\"heatmapgl\":[{\"type\":\"heatmapgl\",\"colorbar\":{\"outlinewidth\":0,\"ticks\":\"\"},\"colorscale\":[[0.0,\"#0d0887\"],[0.1111111111111111,\"#46039f\"],[0.2222222222222222,\"#7201a8\"],[0.3333333333333333,\"#9c179e\"],[0.4444444444444444,\"#bd3786\"],[0.5555555555555556,\"#d8576b\"],[0.6666666666666666,\"#ed7953\"],[0.7777777777777778,\"#fb9f3a\"],[0.8888888888888888,\"#fdca26\"],[1.0,\"#f0f921\"]]}],\"contourcarpet\":[{\"type\":\"contourcarpet\",\"colorbar\":{\"outlinewidth\":0,\"ticks\":\"\"}}],\"contour\":[{\"type\":\"contour\",\"colorbar\":{\"outlinewidth\":0,\"ticks\":\"\"},\"colorscale\":[[0.0,\"#0d0887\"],[0.1111111111111111,\"#46039f\"],[0.2222222222222222,\"#7201a8\"],[0.3333333333333333,\"#9c179e\"],[0.4444444444444444,\"#bd3786\"],[0.5555555555555556,\"#d8576b\"],[0.6666666666666666,\"#ed7953\"],[0.7777777777777778,\"#fb9f3a\"],[0.8888888888888888,\"#fdca26\"],[1.0,\"#f0f921\"]]}],\"surface\":[{\"type\":\"surface\",\"colorbar\":{\"outlinewidth\":0,\"ticks\":\"\"},\"colorscale\":[[0.0,\"#0d0887\"],[0.1111111111111111,\"#46039f\"],[0.2222222222222222,\"#7201a8\"],[0.3333333333333333,\"#9c179e\"],[0.4444444444444444,\"#bd3786\"],[0.5555555555555556,\"#d8576b\"],[0.6666666666666666,\"#ed7953\"],[0.7777777777777778,\"#fb9f3a\"],[0.8888888888888888,\"#fdca26\"],[1.0,\"#f0f921\"]]}],\"mesh3d\":[{\"type\":\"mesh3d\",\"colorbar\":{\"outlinewidth\":0,\"ticks\":\"\"}}],\"scatter\":[{\"fillpattern\":{\"fillmode\":\"overlay\",\"size\":10,\"solidity\":0.2},\"type\":\"scatter\"}],\"parcoords\":[{\"type\":\"parcoords\",\"line\":{\"colorbar\":{\"outlinewidth\":0,\"ticks\":\"\"}}}],\"scatterpolargl\":[{\"type\":\"scatterpolargl\",\"marker\":{\"colorbar\":{\"outlinewidth\":0,\"ticks\":\"\"}}}],\"bar\":[{\"error_x\":{\"color\":\"#2a3f5f\"},\"error_y\":{\"color\":\"#2a3f5f\"},\"marker\":{\"line\":{\"color\":\"#E5ECF6\",\"width\":0.5},\"pattern\":{\"fillmode\":\"overlay\",\"size\":10,\"solidity\":0.2}},\"type\":\"bar\"}],\"scattergeo\":[{\"type\":\"scattergeo\",\"marker\":{\"colorbar\":{\"outlinewidth\":0,\"ticks\":\"\"}}}],\"scatterpolar\":[{\"type\":\"scatterpolar\",\"marker\":{\"colorbar\":{\"outlinewidth\":0,\"ticks\":\"\"}}}],\"histogram\":[{\"marker\":{\"pattern\":{\"fillmode\":\"overlay\",\"size\":10,\"solidity\":0.2}},\"type\":\"histogram\"}],\"scattergl\":[{\"type\":\"scattergl\",\"marker\":{\"colorbar\":{\"outlinewidth\":0,\"ticks\":\"\"}}}],\"scatter3d\":[{\"type\":\"scatter3d\",\"line\":{\"colorbar\":{\"outlinewidth\":0,\"ticks\":\"\"}},\"marker\":{\"colorbar\":{\"outlinewidth\":0,\"ticks\":\"\"}}}],\"scattermapbox\":[{\"type\":\"scattermapbox\",\"marker\":{\"colorbar\":{\"outlinewidth\":0,\"ticks\":\"\"}}}],\"scatterternary\":[{\"type\":\"scatterternary\",\"marker\":{\"colorbar\":{\"outlinewidth\":0,\"ticks\":\"\"}}}],\"scattercarpet\":[{\"type\":\"scattercarpet\",\"marker\":{\"colorbar\":{\"outlinewidth\":0,\"ticks\":\"\"}}}],\"carpet\":[{\"aaxis\":{\"endlinecolor\":\"#2a3f5f\",\"gridcolor\":\"white\",\"linecolor\":\"white\",\"minorgridcolor\":\"white\",\"startlinecolor\":\"#2a3f5f\"},\"baxis\":{\"endlinecolor\":\"#2a3f5f\",\"gridcolor\":\"white\",\"linecolor\":\"white\",\"minorgridcolor\":\"white\",\"startlinecolor\":\"#2a3f5f\"},\"type\":\"carpet\"}],\"table\":[{\"cells\":{\"fill\":{\"color\":\"#EBF0F8\"},\"line\":{\"color\":\"white\"}},\"header\":{\"fill\":{\"color\":\"#C8D4E3\"},\"line\":{\"color\":\"white\"}},\"type\":\"table\"}],\"barpolar\":[{\"marker\":{\"line\":{\"color\":\"#E5ECF6\",\"width\":0.5},\"pattern\":{\"fillmode\":\"overlay\",\"size\":10,\"solidity\":0.2}},\"type\":\"barpolar\"}],\"pie\":[{\"automargin\":true,\"type\":\"pie\"}]},\"layout\":{\"autotypenumbers\":\"strict\",\"colorway\":[\"#636efa\",\"#EF553B\",\"#00cc96\",\"#ab63fa\",\"#FFA15A\",\"#19d3f3\",\"#FF6692\",\"#B6E880\",\"#FF97FF\",\"#FECB52\"],\"font\":{\"color\":\"#2a3f5f\"},\"hovermode\":\"closest\",\"hoverlabel\":{\"align\":\"left\"},\"paper_bgcolor\":\"white\",\"plot_bgcolor\":\"#E5ECF6\",\"polar\":{\"bgcolor\":\"#E5ECF6\",\"angularaxis\":{\"gridcolor\":\"white\",\"linecolor\":\"white\",\"ticks\":\"\"},\"radialaxis\":{\"gridcolor\":\"white\",\"linecolor\":\"white\",\"ticks\":\"\"}},\"ternary\":{\"bgcolor\":\"#E5ECF6\",\"aaxis\":{\"gridcolor\":\"white\",\"linecolor\":\"white\",\"ticks\":\"\"},\"baxis\":{\"gridcolor\":\"white\",\"linecolor\":\"white\",\"ticks\":\"\"},\"caxis\":{\"gridcolor\":\"white\",\"linecolor\":\"white\",\"ticks\":\"\"}},\"coloraxis\":{\"colorbar\":{\"outlinewidth\":0,\"ticks\":\"\"}},\"colorscale\":{\"sequential\":[[0.0,\"#0d0887\"],[0.1111111111111111,\"#46039f\"],[0.2222222222222222,\"#7201a8\"],[0.3333333333333333,\"#9c179e\"],[0.4444444444444444,\"#bd3786\"],[0.5555555555555556,\"#d8576b\"],[0.6666666666666666,\"#ed7953\"],[0.7777777777777778,\"#fb9f3a\"],[0.8888888888888888,\"#fdca26\"],[1.0,\"#f0f921\"]],\"sequentialminus\":[[0.0,\"#0d0887\"],[0.1111111111111111,\"#46039f\"],[0.2222222222222222,\"#7201a8\"],[0.3333333333333333,\"#9c179e\"],[0.4444444444444444,\"#bd3786\"],[0.5555555555555556,\"#d8576b\"],[0.6666666666666666,\"#ed7953\"],[0.7777777777777778,\"#fb9f3a\"],[0.8888888888888888,\"#fdca26\"],[1.0,\"#f0f921\"]],\"diverging\":[[0,\"#8e0152\"],[0.1,\"#c51b7d\"],[0.2,\"#de77ae\"],[0.3,\"#f1b6da\"],[0.4,\"#fde0ef\"],[0.5,\"#f7f7f7\"],[0.6,\"#e6f5d0\"],[0.7,\"#b8e186\"],[0.8,\"#7fbc41\"],[0.9,\"#4d9221\"],[1,\"#276419\"]]},\"xaxis\":{\"gridcolor\":\"white\",\"linecolor\":\"white\",\"ticks\":\"\",\"title\":{\"standoff\":15},\"zerolinecolor\":\"white\",\"automargin\":true,\"zerolinewidth\":2},\"yaxis\":{\"gridcolor\":\"white\",\"linecolor\":\"white\",\"ticks\":\"\",\"title\":{\"standoff\":15},\"zerolinecolor\":\"white\",\"automargin\":true,\"zerolinewidth\":2},\"scene\":{\"xaxis\":{\"backgroundcolor\":\"#E5ECF6\",\"gridcolor\":\"white\",\"linecolor\":\"white\",\"showbackground\":true,\"ticks\":\"\",\"zerolinecolor\":\"white\",\"gridwidth\":2},\"yaxis\":{\"backgroundcolor\":\"#E5ECF6\",\"gridcolor\":\"white\",\"linecolor\":\"white\",\"showbackground\":true,\"ticks\":\"\",\"zerolinecolor\":\"white\",\"gridwidth\":2},\"zaxis\":{\"backgroundcolor\":\"#E5ECF6\",\"gridcolor\":\"white\",\"linecolor\":\"white\",\"showbackground\":true,\"ticks\":\"\",\"zerolinecolor\":\"white\",\"gridwidth\":2}},\"shapedefaults\":{\"line\":{\"color\":\"#2a3f5f\"}},\"annotationdefaults\":{\"arrowcolor\":\"#2a3f5f\",\"arrowhead\":0,\"arrowwidth\":1},\"geo\":{\"bgcolor\":\"white\",\"landcolor\":\"#E5ECF6\",\"subunitcolor\":\"white\",\"showland\":true,\"showlakes\":true,\"lakecolor\":\"white\"},\"title\":{\"x\":0.05},\"mapbox\":{\"style\":\"light\"}}},\"xaxis\":{\"anchor\":\"y\",\"domain\":[0.0,1.0],\"title\":{\"text\":\"Equipamentos\"},\"categoryorder\":\"total descending\"},\"yaxis\":{\"anchor\":\"x\",\"domain\":[0.0,1.0],\"title\":{\"text\":\"Custo de manuten\\u00e7\\u00e3o (R$)\"}},\"legend\":{\"title\":{\"text\":\"equipamento\"},\"tracegroupgap\":0},\"title\":{\"text\":\"Valor total de manuten\\u00e7\\u00e3o dos 3 equipamentos mais caros por ano <br><sup>Per\\u00edodo de 2015 a 2021</sup>\"},\"barmode\":\"relative\"},                        {\"responsive\": true}                    ).then(function(){\n",
       "                            \n",
       "var gd = document.getElementById('7bfbb117-f56d-4409-882b-3bdfe4a7949e');\n",
       "var x = new MutationObserver(function (mutations, observer) {{\n",
       "        var display = window.getComputedStyle(gd).display;\n",
       "        if (!display || display === 'none') {{\n",
       "            console.log([gd, 'removed!']);\n",
       "            Plotly.purge(gd);\n",
       "            observer.disconnect();\n",
       "        }}\n",
       "}});\n",
       "\n",
       "// Listen for the removal of the full notebook cells\n",
       "var notebookContainer = gd.closest('#notebook-container');\n",
       "if (notebookContainer) {{\n",
       "    x.observe(notebookContainer, {childList: true});\n",
       "}}\n",
       "\n",
       "// Listen for the clearing of the current output cell\n",
       "var outputEl = gd.closest('.output');\n",
       "if (outputEl) {{\n",
       "    x.observe(outputEl, {childList: true});\n",
       "}}\n",
       "\n",
       "                        })                };                });            </script>        </div>"
      ]
     },
     "metadata": {},
     "output_type": "display_data"
    }
   ],
   "source": [
    "fig = px.bar(data_frame=df_custo_total2, x= \"Ano\", y= \"custo_de_pecas\", color=\"equipamento\", title= \"Valor total de manutenção dos 3 equipamentos mais caros por ano <br><sup>Período de 2015 a 2021</sup>\", color_discrete_sequence=px.colors.cyclical.Twilight)\n",
    "fig.update_layout(xaxis={'categoryorder':'total descending'}, xaxis_title=\"Equipamentos\", yaxis_title=\"Custo de manutenção (R$)\")\n",
    "fig.show()"
   ]
  },
  {
   "cell_type": "code",
   "execution_count": 20,
   "id": "27193013-92f6-4b8e-a32c-781084f82a40",
   "metadata": {},
   "outputs": [
    {
     "data": {
      "text/html": [
       "<div>\n",
       "<style scoped>\n",
       "    .dataframe tbody tr th:only-of-type {\n",
       "        vertical-align: middle;\n",
       "    }\n",
       "\n",
       "    .dataframe tbody tr th {\n",
       "        vertical-align: top;\n",
       "    }\n",
       "\n",
       "    .dataframe thead th {\n",
       "        text-align: right;\n",
       "    }\n",
       "</style>\n",
       "<table border=\"1\" class=\"dataframe\">\n",
       "  <thead>\n",
       "    <tr style=\"text-align: right;\">\n",
       "      <th></th>\n",
       "      <th>Ano</th>\n",
       "      <th>equipamento</th>\n",
       "      <th>custo_de_pecas</th>\n",
       "    </tr>\n",
       "  </thead>\n",
       "  <tbody>\n",
       "    <tr>\n",
       "      <th>0</th>\n",
       "      <td>2015</td>\n",
       "      <td>Equipamento 1</td>\n",
       "      <td>245904.30</td>\n",
       "    </tr>\n",
       "    <tr>\n",
       "      <th>127</th>\n",
       "      <td>2015</td>\n",
       "      <td>Equipamento 76</td>\n",
       "      <td>222361.68</td>\n",
       "    </tr>\n",
       "    <tr>\n",
       "      <th>87</th>\n",
       "      <td>2015</td>\n",
       "      <td>Equipamento 4</td>\n",
       "      <td>146215.07</td>\n",
       "    </tr>\n",
       "    <tr>\n",
       "      <th>300</th>\n",
       "      <td>2016</td>\n",
       "      <td>Equipamento 76</td>\n",
       "      <td>163844.88</td>\n",
       "    </tr>\n",
       "    <tr>\n",
       "      <th>252</th>\n",
       "      <td>2016</td>\n",
       "      <td>Equipamento 32</td>\n",
       "      <td>159379.97</td>\n",
       "    </tr>\n",
       "    <tr>\n",
       "      <th>315</th>\n",
       "      <td>2016</td>\n",
       "      <td>Equipamento 9</td>\n",
       "      <td>140408.77</td>\n",
       "    </tr>\n",
       "    <tr>\n",
       "      <th>498</th>\n",
       "      <td>2017</td>\n",
       "      <td>Equipamento 76</td>\n",
       "      <td>260261.45</td>\n",
       "    </tr>\n",
       "    <tr>\n",
       "      <th>492</th>\n",
       "      <td>2017</td>\n",
       "      <td>Equipamento 70</td>\n",
       "      <td>224412.43</td>\n",
       "    </tr>\n",
       "    <tr>\n",
       "      <th>458</th>\n",
       "      <td>2017</td>\n",
       "      <td>Equipamento 4</td>\n",
       "      <td>181417.65</td>\n",
       "    </tr>\n",
       "    <tr>\n",
       "      <th>699</th>\n",
       "      <td>2018</td>\n",
       "      <td>Equipamento 76</td>\n",
       "      <td>501842.15</td>\n",
       "    </tr>\n",
       "    <tr>\n",
       "      <th>524</th>\n",
       "      <td>2018</td>\n",
       "      <td>Equipamento 1</td>\n",
       "      <td>215239.36</td>\n",
       "    </tr>\n",
       "    <tr>\n",
       "      <th>712</th>\n",
       "      <td>2018</td>\n",
       "      <td>Equipamento 88</td>\n",
       "      <td>202059.27</td>\n",
       "    </tr>\n",
       "    <tr>\n",
       "      <th>725</th>\n",
       "      <td>2019</td>\n",
       "      <td>Equipamento 1</td>\n",
       "      <td>272023.33</td>\n",
       "    </tr>\n",
       "    <tr>\n",
       "      <th>910</th>\n",
       "      <td>2019</td>\n",
       "      <td>Equipamento 76</td>\n",
       "      <td>235733.25</td>\n",
       "    </tr>\n",
       "    <tr>\n",
       "      <th>923</th>\n",
       "      <td>2019</td>\n",
       "      <td>Equipamento 88</td>\n",
       "      <td>144831.12</td>\n",
       "    </tr>\n",
       "    <tr>\n",
       "      <th>1127</th>\n",
       "      <td>2020</td>\n",
       "      <td>Equipamento 76</td>\n",
       "      <td>233057.48</td>\n",
       "    </tr>\n",
       "    <tr>\n",
       "      <th>996</th>\n",
       "      <td>2020</td>\n",
       "      <td>Equipamento 168</td>\n",
       "      <td>157593.49</td>\n",
       "    </tr>\n",
       "    <tr>\n",
       "      <th>955</th>\n",
       "      <td>2020</td>\n",
       "      <td>Equipamento 12</td>\n",
       "      <td>151202.86</td>\n",
       "    </tr>\n",
       "    <tr>\n",
       "      <th>1357</th>\n",
       "      <td>2021</td>\n",
       "      <td>Equipamento 76</td>\n",
       "      <td>280976.94</td>\n",
       "    </tr>\n",
       "    <tr>\n",
       "      <th>1174</th>\n",
       "      <td>2021</td>\n",
       "      <td>Equipamento 12</td>\n",
       "      <td>180981.47</td>\n",
       "    </tr>\n",
       "    <tr>\n",
       "      <th>1153</th>\n",
       "      <td>2021</td>\n",
       "      <td>Equipamento 1</td>\n",
       "      <td>179013.28</td>\n",
       "    </tr>\n",
       "  </tbody>\n",
       "</table>\n",
       "</div>"
      ],
      "text/plain": [
       "       Ano      equipamento  custo_de_pecas\n",
       "0     2015    Equipamento 1       245904.30\n",
       "127   2015   Equipamento 76       222361.68\n",
       "87    2015    Equipamento 4       146215.07\n",
       "300   2016   Equipamento 76       163844.88\n",
       "252   2016   Equipamento 32       159379.97\n",
       "315   2016    Equipamento 9       140408.77\n",
       "498   2017   Equipamento 76       260261.45\n",
       "492   2017   Equipamento 70       224412.43\n",
       "458   2017    Equipamento 4       181417.65\n",
       "699   2018   Equipamento 76       501842.15\n",
       "524   2018    Equipamento 1       215239.36\n",
       "712   2018   Equipamento 88       202059.27\n",
       "725   2019    Equipamento 1       272023.33\n",
       "910   2019   Equipamento 76       235733.25\n",
       "923   2019   Equipamento 88       144831.12\n",
       "1127  2020   Equipamento 76       233057.48\n",
       "996   2020  Equipamento 168       157593.49\n",
       "955   2020   Equipamento 12       151202.86\n",
       "1357  2021   Equipamento 76       280976.94\n",
       "1174  2021   Equipamento 12       180981.47\n",
       "1153  2021    Equipamento 1       179013.28"
      ]
     },
     "execution_count": 20,
     "metadata": {},
     "output_type": "execute_result"
    }
   ],
   "source": [
    "df_custo_total2"
   ]
  },
  {
   "cell_type": "code",
   "execution_count": 21,
   "id": "e1281467-3737-4007-89aa-6ce44c633755",
   "metadata": {},
   "outputs": [
    {
     "data": {
      "image/png": "[encoded data removed]",
      "text/plain": [
       "<Figure size 1152x360 with 1 Axes>"
      ]
     },
     "metadata": {
      "needs_background": "light"
     },
     "output_type": "display_data"
    }
   ],
   "source": [
    "plt.figure(figsize=(16,5))\n",
    "df_custo_total2.value_counts(\"equipamento\").plot(kind=\"barh\")\n",
    "plt.title(\"Frequência dos 3 equipamentos com maior custo de manutenção entre 2015 a 2021\",fontweight=\"bold\")\n",
    "plt.xlabel(\"Frequência\")\n",
    "plt.ylabel(\"Equipamento\");"
   ]
  },
  {
   "cell_type": "code",
   "execution_count": 23,
   "id": "60deebac-1391-4b88-bb0b-f0247a9a73e1",
   "metadata": {},
   "outputs": [],
   "source": [
    "df_custo_total2[\"Ano\"] = df_custo_total2[\"Ano\"].astype(int)"
   ]
  },
  {
   "cell_type": "code",
   "execution_count": 24,
   "id": "d0c4309b-5e7e-4b8a-b009-5e58257d3139",
   "metadata": {},
   "outputs": [
    {
     "data": {
      "image/png": "[encoded data removed]",
      "text/plain": [
       "<Figure size 1800x1080 with 7 Axes>"
      ]
     },
     "metadata": {
      "needs_background": "light"
     },
     "output_type": "display_data"
    }
   ],
   "source": [
    "fig = plt.figure(figsize=(25, 15))\n",
    "grid = plt.GridSpec(3, 3, hspace=0.3, wspace=0.3)\n",
    "\n",
    "a2015 = fig.add_subplot(grid[0,0])\n",
    "a2016 = fig.add_subplot(grid[0,1])\n",
    "a2017 = fig.add_subplot(grid[0,2])\n",
    "a2018 = fig.add_subplot(grid[1,0])\n",
    "a2019 = fig.add_subplot(grid[1,1])\n",
    "a2020 = fig.add_subplot(grid[1,2])\n",
    "a2021 = fig.add_subplot(grid[2, 1])\n",
    "\n",
    "# 2015\n",
    "sns.barplot(x = 'Ano', y='custo_de_pecas', \n",
    "               hue = 'equipamento',data=df_custo_total2[df_custo_total2[\"Ano\"] == 2015] ,ax=a2015)\n",
    "a2015.set_xlabel(\"Ano\")\n",
    "a2015.set_ylabel(\"Custo de manutenção (R$)\")\n",
    "a2015.set_title(\"Equipamentos com maior custo de manutenção em 2015\", fontweight=\"bold\")\n",
    "\n",
    "# 2016\n",
    "sns.barplot(x = 'Ano', y='custo_de_pecas', \n",
    "               hue = 'equipamento',data=df_custo_total2[df_custo_total2[\"Ano\"] == 2016] ,ax=a2016)\n",
    "a2016.set_xlabel(\"Ano\")\n",
    "a2016.set_ylabel(\"Custo de manutenção (R$)\")\n",
    "a2016.set_title(\"Equipamentos com maior custo de manutenção em 2016\", fontweight=\"bold\")\n",
    "\n",
    "# 2016\n",
    "sns.barplot(x = 'Ano', y='custo_de_pecas', \n",
    "               hue = 'equipamento',data=df_custo_total2[df_custo_total2[\"Ano\"] == 2017] ,ax=a2017)\n",
    "a2017.set_xlabel(\"Ano\")\n",
    "a2017.set_ylabel(\"Custo de manutenção (R$)\")\n",
    "a2017.set_title(\"Equipamentos com maior custo de manutenção em 2017\",fontweight=\"bold\")\n",
    "\n",
    "# 2016\n",
    "sns.barplot(x = 'Ano', y='custo_de_pecas', \n",
    "               hue = 'equipamento',data=df_custo_total2[df_custo_total2[\"Ano\"] == 2018] ,ax=a2018)\n",
    "a2018.set_xlabel(\"Ano\")\n",
    "a2018.set_ylabel(\"Custo de manutenção (R$)\")\n",
    "a2018.set_title(\"Equipamentos com maior custo de manutenção em 2018\",fontweight=\"bold\")\n",
    "\n",
    "# 2016\n",
    "sns.barplot(x = 'Ano', y='custo_de_pecas', \n",
    "               hue = 'equipamento',data=df_custo_total2[df_custo_total2[\"Ano\"] == 2019] ,ax=a2019)\n",
    "a2019.set_xlabel(\"Ano\")\n",
    "a2019.set_ylabel(\"Custo de manutenção (R$)\")\n",
    "a2019.set_title(\"Equipamentos com maior custo de manutenção em 2019\",fontweight=\"bold\")\n",
    "\n",
    "# 2016\n",
    "sns.barplot(x = 'Ano', y='custo_de_pecas', \n",
    "               hue = 'equipamento',data=df_custo_total2[df_custo_total2[\"Ano\"] == 2020] ,ax=a2020)\n",
    "a2020.set_xlabel(\"Ano\")\n",
    "a2020.set_ylabel(\"Custo de manutenção (R$)\")\n",
    "a2020.set_title(\"Equipamentos com maior custo de manutenção em 2020\",fontweight=\"bold\")\n",
    "\n",
    "# 2021\n",
    "sns.barplot(x = 'Ano', y='custo_de_pecas', \n",
    "               hue = 'equipamento',data=df_custo_total2[df_custo_total2[\"Ano\"] == 2021] ,ax=a2021)\n",
    "a2021.set_xlabel(\"Ano\")\n",
    "a2021.set_ylabel(\"Custo de manutenção (R$)\")\n",
    "a2021.set_title(\"Equipamentos com maior custo de manutenção em 2021\",fontweight=\"bold\");"
   ]
  },
  {
   "cell_type": "markdown",
   "id": "67161eba-496e-461f-b329-b47a082cddf4",
   "metadata": {},
   "source": [
    "#### Essa análise permite observar os equipamentos mais custosos por ano, podendo então objetivamente tomar medidas afim de diminuir o custo de manutenção dos mesmos. Pode-se observar que os equipamentos 76 e 1 são os que mais necessitaram de dinheiro para manutenção, sendo que o equipamento 76 se manteve no top 3 de equipamentos mais custosos todos os anos analisados."
   ]
  },
  {
   "cell_type": "markdown",
   "id": "56488138-337e-47b8-b01a-9d3534327b75",
   "metadata": {},
   "source": [
    "## Análise 2 - Três equipamentos que mais precisaram de manutenção por ano e sua relação com o custo gerado."
   ]
  },
  {
   "cell_type": "code",
   "execution_count": 25,
   "id": "8b5e7539-3747-4287-a2eb-7040fbde7198",
   "metadata": {},
   "outputs": [],
   "source": [
    "df_quebras_anuais = df.groupby([df[\"data_inicio\"].dt.year, \"equipamento\"]).agg({\"custo_de_pecas\": \"sum\", \"equipamento\": \"count\"})"
   ]
  },
  {
   "cell_type": "code",
   "execution_count": 26,
   "id": "e652fdba-a13c-4c10-be87-022bb9525b36",
   "metadata": {},
   "outputs": [],
   "source": [
    "df_quebras_anuais[[\"custo_de_pecas\", \"total_quebras\"]] = df_quebras_anuais[[\"custo_de_pecas\", \"equipamento\"]]"
   ]
  },
  {
   "cell_type": "code",
   "execution_count": 27,
   "id": "dd07ec80-756d-419c-9316-4148962a0de3",
   "metadata": {},
   "outputs": [],
   "source": [
    "df_quebras_anuais.drop(columns=\"equipamento\", inplace= True)"
   ]
  },
  {
   "cell_type": "code",
   "execution_count": 28,
   "id": "faa21762-be2c-495f-801f-7cee17c11c79",
   "metadata": {},
   "outputs": [],
   "source": [
    "df_quebras_anuais.reset_index(inplace=True)"
   ]
  },
  {
   "cell_type": "code",
   "execution_count": 29,
   "id": "9f40ef7e-5db0-4980-81ea-d7ee21bc0ecd",
   "metadata": {},
   "outputs": [],
   "source": [
    "df_quebras_anuais = pd.concat([df_quebras_anuais[df_quebras_anuais[\"data_inicio\"] == 2015].sort_values(\"total_quebras\" ,ascending=False)[0:3],\n",
    "                            df_quebras_anuais[df_quebras_anuais[\"data_inicio\"] == 2016].sort_values(\"total_quebras\" ,ascending=False)[0:3],\n",
    "                           df_quebras_anuais[df_quebras_anuais[\"data_inicio\"] == 2017].sort_values(\"total_quebras\" ,ascending=False)[0:3],\n",
    "                           df_quebras_anuais[df_quebras_anuais[\"data_inicio\"] == 2018].sort_values(\"total_quebras\" ,ascending=False)[0:3],\n",
    "                            df_quebras_anuais[df_quebras_anuais[\"data_inicio\"] == 2019].sort_values(\"total_quebras\" ,ascending=False)[0:3],\n",
    "                            df_quebras_anuais[df_quebras_anuais[\"data_inicio\"] == 2020].sort_values(\"custo_de_pecas\" ,ascending=False)[0:3],\n",
    "                            df_quebras_anuais[df_quebras_anuais[\"data_inicio\"] == 2021].sort_values(\"total_quebras\" ,ascending=False)[0:3]])"
   ]
  },
  {
   "cell_type": "code",
   "execution_count": 30,
   "id": "b8cc3b23-d960-4ce0-ae52-a0fa64fc4da9",
   "metadata": {},
   "outputs": [],
   "source": [
    "df_quebras_anuais[\"data_inicio\"] = df_quebras_anuais[\"data_inicio\"].astype(str)\n",
    "df_quebras_anuais.rename(columns={\"data_inicio\": \"Ano\"}, inplace=True)"
   ]
  },
  {
   "cell_type": "code",
   "execution_count": 31,
   "id": "9427efb0-07dc-4009-881b-d4ff15b6cab1",
   "metadata": {},
   "outputs": [
    {
     "data": {
      "text/html": [
       "<div>\n",
       "<style scoped>\n",
       "    .dataframe tbody tr th:only-of-type {\n",
       "        vertical-align: middle;\n",
       "    }\n",
       "\n",
       "    .dataframe tbody tr th {\n",
       "        vertical-align: top;\n",
       "    }\n",
       "\n",
       "    .dataframe thead th {\n",
       "        text-align: right;\n",
       "    }\n",
       "</style>\n",
       "<table border=\"1\" class=\"dataframe\">\n",
       "  <thead>\n",
       "    <tr style=\"text-align: right;\">\n",
       "      <th></th>\n",
       "      <th>Ano</th>\n",
       "      <th>equipamento</th>\n",
       "      <th>custo_de_pecas</th>\n",
       "      <th>total_quebras</th>\n",
       "    </tr>\n",
       "  </thead>\n",
       "  <tbody>\n",
       "    <tr>\n",
       "      <th>0</th>\n",
       "      <td>2015</td>\n",
       "      <td>Equipamento 1</td>\n",
       "      <td>245904.30</td>\n",
       "      <td>851</td>\n",
       "    </tr>\n",
       "    <tr>\n",
       "      <th>127</th>\n",
       "      <td>2015</td>\n",
       "      <td>Equipamento 76</td>\n",
       "      <td>222361.68</td>\n",
       "      <td>782</td>\n",
       "    </tr>\n",
       "    <tr>\n",
       "      <th>76</th>\n",
       "      <td>2015</td>\n",
       "      <td>Equipamento 3</td>\n",
       "      <td>112417.21</td>\n",
       "      <td>653</td>\n",
       "    </tr>\n",
       "    <tr>\n",
       "      <th>300</th>\n",
       "      <td>2016</td>\n",
       "      <td>Equipamento 76</td>\n",
       "      <td>163844.88</td>\n",
       "      <td>548</td>\n",
       "    </tr>\n",
       "    <tr>\n",
       "      <th>153</th>\n",
       "      <td>2016</td>\n",
       "      <td>Equipamento 1</td>\n",
       "      <td>118430.79</td>\n",
       "      <td>525</td>\n",
       "    </tr>\n",
       "    <tr>\n",
       "      <th>190</th>\n",
       "      <td>2016</td>\n",
       "      <td>Equipamento 141</td>\n",
       "      <td>109268.60</td>\n",
       "      <td>521</td>\n",
       "    </tr>\n",
       "    <tr>\n",
       "      <th>498</th>\n",
       "      <td>2017</td>\n",
       "      <td>Equipamento 76</td>\n",
       "      <td>260261.45</td>\n",
       "      <td>677</td>\n",
       "    </tr>\n",
       "    <tr>\n",
       "      <th>355</th>\n",
       "      <td>2017</td>\n",
       "      <td>Equipamento 13</td>\n",
       "      <td>74909.52</td>\n",
       "      <td>608</td>\n",
       "    </tr>\n",
       "    <tr>\n",
       "      <th>494</th>\n",
       "      <td>2017</td>\n",
       "      <td>Equipamento 72</td>\n",
       "      <td>104526.83</td>\n",
       "      <td>596</td>\n",
       "    </tr>\n",
       "    <tr>\n",
       "      <th>699</th>\n",
       "      <td>2018</td>\n",
       "      <td>Equipamento 76</td>\n",
       "      <td>501842.15</td>\n",
       "      <td>811</td>\n",
       "    </tr>\n",
       "    <tr>\n",
       "      <th>695</th>\n",
       "      <td>2018</td>\n",
       "      <td>Equipamento 72</td>\n",
       "      <td>127554.67</td>\n",
       "      <td>600</td>\n",
       "    </tr>\n",
       "    <tr>\n",
       "      <th>560</th>\n",
       "      <td>2018</td>\n",
       "      <td>Equipamento 141</td>\n",
       "      <td>60448.88</td>\n",
       "      <td>589</td>\n",
       "    </tr>\n",
       "    <tr>\n",
       "      <th>725</th>\n",
       "      <td>2019</td>\n",
       "      <td>Equipamento 1</td>\n",
       "      <td>272023.33</td>\n",
       "      <td>950</td>\n",
       "    </tr>\n",
       "    <tr>\n",
       "      <th>910</th>\n",
       "      <td>2019</td>\n",
       "      <td>Equipamento 76</td>\n",
       "      <td>235733.25</td>\n",
       "      <td>945</td>\n",
       "    </tr>\n",
       "    <tr>\n",
       "      <th>787</th>\n",
       "      <td>2019</td>\n",
       "      <td>Equipamento 168</td>\n",
       "      <td>110635.01</td>\n",
       "      <td>839</td>\n",
       "    </tr>\n",
       "    <tr>\n",
       "      <th>1127</th>\n",
       "      <td>2020</td>\n",
       "      <td>Equipamento 76</td>\n",
       "      <td>233057.48</td>\n",
       "      <td>911</td>\n",
       "    </tr>\n",
       "    <tr>\n",
       "      <th>996</th>\n",
       "      <td>2020</td>\n",
       "      <td>Equipamento 168</td>\n",
       "      <td>157593.49</td>\n",
       "      <td>535</td>\n",
       "    </tr>\n",
       "    <tr>\n",
       "      <th>955</th>\n",
       "      <td>2020</td>\n",
       "      <td>Equipamento 12</td>\n",
       "      <td>151202.86</td>\n",
       "      <td>350</td>\n",
       "    </tr>\n",
       "    <tr>\n",
       "      <th>1153</th>\n",
       "      <td>2021</td>\n",
       "      <td>Equipamento 1</td>\n",
       "      <td>179013.28</td>\n",
       "      <td>1267</td>\n",
       "    </tr>\n",
       "    <tr>\n",
       "      <th>1357</th>\n",
       "      <td>2021</td>\n",
       "      <td>Equipamento 76</td>\n",
       "      <td>280976.94</td>\n",
       "      <td>1117</td>\n",
       "    </tr>\n",
       "    <tr>\n",
       "      <th>1353</th>\n",
       "      <td>2021</td>\n",
       "      <td>Equipamento 72</td>\n",
       "      <td>77222.28</td>\n",
       "      <td>921</td>\n",
       "    </tr>\n",
       "  </tbody>\n",
       "</table>\n",
       "</div>"
      ],
      "text/plain": [
       "       Ano      equipamento  custo_de_pecas  total_quebras\n",
       "0     2015    Equipamento 1       245904.30            851\n",
       "127   2015   Equipamento 76       222361.68            782\n",
       "76    2015    Equipamento 3       112417.21            653\n",
       "300   2016   Equipamento 76       163844.88            548\n",
       "153   2016    Equipamento 1       118430.79            525\n",
       "190   2016  Equipamento 141       109268.60            521\n",
       "498   2017   Equipamento 76       260261.45            677\n",
       "355   2017   Equipamento 13        74909.52            608\n",
       "494   2017   Equipamento 72       104526.83            596\n",
       "699   2018   Equipamento 76       501842.15            811\n",
       "695   2018   Equipamento 72       127554.67            600\n",
       "560   2018  Equipamento 141        60448.88            589\n",
       "725   2019    Equipamento 1       272023.33            950\n",
       "910   2019   Equipamento 76       235733.25            945\n",
       "787   2019  Equipamento 168       110635.01            839\n",
       "1127  2020   Equipamento 76       233057.48            911\n",
       "996   2020  Equipamento 168       157593.49            535\n",
       "955   2020   Equipamento 12       151202.86            350\n",
       "1153  2021    Equipamento 1       179013.28           1267\n",
       "1357  2021   Equipamento 76       280976.94           1117\n",
       "1353  2021   Equipamento 72        77222.28            921"
      ]
     },
     "execution_count": 31,
     "metadata": {},
     "output_type": "execute_result"
    }
   ],
   "source": [
    "df_quebras_anuais"
   ]
  },
  {
   "cell_type": "code",
   "execution_count": 32,
   "id": "64ee7495-a439-4e02-9113-a22d47759d13",
   "metadata": {},
   "outputs": [
    {
     "data": {
      "application/vnd.plotly.v1+json": {
       "config": {
        "plotlyServerURL": "https://plot.ly"
       },
       "data": [
        {
         "alignmentgroup": "True",
         "hovertemplate": "Ano=2015<br>equipamento=%{x}<br>total_quebras=%{y}<extra></extra>",
         "legendgroup": "2015",
         "marker": {
          "color": "rgb(255,245,235)",
          "pattern": {
           "shape": ""
          }
         },
         "name": "2015",
         "offsetgroup": "2015",
         "orientation": "v",
         "showlegend": true,
         "textposition": "auto",
         "type": "bar",
         "x": [
          "Equipamento 1",
          "Equipamento 76",
          "Equipamento 3"
         ],
         "xaxis": "x",
         "y": [
          851,
          782,
          653
         ],
         "yaxis": "y"
        },
        {
         "alignmentgroup": "True",
         "hovertemplate": "Ano=2016<br>equipamento=%{x}<br>total_quebras=%{y}<extra></extra>",
         "legendgroup": "2016",
         "marker": {
          "color": "rgb(254,230,206)",
          "pattern": {
           "shape": ""
          }
         },
         "name": "2016",
         "offsetgroup": "2016",
         "orientation": "v",
         "showlegend": true,
         "textposition": "auto",
         "type": "bar",
         "x": [
          "Equipamento 76",
          "Equipamento 1",
          "Equipamento 141"
         ],
         "xaxis": "x",
         "y": [
          548,
          525,
          521
         ],
         "yaxis": "y"
        },
        {
         "alignmentgroup": "True",
         "hovertemplate": "Ano=2017<br>equipamento=%{x}<br>total_quebras=%{y}<extra></extra>",
         "legendgroup": "2017",
         "marker": {
          "color": "rgb(253,208,162)",
          "pattern": {
           "shape": ""
          }
         },
         "name": "2017",
         "offsetgroup": "2017",
         "orientation": "v",
         "showlegend": true,
         "textposition": "auto",
         "type": "bar",
         "x": [
          "Equipamento 76",
          "Equipamento 13",
          "Equipamento 72"
         ],
         "xaxis": "x",
         "y": [
          677,
          608,
          596
         ],
         "yaxis": "y"
        },
        {
         "alignmentgroup": "True",
         "hovertemplate": "Ano=2018<br>equipamento=%{x}<br>total_quebras=%{y}<extra></extra>",
         "legendgroup": "2018",
         "marker": {
          "color": "rgb(253,174,107)",
          "pattern": {
           "shape": ""
          }
         },
         "name": "2018",
         "offsetgroup": "2018",
         "orientation": "v",
         "showlegend": true,
         "textposition": "auto",
         "type": "bar",
         "x": [
          "Equipamento 76",
          "Equipamento 72",
          "Equipamento 141"
         ],
         "xaxis": "x",
         "y": [
          811,
          600,
          589
         ],
         "yaxis": "y"
        },
        {
         "alignmentgroup": "True",
         "hovertemplate": "Ano=2019<br>equipamento=%{x}<br>total_quebras=%{y}<extra></extra>",
         "legendgroup": "2019",
         "marker": {
          "color": "rgb(253,141,60)",
          "pattern": {
           "shape": ""
          }
         },
         "name": "2019",
         "offsetgroup": "2019",
         "orientation": "v",
         "showlegend": true,
         "textposition": "auto",
         "type": "bar",
         "x": [
          "Equipamento 1",
          "Equipamento 76",
          "Equipamento 168"
         ],
         "xaxis": "x",
         "y": [
          950,
          945,
          839
         ],
         "yaxis": "y"
        },
        {
         "alignmentgroup": "True",
         "hovertemplate": "Ano=2020<br>equipamento=%{x}<br>total_quebras=%{y}<extra></extra>",
         "legendgroup": "2020",
         "marker": {
          "color": "rgb(241,105,19)",
          "pattern": {
           "shape": ""
          }
         },
         "name": "2020",
         "offsetgroup": "2020",
         "orientation": "v",
         "showlegend": true,
         "textposition": "auto",
         "type": "bar",
         "x": [
          "Equipamento 76",
          "Equipamento 168",
          "Equipamento 12"
         ],
         "xaxis": "x",
         "y": [
          911,
          535,
          350
         ],
         "yaxis": "y"
        },
        {
         "alignmentgroup": "True",
         "hovertemplate": "Ano=2021<br>equipamento=%{x}<br>total_quebras=%{y}<extra></extra>",
         "legendgroup": "2021",
         "marker": {
          "color": "rgb(217,72,1)",
          "pattern": {
           "shape": ""
          }
         },
         "name": "2021",
         "offsetgroup": "2021",
         "orientation": "v",
         "showlegend": true,
         "textposition": "auto",
         "type": "bar",
         "x": [
          "Equipamento 1",
          "Equipamento 76",
          "Equipamento 72"
         ],
         "xaxis": "x",
         "y": [
          1267,
          1117,
          921
         ],
         "yaxis": "y"
        }
       ],
       "layout": {
        "autosize": true,
        "barmode": "relative",
        "legend": {
         "title": {
          "text": "Ano"
         },
         "tracegroupgap": 0
        },
        "template": {
         "data": {
          "bar": [
           {
            "error_x": {
             "color": "#2a3f5f"
            },
            "error_y": {
             "color": "#2a3f5f"
            },
            "marker": {
             "line": {
              "color": "#E5ECF6",
              "width": 0.5
             },
             "pattern": {
              "fillmode": "overlay",
              "size": 10,
              "solidity": 0.2
             }
            },
            "type": "bar"
           }
          ],
          "barpolar": [
           {
            "marker": {
             "line": {
              "color": "#E5ECF6",
              "width": 0.5
             },
             "pattern": {
              "fillmode": "overlay",
              "size": 10,
              "solidity": 0.2
             }
            },
            "type": "barpolar"
           }
          ],
          "carpet": [
           {
            "aaxis": {
             "endlinecolor": "#2a3f5f",
             "gridcolor": "white",
             "linecolor": "white",
             "minorgridcolor": "white",
             "startlinecolor": "#2a3f5f"
            },
            "baxis": {
             "endlinecolor": "#2a3f5f",
             "gridcolor": "white",
             "linecolor": "white",
             "minorgridcolor": "white",
             "startlinecolor": "#2a3f5f"
            },
            "type": "carpet"
           }
          ],
          "choropleth": [
           {
            "colorbar": {
             "outlinewidth": 0,
             "ticks": ""
            },
            "type": "choropleth"
           }
          ],
          "contour": [
           {
            "colorbar": {
             "outlinewidth": 0,
             "ticks": ""
            },
            "colorscale": [
             [
              0,
              "#0d0887"
             ],
             [
              0.1111111111111111,
              "#46039f"
             ],
             [
              0.2222222222222222,
              "#7201a8"
             ],
             [
              0.3333333333333333,
              "#9c179e"
             ],
             [
              0.4444444444444444,
              "#bd3786"
             ],
             [
              0.5555555555555556,
              "#d8576b"
             ],
             [
              0.6666666666666666,
              "#ed7953"
             ],
             [
              0.7777777777777778,
              "#fb9f3a"
             ],
             [
              0.8888888888888888,
              "#fdca26"
             ],
             [
              1,
              "#f0f921"
             ]
            ],
            "type": "contour"
           }
          ],
          "contourcarpet": [
           {
            "colorbar": {
             "outlinewidth": 0,
             "ticks": ""
            },
            "type": "contourcarpet"
           }
          ],
          "heatmap": [
           {
            "colorbar": {
             "outlinewidth": 0,
             "ticks": ""
            },
            "colorscale": [
             [
              0,
              "#0d0887"
             ],
             [
              0.1111111111111111,
              "#46039f"
             ],
             [
              0.2222222222222222,
              "#7201a8"
             ],
             [
              0.3333333333333333,
              "#9c179e"
             ],
             [
              0.4444444444444444,
              "#bd3786"
             ],
             [
              0.5555555555555556,
              "#d8576b"
             ],
             [
              0.6666666666666666,
              "#ed7953"
             ],
             [
              0.7777777777777778,
              "#fb9f3a"
             ],
             [
              0.8888888888888888,
              "#fdca26"
             ],
             [
              1,
              "#f0f921"
             ]
            ],
            "type": "heatmap"
           }
          ],
          "heatmapgl": [
           {
            "colorbar": {
             "outlinewidth": 0,
             "ticks": ""
            },
            "colorscale": [
             [
              0,
              "#0d0887"
             ],
             [
              0.1111111111111111,
              "#46039f"
             ],
             [
              0.2222222222222222,
              "#7201a8"
             ],
             [
              0.3333333333333333,
              "#9c179e"
             ],
             [
              0.4444444444444444,
              "#bd3786"
             ],
             [
              0.5555555555555556,
              "#d8576b"
             ],
             [
              0.6666666666666666,
              "#ed7953"
             ],
             [
              0.7777777777777778,
              "#fb9f3a"
             ],
             [
              0.8888888888888888,
              "#fdca26"
             ],
             [
              1,
              "#f0f921"
             ]
            ],
            "type": "heatmapgl"
           }
          ],
          "histogram": [
           {
            "marker": {
             "pattern": {
              "fillmode": "overlay",
              "size": 10,
              "solidity": 0.2
             }
            },
            "type": "histogram"
           }
          ],
          "histogram2d": [
           {
            "colorbar": {
             "outlinewidth": 0,
             "ticks": ""
            },
            "colorscale": [
             [
              0,
              "#0d0887"
             ],
             [
              0.1111111111111111,
              "#46039f"
             ],
             [
              0.2222222222222222,
              "#7201a8"
             ],
             [
              0.3333333333333333,
              "#9c179e"
             ],
             [
              0.4444444444444444,
              "#bd3786"
             ],
             [
              0.5555555555555556,
              "#d8576b"
             ],
             [
              0.6666666666666666,
              "#ed7953"
             ],
             [
              0.7777777777777778,
              "#fb9f3a"
             ],
             [
              0.8888888888888888,
              "#fdca26"
             ],
             [
              1,
              "#f0f921"
             ]
            ],
            "type": "histogram2d"
           }
          ],
          "histogram2dcontour": [
           {
            "colorbar": {
             "outlinewidth": 0,
             "ticks": ""
            },
            "colorscale": [
             [
              0,
              "#0d0887"
             ],
             [
              0.1111111111111111,
              "#46039f"
             ],
             [
              0.2222222222222222,
              "#7201a8"
             ],
             [
              0.3333333333333333,
              "#9c179e"
             ],
             [
              0.4444444444444444,
              "#bd3786"
             ],
             [
              0.5555555555555556,
              "#d8576b"
             ],
             [
              0.6666666666666666,
              "#ed7953"
             ],
             [
              0.7777777777777778,
              "#fb9f3a"
             ],
             [
              0.8888888888888888,
              "#fdca26"
             ],
             [
              1,
              "#f0f921"
             ]
            ],
            "type": "histogram2dcontour"
           }
          ],
          "mesh3d": [
           {
            "colorbar": {
             "outlinewidth": 0,
             "ticks": ""
            },
            "type": "mesh3d"
           }
          ],
          "parcoords": [
           {
            "line": {
             "colorbar": {
              "outlinewidth": 0,
              "ticks": ""
             }
            },
            "type": "parcoords"
           }
          ],
          "pie": [
           {
            "automargin": true,
            "type": "pie"
           }
          ],
          "scatter": [
           {
            "fillpattern": {
             "fillmode": "overlay",
             "size": 10,
             "solidity": 0.2
            },
            "type": "scatter"
           }
          ],
          "scatter3d": [
           {
            "line": {
             "colorbar": {
              "outlinewidth": 0,
              "ticks": ""
             }
            },
            "marker": {
             "colorbar": {
              "outlinewidth": 0,
              "ticks": ""
             }
            },
            "type": "scatter3d"
           }
          ],
          "scattercarpet": [
           {
            "marker": {
             "colorbar": {
              "outlinewidth": 0,
              "ticks": ""
             }
            },
            "type": "scattercarpet"
           }
          ],
          "scattergeo": [
           {
            "marker": {
             "colorbar": {
              "outlinewidth": 0,
              "ticks": ""
             }
            },
            "type": "scattergeo"
           }
          ],
          "scattergl": [
           {
            "marker": {
             "colorbar": {
              "outlinewidth": 0,
              "ticks": ""
             }
            },
            "type": "scattergl"
           }
          ],
          "scattermapbox": [
           {
            "marker": {
             "colorbar": {
              "outlinewidth": 0,
              "ticks": ""
             }
            },
            "type": "scattermapbox"
           }
          ],
          "scatterpolar": [
           {
            "marker": {
             "colorbar": {
              "outlinewidth": 0,
              "ticks": ""
             }
            },
            "type": "scatterpolar"
           }
          ],
          "scatterpolargl": [
           {
            "marker": {
             "colorbar": {
              "outlinewidth": 0,
              "ticks": ""
             }
            },
            "type": "scatterpolargl"
           }
          ],
          "scatterternary": [
           {
            "marker": {
             "colorbar": {
              "outlinewidth": 0,
              "ticks": ""
             }
            },
            "type": "scatterternary"
           }
          ],
          "surface": [
           {
            "colorbar": {
             "outlinewidth": 0,
             "ticks": ""
            },
            "colorscale": [
             [
              0,
              "#0d0887"
             ],
             [
              0.1111111111111111,
              "#46039f"
             ],
             [
              0.2222222222222222,
              "#7201a8"
             ],
             [
              0.3333333333333333,
              "#9c179e"
             ],
             [
              0.4444444444444444,
              "#bd3786"
             ],
             [
              0.5555555555555556,
              "#d8576b"
             ],
             [
              0.6666666666666666,
              "#ed7953"
             ],
             [
              0.7777777777777778,
              "#fb9f3a"
             ],
             [
              0.8888888888888888,
              "#fdca26"
             ],
             [
              1,
              "#f0f921"
             ]
            ],
            "type": "surface"
           }
          ],
          "table": [
           {
            "cells": {
             "fill": {
              "color": "#EBF0F8"
             },
             "line": {
              "color": "white"
             }
            },
            "header": {
             "fill": {
              "color": "#C8D4E3"
             },
             "line": {
              "color": "white"
             }
            },
            "type": "table"
           }
          ]
         },
         "layout": {
          "annotationdefaults": {
           "arrowcolor": "#2a3f5f",
           "arrowhead": 0,
           "arrowwidth": 1
          },
          "autotypenumbers": "strict",
          "coloraxis": {
           "colorbar": {
            "outlinewidth": 0,
            "ticks": ""
           }
          },
          "colorscale": {
           "diverging": [
            [
             0,
             "#8e0152"
            ],
            [
             0.1,
             "#c51b7d"
            ],
            [
             0.2,
             "#de77ae"
            ],
            [
             0.3,
             "#f1b6da"
            ],
            [
             0.4,
             "#fde0ef"
            ],
            [
             0.5,
             "#f7f7f7"
            ],
            [
             0.6,
             "#e6f5d0"
            ],
            [
             0.7,
             "#b8e186"
            ],
            [
             0.8,
             "#7fbc41"
            ],
            [
             0.9,
             "#4d9221"
            ],
            [
             1,
             "#276419"
            ]
           ],
           "sequential": [
            [
             0,
             "#0d0887"
            ],
            [
             0.1111111111111111,
             "#46039f"
            ],
            [
             0.2222222222222222,
             "#7201a8"
            ],
            [
             0.3333333333333333,
             "#9c179e"
            ],
            [
             0.4444444444444444,
             "#bd3786"
            ],
            [
             0.5555555555555556,
             "#d8576b"
            ],
            [
             0.6666666666666666,
             "#ed7953"
            ],
            [
             0.7777777777777778,
             "#fb9f3a"
            ],
            [
             0.8888888888888888,
             "#fdca26"
            ],
            [
             1,
             "#f0f921"
            ]
           ],
           "sequentialminus": [
            [
             0,
             "#0d0887"
            ],
            [
             0.1111111111111111,
             "#46039f"
            ],
            [
             0.2222222222222222,
             "#7201a8"
            ],
            [
             0.3333333333333333,
             "#9c179e"
            ],
            [
             0.4444444444444444,
             "#bd3786"
            ],
            [
             0.5555555555555556,
             "#d8576b"
            ],
            [
             0.6666666666666666,
             "#ed7953"
            ],
            [
             0.7777777777777778,
             "#fb9f3a"
            ],
            [
             0.8888888888888888,
             "#fdca26"
            ],
            [
             1,
             "#f0f921"
            ]
           ]
          },
          "colorway": [
           "#636efa",
           "#EF553B",
           "#00cc96",
           "#ab63fa",
           "#FFA15A",
           "#19d3f3",
           "#FF6692",
           "#B6E880",
           "#FF97FF",
           "#FECB52"
          ],
          "font": {
           "color": "#2a3f5f"
          },
          "geo": {
           "bgcolor": "white",
           "lakecolor": "white",
           "landcolor": "#E5ECF6",
           "showlakes": true,
           "showland": true,
           "subunitcolor": "white"
          },
          "hoverlabel": {
           "align": "left"
          },
          "hovermode": "closest",
          "mapbox": {
           "style": "light"
          },
          "paper_bgcolor": "white",
          "plot_bgcolor": "#E5ECF6",
          "polar": {
           "angularaxis": {
            "gridcolor": "white",
            "linecolor": "white",
            "ticks": ""
           },
           "bgcolor": "#E5ECF6",
           "radialaxis": {
            "gridcolor": "white",
            "linecolor": "white",
            "ticks": ""
           }
          },
          "scene": {
           "xaxis": {
            "backgroundcolor": "#E5ECF6",
            "gridcolor": "white",
            "gridwidth": 2,
            "linecolor": "white",
            "showbackground": true,
            "ticks": "",
            "zerolinecolor": "white"
           },
           "yaxis": {
            "backgroundcolor": "#E5ECF6",
            "gridcolor": "white",
            "gridwidth": 2,
            "linecolor": "white",
            "showbackground": true,
            "ticks": "",
            "zerolinecolor": "white"
           },
           "zaxis": {
            "backgroundcolor": "#E5ECF6",
            "gridcolor": "white",
            "gridwidth": 2,
            "linecolor": "white",
            "showbackground": true,
            "ticks": "",
            "zerolinecolor": "white"
           }
          },
          "shapedefaults": {
           "line": {
            "color": "#2a3f5f"
           }
          },
          "ternary": {
           "aaxis": {
            "gridcolor": "white",
            "linecolor": "white",
            "ticks": ""
           },
           "baxis": {
            "gridcolor": "white",
            "linecolor": "white",
            "ticks": ""
           },
           "bgcolor": "#E5ECF6",
           "caxis": {
            "gridcolor": "white",
            "linecolor": "white",
            "ticks": ""
           }
          },
          "title": {
           "x": 0.05
          },
          "xaxis": {
           "automargin": true,
           "gridcolor": "white",
           "linecolor": "white",
           "ticks": "",
           "title": {
            "standoff": 15
           },
           "zerolinecolor": "white",
           "zerolinewidth": 2
          },
          "yaxis": {
           "automargin": true,
           "gridcolor": "white",
           "linecolor": "white",
           "ticks": "",
           "title": {
            "standoff": 15
           },
           "zerolinecolor": "white",
           "zerolinewidth": 2
          }
         }
        },
        "title": {
         "text": "Total de manutenções dos 3 equipamentos mais defeituosos por ano <br><sup>Período de 2015 a 2021</sup>"
        },
        "xaxis": {
         "anchor": "y",
         "autorange": true,
         "categoryorder": "total descending",
         "domain": [
          0,
          1
         ],
         "range": [
          -0.5,
          7.5
         ],
         "title": {
          "text": "Equipamentos"
         },
         "type": "category"
        },
        "yaxis": {
         "anchor": "x",
         "autorange": true,
         "domain": [
          0,
          1
         ],
         "range": [
          0,
          6095.789473684211
         ],
         "title": {
          "text": "Quantidade de manutenções"
         },
         "type": "linear"
        }
       }
      },
      "image/png": "[encoded data removed]",
      "text/html": [
       "<div>                            <div id=\"3b95aaac-8635-4e28-891e-f93393810880\" class=\"plotly-graph-div\" style=\"height:525px; width:100%;\"></div>            <script type=\"text/javascript\">                require([\"plotly\"], function(Plotly) {                    window.PLOTLYENV=window.PLOTLYENV || {};                                    if (document.getElementById(\"3b95aaac-8635-4e28-891e-f93393810880\")) {                    Plotly.newPlot(                        \"3b95aaac-8635-4e28-891e-f93393810880\",                        [{\"alignmentgroup\":\"True\",\"hovertemplate\":\"Ano=2015<br>equipamento=%{x}<br>total_quebras=%{y}<extra></extra>\",\"legendgroup\":\"2015\",\"marker\":{\"color\":\"rgb(255,245,235)\",\"pattern\":{\"shape\":\"\"}},\"name\":\"2015\",\"offsetgroup\":\"2015\",\"orientation\":\"v\",\"showlegend\":true,\"textposition\":\"auto\",\"x\":[\"Equipamento 1\",\"Equipamento 76\",\"Equipamento 3\"],\"xaxis\":\"x\",\"y\":[851,782,653],\"yaxis\":\"y\",\"type\":\"bar\"},{\"alignmentgroup\":\"True\",\"hovertemplate\":\"Ano=2016<br>equipamento=%{x}<br>total_quebras=%{y}<extra></extra>\",\"legendgroup\":\"2016\",\"marker\":{\"color\":\"rgb(254,230,206)\",\"pattern\":{\"shape\":\"\"}},\"name\":\"2016\",\"offsetgroup\":\"2016\",\"orientation\":\"v\",\"showlegend\":true,\"textposition\":\"auto\",\"x\":[\"Equipamento 76\",\"Equipamento 1\",\"Equipamento 141\"],\"xaxis\":\"x\",\"y\":[548,525,521],\"yaxis\":\"y\",\"type\":\"bar\"},{\"alignmentgroup\":\"True\",\"hovertemplate\":\"Ano=2017<br>equipamento=%{x}<br>total_quebras=%{y}<extra></extra>\",\"legendgroup\":\"2017\",\"marker\":{\"color\":\"rgb(253,208,162)\",\"pattern\":{\"shape\":\"\"}},\"name\":\"2017\",\"offsetgroup\":\"2017\",\"orientation\":\"v\",\"showlegend\":true,\"textposition\":\"auto\",\"x\":[\"Equipamento 76\",\"Equipamento 13\",\"Equipamento 72\"],\"xaxis\":\"x\",\"y\":[677,608,596],\"yaxis\":\"y\",\"type\":\"bar\"},{\"alignmentgroup\":\"True\",\"hovertemplate\":\"Ano=2018<br>equipamento=%{x}<br>total_quebras=%{y}<extra></extra>\",\"legendgroup\":\"2018\",\"marker\":{\"color\":\"rgb(253,174,107)\",\"pattern\":{\"shape\":\"\"}},\"name\":\"2018\",\"offsetgroup\":\"2018\",\"orientation\":\"v\",\"showlegend\":true,\"textposition\":\"auto\",\"x\":[\"Equipamento 76\",\"Equipamento 72\",\"Equipamento 141\"],\"xaxis\":\"x\",\"y\":[811,600,589],\"yaxis\":\"y\",\"type\":\"bar\"},{\"alignmentgroup\":\"True\",\"hovertemplate\":\"Ano=2019<br>equipamento=%{x}<br>total_quebras=%{y}<extra></extra>\",\"legendgroup\":\"2019\",\"marker\":{\"color\":\"rgb(253,141,60)\",\"pattern\":{\"shape\":\"\"}},\"name\":\"2019\",\"offsetgroup\":\"2019\",\"orientation\":\"v\",\"showlegend\":true,\"textposition\":\"auto\",\"x\":[\"Equipamento 1\",\"Equipamento 76\",\"Equipamento 168\"],\"xaxis\":\"x\",\"y\":[950,945,839],\"yaxis\":\"y\",\"type\":\"bar\"},{\"alignmentgroup\":\"True\",\"hovertemplate\":\"Ano=2020<br>equipamento=%{x}<br>total_quebras=%{y}<extra></extra>\",\"legendgroup\":\"2020\",\"marker\":{\"color\":\"rgb(241,105,19)\",\"pattern\":{\"shape\":\"\"}},\"name\":\"2020\",\"offsetgroup\":\"2020\",\"orientation\":\"v\",\"showlegend\":true,\"textposition\":\"auto\",\"x\":[\"Equipamento 76\",\"Equipamento 168\",\"Equipamento 12\"],\"xaxis\":\"x\",\"y\":[911,535,350],\"yaxis\":\"y\",\"type\":\"bar\"},{\"alignmentgroup\":\"True\",\"hovertemplate\":\"Ano=2021<br>equipamento=%{x}<br>total_quebras=%{y}<extra></extra>\",\"legendgroup\":\"2021\",\"marker\":{\"color\":\"rgb(217,72,1)\",\"pattern\":{\"shape\":\"\"}},\"name\":\"2021\",\"offsetgroup\":\"2021\",\"orientation\":\"v\",\"showlegend\":true,\"textposition\":\"auto\",\"x\":[\"Equipamento 1\",\"Equipamento 76\",\"Equipamento 72\"],\"xaxis\":\"x\",\"y\":[1267,1117,921],\"yaxis\":\"y\",\"type\":\"bar\"}],                        {\"template\":{\"data\":{\"histogram2dcontour\":[{\"type\":\"histogram2dcontour\",\"colorbar\":{\"outlinewidth\":0,\"ticks\":\"\"},\"colorscale\":[[0.0,\"#0d0887\"],[0.1111111111111111,\"#46039f\"],[0.2222222222222222,\"#7201a8\"],[0.3333333333333333,\"#9c179e\"],[0.4444444444444444,\"#bd3786\"],[0.5555555555555556,\"#d8576b\"],[0.6666666666666666,\"#ed7953\"],[0.7777777777777778,\"#fb9f3a\"],[0.8888888888888888,\"#fdca26\"],[1.0,\"#f0f921\"]]}],\"choropleth\":[{\"type\":\"choropleth\",\"colorbar\":{\"outlinewidth\":0,\"ticks\":\"\"}}],\"histogram2d\":[{\"type\":\"histogram2d\",\"colorbar\":{\"outlinewidth\":0,\"ticks\":\"\"},\"colorscale\":[[0.0,\"#0d0887\"],[0.1111111111111111,\"#46039f\"],[0.2222222222222222,\"#7201a8\"],[0.3333333333333333,\"#9c179e\"],[0.4444444444444444,\"#bd3786\"],[0.5555555555555556,\"#d8576b\"],[0.6666666666666666,\"#ed7953\"],[0.7777777777777778,\"#fb9f3a\"],[0.8888888888888888,\"#fdca26\"],[1.0,\"#f0f921\"]]}],\"heatmap\":[{\"type\":\"heatmap\",\"colorbar\":{\"outlinewidth\":0,\"ticks\":\"\"},\"colorscale\":[[0.0,\"#0d0887\"],[0.1111111111111111,\"#46039f\"],[0.2222222222222222,\"#7201a8\"],[0.3333333333333333,\"#9c179e\"],[0.4444444444444444,\"#bd3786\"],[0.5555555555555556,\"#d8576b\"],[0.6666666666666666,\"#ed7953\"],[0.7777777777777778,\"#fb9f3a\"],[0.8888888888888888,\"#fdca26\"],[1.0,\"#f0f921\"]]}],\"heatmapgl\":[{\"type\":\"heatmapgl\",\"colorbar\":{\"outlinewidth\":0,\"ticks\":\"\"},\"colorscale\":[[0.0,\"#0d0887\"],[0.1111111111111111,\"#46039f\"],[0.2222222222222222,\"#7201a8\"],[0.3333333333333333,\"#9c179e\"],[0.4444444444444444,\"#bd3786\"],[0.5555555555555556,\"#d8576b\"],[0.6666666666666666,\"#ed7953\"],[0.7777777777777778,\"#fb9f3a\"],[0.8888888888888888,\"#fdca26\"],[1.0,\"#f0f921\"]]}],\"contourcarpet\":[{\"type\":\"contourcarpet\",\"colorbar\":{\"outlinewidth\":0,\"ticks\":\"\"}}],\"contour\":[{\"type\":\"contour\",\"colorbar\":{\"outlinewidth\":0,\"ticks\":\"\"},\"colorscale\":[[0.0,\"#0d0887\"],[0.1111111111111111,\"#46039f\"],[0.2222222222222222,\"#7201a8\"],[0.3333333333333333,\"#9c179e\"],[0.4444444444444444,\"#bd3786\"],[0.5555555555555556,\"#d8576b\"],[0.6666666666666666,\"#ed7953\"],[0.7777777777777778,\"#fb9f3a\"],[0.8888888888888888,\"#fdca26\"],[1.0,\"#f0f921\"]]}],\"surface\":[{\"type\":\"surface\",\"colorbar\":{\"outlinewidth\":0,\"ticks\":\"\"},\"colorscale\":[[0.0,\"#0d0887\"],[0.1111111111111111,\"#46039f\"],[0.2222222222222222,\"#7201a8\"],[0.3333333333333333,\"#9c179e\"],[0.4444444444444444,\"#bd3786\"],[0.5555555555555556,\"#d8576b\"],[0.6666666666666666,\"#ed7953\"],[0.7777777777777778,\"#fb9f3a\"],[0.8888888888888888,\"#fdca26\"],[1.0,\"#f0f921\"]]}],\"mesh3d\":[{\"type\":\"mesh3d\",\"colorbar\":{\"outlinewidth\":0,\"ticks\":\"\"}}],\"scatter\":[{\"fillpattern\":{\"fillmode\":\"overlay\",\"size\":10,\"solidity\":0.2},\"type\":\"scatter\"}],\"parcoords\":[{\"type\":\"parcoords\",\"line\":{\"colorbar\":{\"outlinewidth\":0,\"ticks\":\"\"}}}],\"scatterpolargl\":[{\"type\":\"scatterpolargl\",\"marker\":{\"colorbar\":{\"outlinewidth\":0,\"ticks\":\"\"}}}],\"bar\":[{\"error_x\":{\"color\":\"#2a3f5f\"},\"error_y\":{\"color\":\"#2a3f5f\"},\"marker\":{\"line\":{\"color\":\"#E5ECF6\",\"width\":0.5},\"pattern\":{\"fillmode\":\"overlay\",\"size\":10,\"solidity\":0.2}},\"type\":\"bar\"}],\"scattergeo\":[{\"type\":\"scattergeo\",\"marker\":{\"colorbar\":{\"outlinewidth\":0,\"ticks\":\"\"}}}],\"scatterpolar\":[{\"type\":\"scatterpolar\",\"marker\":{\"colorbar\":{\"outlinewidth\":0,\"ticks\":\"\"}}}],\"histogram\":[{\"marker\":{\"pattern\":{\"fillmode\":\"overlay\",\"size\":10,\"solidity\":0.2}},\"type\":\"histogram\"}],\"scattergl\":[{\"type\":\"scattergl\",\"marker\":{\"colorbar\":{\"outlinewidth\":0,\"ticks\":\"\"}}}],\"scatter3d\":[{\"type\":\"scatter3d\",\"line\":{\"colorbar\":{\"outlinewidth\":0,\"ticks\":\"\"}},\"marker\":{\"colorbar\":{\"outlinewidth\":0,\"ticks\":\"\"}}}],\"scattermapbox\":[{\"type\":\"scattermapbox\",\"marker\":{\"colorbar\":{\"outlinewidth\":0,\"ticks\":\"\"}}}],\"scatterternary\":[{\"type\":\"scatterternary\",\"marker\":{\"colorbar\":{\"outlinewidth\":0,\"ticks\":\"\"}}}],\"scattercarpet\":[{\"type\":\"scattercarpet\",\"marker\":{\"colorbar\":{\"outlinewidth\":0,\"ticks\":\"\"}}}],\"carpet\":[{\"aaxis\":{\"endlinecolor\":\"#2a3f5f\",\"gridcolor\":\"white\",\"linecolor\":\"white\",\"minorgridcolor\":\"white\",\"startlinecolor\":\"#2a3f5f\"},\"baxis\":{\"endlinecolor\":\"#2a3f5f\",\"gridcolor\":\"white\",\"linecolor\":\"white\",\"minorgridcolor\":\"white\",\"startlinecolor\":\"#2a3f5f\"},\"type\":\"carpet\"}],\"table\":[{\"cells\":{\"fill\":{\"color\":\"#EBF0F8\"},\"line\":{\"color\":\"white\"}},\"header\":{\"fill\":{\"color\":\"#C8D4E3\"},\"line\":{\"color\":\"white\"}},\"type\":\"table\"}],\"barpolar\":[{\"marker\":{\"line\":{\"color\":\"#E5ECF6\",\"width\":0.5},\"pattern\":{\"fillmode\":\"overlay\",\"size\":10,\"solidity\":0.2}},\"type\":\"barpolar\"}],\"pie\":[{\"automargin\":true,\"type\":\"pie\"}]},\"layout\":{\"autotypenumbers\":\"strict\",\"colorway\":[\"#636efa\",\"#EF553B\",\"#00cc96\",\"#ab63fa\",\"#FFA15A\",\"#19d3f3\",\"#FF6692\",\"#B6E880\",\"#FF97FF\",\"#FECB52\"],\"font\":{\"color\":\"#2a3f5f\"},\"hovermode\":\"closest\",\"hoverlabel\":{\"align\":\"left\"},\"paper_bgcolor\":\"white\",\"plot_bgcolor\":\"#E5ECF6\",\"polar\":{\"bgcolor\":\"#E5ECF6\",\"angularaxis\":{\"gridcolor\":\"white\",\"linecolor\":\"white\",\"ticks\":\"\"},\"radialaxis\":{\"gridcolor\":\"white\",\"linecolor\":\"white\",\"ticks\":\"\"}},\"ternary\":{\"bgcolor\":\"#E5ECF6\",\"aaxis\":{\"gridcolor\":\"white\",\"linecolor\":\"white\",\"ticks\":\"\"},\"baxis\":{\"gridcolor\":\"white\",\"linecolor\":\"white\",\"ticks\":\"\"},\"caxis\":{\"gridcolor\":\"white\",\"linecolor\":\"white\",\"ticks\":\"\"}},\"coloraxis\":{\"colorbar\":{\"outlinewidth\":0,\"ticks\":\"\"}},\"colorscale\":{\"sequential\":[[0.0,\"#0d0887\"],[0.1111111111111111,\"#46039f\"],[0.2222222222222222,\"#7201a8\"],[0.3333333333333333,\"#9c179e\"],[0.4444444444444444,\"#bd3786\"],[0.5555555555555556,\"#d8576b\"],[0.6666666666666666,\"#ed7953\"],[0.7777777777777778,\"#fb9f3a\"],[0.8888888888888888,\"#fdca26\"],[1.0,\"#f0f921\"]],\"sequentialminus\":[[0.0,\"#0d0887\"],[0.1111111111111111,\"#46039f\"],[0.2222222222222222,\"#7201a8\"],[0.3333333333333333,\"#9c179e\"],[0.4444444444444444,\"#bd3786\"],[0.5555555555555556,\"#d8576b\"],[0.6666666666666666,\"#ed7953\"],[0.7777777777777778,\"#fb9f3a\"],[0.8888888888888888,\"#fdca26\"],[1.0,\"#f0f921\"]],\"diverging\":[[0,\"#8e0152\"],[0.1,\"#c51b7d\"],[0.2,\"#de77ae\"],[0.3,\"#f1b6da\"],[0.4,\"#fde0ef\"],[0.5,\"#f7f7f7\"],[0.6,\"#e6f5d0\"],[0.7,\"#b8e186\"],[0.8,\"#7fbc41\"],[0.9,\"#4d9221\"],[1,\"#276419\"]]},\"xaxis\":{\"gridcolor\":\"white\",\"linecolor\":\"white\",\"ticks\":\"\",\"title\":{\"standoff\":15},\"zerolinecolor\":\"white\",\"automargin\":true,\"zerolinewidth\":2},\"yaxis\":{\"gridcolor\":\"white\",\"linecolor\":\"white\",\"ticks\":\"\",\"title\":{\"standoff\":15},\"zerolinecolor\":\"white\",\"automargin\":true,\"zerolinewidth\":2},\"scene\":{\"xaxis\":{\"backgroundcolor\":\"#E5ECF6\",\"gridcolor\":\"white\",\"linecolor\":\"white\",\"showbackground\":true,\"ticks\":\"\",\"zerolinecolor\":\"white\",\"gridwidth\":2},\"yaxis\":{\"backgroundcolor\":\"#E5ECF6\",\"gridcolor\":\"white\",\"linecolor\":\"white\",\"showbackground\":true,\"ticks\":\"\",\"zerolinecolor\":\"white\",\"gridwidth\":2},\"zaxis\":{\"backgroundcolor\":\"#E5ECF6\",\"gridcolor\":\"white\",\"linecolor\":\"white\",\"showbackground\":true,\"ticks\":\"\",\"zerolinecolor\":\"white\",\"gridwidth\":2}},\"shapedefaults\":{\"line\":{\"color\":\"#2a3f5f\"}},\"annotationdefaults\":{\"arrowcolor\":\"#2a3f5f\",\"arrowhead\":0,\"arrowwidth\":1},\"geo\":{\"bgcolor\":\"white\",\"landcolor\":\"#E5ECF6\",\"subunitcolor\":\"white\",\"showland\":true,\"showlakes\":true,\"lakecolor\":\"white\"},\"title\":{\"x\":0.05},\"mapbox\":{\"style\":\"light\"}}},\"xaxis\":{\"anchor\":\"y\",\"domain\":[0.0,1.0],\"title\":{\"text\":\"Equipamentos\"},\"categoryorder\":\"total descending\"},\"yaxis\":{\"anchor\":\"x\",\"domain\":[0.0,1.0],\"title\":{\"text\":\"Quantidade de manuten\\u00e7\\u00f5es\"}},\"legend\":{\"title\":{\"text\":\"Ano\"},\"tracegroupgap\":0},\"title\":{\"text\":\"Total de manuten\\u00e7\\u00f5es dos 3 equipamentos mais defeituosos por ano <br><sup>Per\\u00edodo de 2015 a 2021</sup>\"},\"barmode\":\"relative\"},                        {\"responsive\": true}                    ).then(function(){\n",
       "                            \n",
       "var gd = document.getElementById('3b95aaac-8635-4e28-891e-f93393810880');\n",
       "var x = new MutationObserver(function (mutations, observer) {{\n",
       "        var display = window.getComputedStyle(gd).display;\n",
       "        if (!display || display === 'none') {{\n",
       "            console.log([gd, 'removed!']);\n",
       "            Plotly.purge(gd);\n",
       "            observer.disconnect();\n",
       "        }}\n",
       "}});\n",
       "\n",
       "// Listen for the removal of the full notebook cells\n",
       "var notebookContainer = gd.closest('#notebook-container');\n",
       "if (notebookContainer) {{\n",
       "    x.observe(notebookContainer, {childList: true});\n",
       "}}\n",
       "\n",
       "// Listen for the clearing of the current output cell\n",
       "var outputEl = gd.closest('.output');\n",
       "if (outputEl) {{\n",
       "    x.observe(outputEl, {childList: true});\n",
       "}}\n",
       "\n",
       "                        })                };                });            </script>        </div>"
      ]
     },
     "metadata": {},
     "output_type": "display_data"
    }
   ],
   "source": [
    "fig = px.bar(data_frame=df_quebras_anuais, x= \"equipamento\", y= \"total_quebras\", color=\"Ano\", title= \"Total de manutenções dos 3 equipamentos mais defeituosos por ano <br><sup>Período de 2015 a 2021</sup>\", color_discrete_sequence=px.colors.sequential.Oranges)\n",
    "fig.update_layout(xaxis={'categoryorder':'total descending'}, xaxis_title=\"Equipamentos\", yaxis_title=\"Quantidade de manutenções\")\n",
    "fig.show()"
   ]
  },
  {
   "cell_type": "code",
   "execution_count": 33,
   "id": "1f6e9862-8302-4d60-a189-364ad07437ac",
   "metadata": {},
   "outputs": [
    {
     "data": {
      "image/png": "[encoded data removed]",
      "text/plain": [
       "<Figure size 1152x360 with 1 Axes>"
      ]
     },
     "metadata": {
      "needs_background": "light"
     },
     "output_type": "display_data"
    }
   ],
   "source": [
    "plt.figure(figsize=(16,5))\n",
    "df_quebras_anuais.value_counts(\"equipamento\").plot(kind=\"barh\")\n",
    "plt.title(\"Frequência dos 3 equipamentos que mais quebraram entre 2015 a 2021\",fontweight=\"bold\")\n",
    "plt.xlabel(\"Frequência\")\n",
    "plt.ylabel(\"Equipamento\");"
   ]
  },
  {
   "cell_type": "markdown",
   "id": "da387cbf-6ef7-4958-a59c-f11ecdbf4387",
   "metadata": {},
   "source": [
    "#### Com base nas tabelas apresentadas, percebe-se que nem sempre os equipamentos que mais necessitam de manutenção são os mais custosos. Novamente, os equipamentos 76 e 1 aparecem liderando o número de manutenções anuais. "
   ]
  },
  {
   "cell_type": "markdown",
   "id": "ef0f9e5a-b1b5-4977-aeb0-d9f485dc1d21",
   "metadata": {},
   "source": [
    "## Análise 3 - O rank é um input manual, ou seja, o funcionário é responsável por calcular o tempo da manutenção e atribuir o rank devido. Considerando essa informação, qual é a taxa de acertividade da definição desse parâmetro?"
   ]
  },
  {
   "cell_type": "markdown",
   "id": "e20c36a8-4c0a-4bbe-b235-2c958361c6d6",
   "metadata": {},
   "source": [
    "Criação de função para criar uma nova coluna que atribui o rank corretor de forma automática, baseada no padrão definido pela empresa. Como o rank D é atribuido para máquinas específicas independente do tempo, ele foi desconsiderado para esta análise, uma vez que não possuímos a informação específica de quais máquinas seriam consideradas como rank D."
   ]
  },
  {
   "cell_type": "code",
   "execution_count": 34,
   "id": "ba21b035-a4c3-4b76-a206-d845d24d481a",
   "metadata": {},
   "outputs": [],
   "source": [
    "df_rank_automatico = df[df[\"rank\"] != \"D\"]"
   ]
  },
  {
   "cell_type": "code",
   "execution_count": 35,
   "id": "1374472f-86a1-4326-8386-3f6a6a92c261",
   "metadata": {},
   "outputs": [],
   "source": [
    "def avaliador(x):\n",
    "    a = None\n",
    "    if 0 < x < 20:\n",
    "        a = \"C\"\n",
    "    elif 20 <= x < 240:\n",
    "        a = \"B\"\n",
    "    elif x >= 240:\n",
    "        a = \"A\"\n",
    "    elif x == 0:\n",
    "        a = \"Sem rank\"\n",
    "    return a"
   ]
  },
  {
   "cell_type": "code",
   "execution_count": 36,
   "id": "f499cef7-3028-4aab-8be0-d692ad8ccc29",
   "metadata": {},
   "outputs": [],
   "source": [
    "df_rank_automatico[\"rank_automatico\"] = df[\"tempo_manutencao\"].apply(avaliador)"
   ]
  },
  {
   "cell_type": "code",
   "execution_count": 37,
   "id": "283d63ba-8ec2-43e1-859f-edac06bc757e",
   "metadata": {},
   "outputs": [
    {
     "data": {
      "text/html": [
       "<div>\n",
       "<style scoped>\n",
       "    .dataframe tbody tr th:only-of-type {\n",
       "        vertical-align: middle;\n",
       "    }\n",
       "\n",
       "    .dataframe tbody tr th {\n",
       "        vertical-align: top;\n",
       "    }\n",
       "\n",
       "    .dataframe thead th {\n",
       "        text-align: right;\n",
       "    }\n",
       "</style>\n",
       "<table border=\"1\" class=\"dataframe\">\n",
       "  <thead>\n",
       "    <tr style=\"text-align: right;\">\n",
       "      <th></th>\n",
       "      <th>rank_automatico</th>\n",
       "      <th>rank</th>\n",
       "    </tr>\n",
       "  </thead>\n",
       "  <tbody>\n",
       "    <tr>\n",
       "      <th>A</th>\n",
       "      <td>4932</td>\n",
       "      <td>3254</td>\n",
       "    </tr>\n",
       "    <tr>\n",
       "      <th>B</th>\n",
       "      <td>63846</td>\n",
       "      <td>87942</td>\n",
       "    </tr>\n",
       "    <tr>\n",
       "      <th>C</th>\n",
       "      <td>40160</td>\n",
       "      <td>47784</td>\n",
       "    </tr>\n",
       "    <tr>\n",
       "      <th>Sem rank</th>\n",
       "      <td>86784</td>\n",
       "      <td>56742</td>\n",
       "    </tr>\n",
       "  </tbody>\n",
       "</table>\n",
       "</div>"
      ],
      "text/plain": [
       "          rank_automatico   rank\n",
       "A                    4932   3254\n",
       "B                   63846  87942\n",
       "C                   40160  47784\n",
       "Sem rank            86784  56742"
      ]
     },
     "execution_count": 37,
     "metadata": {},
     "output_type": "execute_result"
    }
   ],
   "source": [
    "pd.concat([df_rank_automatico[\"rank_automatico\"].value_counts().sort_index(), df_rank_automatico[\"rank\"].value_counts().sort_index()], axis=1)"
   ]
  },
  {
   "cell_type": "code",
   "execution_count": 38,
   "id": "5a66e8a0-54fa-48c6-a1e7-a06967bf2666",
   "metadata": {},
   "outputs": [
    {
     "data": {
      "image/png": "[encoded data removed]",
      "text/plain": [
       "<Figure size 720x720 with 1 Axes>"
      ]
     },
     "metadata": {
      "needs_background": "light"
     },
     "output_type": "display_data"
    }
   ],
   "source": [
    "plt.figure(figsize=(10,10))\n",
    "# set width of bars\n",
    "barWidth = 0.25\n",
    " \n",
    "# set heights of bars\n",
    "bars1 = df_rank_automatico[\"rank_automatico\"].value_counts().sort_index()\n",
    "bars2 = df_rank_automatico[\"rank\"].value_counts().sort_index()\n",
    " \n",
    "# Set position of bar on X axis\n",
    "r1 = np.arange(len(bars1))\n",
    "r2 = [x + barWidth for x in r1]\n",
    " \n",
    "# Make the plot\n",
    "plt.bar(r1 + 0.2, bars1, color='#7f6d5f', width=0.4, edgecolor='white', label='Rank Automático')\n",
    "plt.bar(r1 - 0.2, bars2, color='#557f2d', width=0.4, edgecolor='white', label='Rank Manual')\n",
    " \n",
    "# Add xticks on the middle of the group bars\n",
    "\n",
    "plt.xticks([r for r in range(len(bars1))], ['A', 'B', 'C', 'Sem rank'])\n",
    " \n",
    "# Create legend & Show graphic\n",
    "plt.legend()\n",
    "plt.xlabel(\"Ranks\", fontsize=12)\n",
    "plt.ylabel(\"Frequência\", fontsize=12)\n",
    "plt.title(\"Rank Automático vs Rank Manual\", fontsize=16)\n",
    "plt.show()"
   ]
  },
  {
   "cell_type": "code",
   "execution_count": 39,
   "id": "5f60b018-99ea-40fc-9138-aa51725062b8",
   "metadata": {},
   "outputs": [],
   "source": [
    "is_equal = []\n",
    "df_rank_automatico.reset_index(inplace=True)\n",
    "for i in range(len(df_rank_automatico)):\n",
    "    if df_rank_automatico.loc[i, \"rank\"] == df_rank_automatico.loc[i, \"rank_automatico\"]:\n",
    "        is_equal.append(True)\n",
    "    else:\n",
    "        is_equal.append(False)"
   ]
  },
  {
   "cell_type": "code",
   "execution_count": 40,
   "id": "5eb4e976-96c4-4e5b-8347-2f1da7e53df8",
   "metadata": {},
   "outputs": [
    {
     "data": {
      "text/plain": [
       "65.56"
      ]
     },
     "execution_count": 40,
     "metadata": {},
     "output_type": "execute_result"
    }
   ],
   "source": [
    "round((sum(is_equal) / len(df_rank_automatico))*100,2)"
   ]
  },
  {
   "cell_type": "markdown",
   "id": "841aff7c-b313-4ab5-b628-26b23b70ee26",
   "metadata": {},
   "source": [
    "## 65.56 %\n",
    "### Essa é a acertividade do rankeamento manual."
   ]
  },
  {
   "cell_type": "markdown",
   "id": "a975a95f-44b1-4a1f-b7be-ccd1f254c602",
   "metadata": {},
   "source": [
    "#### Percebe-se que os funcionários são pouco acertivos ao preencher os ranks. Recomenda-se automatizar o rankeamento para reduzir erros e otimizar análises."
   ]
  },
  {
   "cell_type": "markdown",
   "id": "845bd396-267b-4127-bf0a-910e3fc23f60",
   "metadata": {},
   "source": [
    "## Análise 4 - Analisar quantas ordens de manutencão não foram fechadas, ou seja estão abertas até Agosto de 2022."
   ]
  },
  {
   "cell_type": "markdown",
   "id": "e194a608-80d2-4960-a45c-6435822ee3da",
   "metadata": {},
   "source": [
    "Para as ordens serem consideradas abertas é necessário seguir as seguintes condições:\n",
    "* Ter número de ordem.\n",
    "* Não ter data fim.\n",
    "* Tempo de manutenção = 0.\n",
    "* Tempo real = 0."
   ]
  },
  {
   "cell_type": "code",
   "execution_count": 41,
   "id": "6ab2b679-a3d6-4358-90f2-7b1c0acb8668",
   "metadata": {},
   "outputs": [],
   "source": [
    "mask1 = ~df[\"n_ordem\"].isna()\n",
    "mask2 = df[\"data_fim\"].isna()\n",
    "mask3 = df[\"tempo_manutencao\"] == 0\n",
    "mask4 = df[\"tempo_real\"] == 0"
   ]
  },
  {
   "cell_type": "code",
   "execution_count": 42,
   "id": "ba3195e9-b829-40bd-abe8-657f48c349d2",
   "metadata": {},
   "outputs": [],
   "source": [
    "df_ordens_abertas = df[(mask1) & (mask2) & (mask3) & (mask4)]"
   ]
  },
  {
   "cell_type": "code",
   "execution_count": 43,
   "id": "b0071f1c-6408-4dbd-87b8-0dc3510df2d8",
   "metadata": {},
   "outputs": [
    {
     "data": {
      "text/plain": [
       "12969"
      ]
     },
     "execution_count": 43,
     "metadata": {},
     "output_type": "execute_result"
    }
   ],
   "source": [
    "df_ordens_abertas.shape[0]"
   ]
  },
  {
   "cell_type": "markdown",
   "id": "6f6aef81-4329-455c-8f18-dd8258f35c81",
   "metadata": {
    "tags": []
   },
   "source": [
    "Em 8 anos, 12969 ordens nunca foram fechadas. Recomenda-se fornecer treinamento para que os dados sejam coletados de forma mais confiável, possibilitando uma análise melhor."
   ]
  },
  {
   "cell_type": "code",
   "execution_count": 44,
   "id": "11e1b0cd-2912-4b6c-834b-8b81f24be846",
   "metadata": {},
   "outputs": [],
   "source": [
    "df_ordens_abertas_ano = df_ordens_abertas.groupby(df[\"data_inicio\"].dt.year).size()"
   ]
  },
  {
   "cell_type": "markdown",
   "id": "ae3eb3d2-c53d-4114-9e1e-c27e143d6c59",
   "metadata": {},
   "source": [
    "O gráfico a seguir mostra a evolução dos anos de 2015 à 2021 no quesito de ordens abertas:"
   ]
  },
  {
   "cell_type": "code",
   "execution_count": 45,
   "id": "da1098f9-0a2b-419f-9162-ac32471d7da5",
   "metadata": {},
   "outputs": [
    {
     "data": {
      "text/plain": [
       "Text(0, 0.5, 'N ordens abertas')"
      ]
     },
     "execution_count": 45,
     "metadata": {},
     "output_type": "execute_result"
    },
    {
     "data": {
      "image/png": "[encoded data removed]",
      "text/plain": [
       "<Figure size 720x720 with 1 Axes>"
      ]
     },
     "metadata": {
      "needs_background": "light"
     },
     "output_type": "display_data"
    }
   ],
   "source": [
    "plt.figure(figsize=(10,10))\n",
    "df_ordens_abertas_ano.plot()\n",
    "plt.title(\"Ordens abertas por ano\", fontweight=\"bold\", fontsize=15)\n",
    "plt.xlabel(\"\")\n",
    "plt.ylabel(\"N ordens abertas\", fontsize=13)"
   ]
  },
  {
   "cell_type": "markdown",
   "id": "1e81ab84-452a-4886-9446-8b5407e5b5c2",
   "metadata": {},
   "source": [
    "Através da análise do gráfico, percebe-se que houve uma melhora significativa a partir de 2018 na coleta de dados."
   ]
  },
  {
   "cell_type": "markdown",
   "id": "e4774714-e5a2-49d7-8f38-0e482e36ccb4",
   "metadata": {},
   "source": [
    "## Análise 5 - Boxplot do tempo de manutenção por ano dos chamados concluídos."
   ]
  },
  {
   "cell_type": "markdown",
   "id": "fa40f226-7307-4ba1-af91-73aff43f2b62",
   "metadata": {},
   "source": [
    "Chamado concluído pode ser definido da seguinte maneiras:\n",
    "* Ter número de ordem.\n",
    "* Ter data fim."
   ]
  },
  {
   "cell_type": "code",
   "execution_count": 46,
   "id": "5a5679f0-3292-4d9c-b125-7d885c84c836",
   "metadata": {},
   "outputs": [],
   "source": [
    "mask1 = ~df[\"n_ordem\"].isna()\n",
    "mask2 = ~df[\"data_fim\"].isna()\n",
    "df_chamados_concluidos = df[(mask1) & (mask2)]"
   ]
  },
  {
   "cell_type": "markdown",
   "id": "f096a718-81fb-4fa0-8e50-763ca7c27f38",
   "metadata": {},
   "source": [
    "O boxplot a seguir representa os dados sem nenhum filtro de tempo de manutenção."
   ]
  },
  {
   "cell_type": "code",
   "execution_count": 47,
   "id": "d2dbea60-9778-4a90-a835-88d9ff21d375",
   "metadata": {},
   "outputs": [
    {
     "data": {
      "text/plain": [
       "Text(0, 0.5, 'Tempo de manutenção (min)')"
      ]
     },
     "execution_count": 47,
     "metadata": {},
     "output_type": "execute_result"
    },
    {
     "data": {
      "image/png": "[encoded data removed]",
      "text/plain": [
       "<Figure size 720x720 with 1 Axes>"
      ]
     },
     "metadata": {
      "needs_background": "light"
     },
     "output_type": "display_data"
    }
   ],
   "source": [
    "plt.figure(figsize=(10,10))\n",
    "sns.boxplot(x= df_chamados_concluidos[\"data_inicio\"].dt.year, y= df_chamados_concluidos[\"tempo_manutencao\"], showfliers=False)\n",
    "plt.title(\"Tempo de manutenção por ano\", fontsize=17)\n",
    "plt.xlabel(\"Ano\", fontsize=14)\n",
    "plt.ylabel(\"Tempo de manutenção (min)\", fontsize=14)"
   ]
  },
  {
   "cell_type": "markdown",
   "id": "0565cd27-c922-419d-84f0-aedb6eb35cf9",
   "metadata": {},
   "source": [
    "Como pode-se observar, a maior parte dos dados (mais de 25%) estão com tempo de manutenção igual a zero, com excessão apenas dos anos de 2018 e 2019, e com destaque para 2015, que o número de manutenções com 0 minutos chega quase a 50%. Isso demonstra um erro de coleta de dados, uma vez que não faz sentido uma manutenção durar 0 minutos, e uma necessidade latente de realizar treinamentos afim de garantir dados confiáveis para melhorar a qualidade das análises.\n",
    "\n",
    "Vale ressaltar que os outliers eram muito representativos e distantes do resto dos dados, portanto eles foram excluídos para essa análise, uma vez que distorciam muito o gráfico dificultando sua interpretação."
   ]
  },
  {
   "cell_type": "code",
   "execution_count": 48,
   "id": "73ddaffa-e06d-4617-8eee-da91a95f763e",
   "metadata": {},
   "outputs": [],
   "source": [
    "mask3 = df_chamados_concluidos[\"tempo_manutencao\"] < df_chamados_concluidos[\"tempo_manutencao\"].quantile(0.98)\n",
    "mask4 = df_chamados_concluidos[\"tempo_manutencao\"] > 0\n",
    "df_chamados_concluidos = df_chamados_concluidos[(mask3) & (mask4)]"
   ]
  },
  {
   "cell_type": "code",
   "execution_count": 49,
   "id": "5377a3ca-5cae-4f01-94ba-bea87a5c5fd9",
   "metadata": {},
   "outputs": [
    {
     "data": {
      "image/png": "[encoded data removed]",
      "text/plain": [
       "<Figure size 432x288 with 1 Axes>"
      ]
     },
     "metadata": {
      "needs_background": "light"
     },
     "output_type": "display_data"
    }
   ],
   "source": [
    "sns.boxplot(x= df_chamados_concluidos[\"data_inicio\"].dt.year, y= df_chamados_concluidos[\"tempo_manutencao\"])\n",
    "plt.title(\"Tempo de manutenção por ano\")\n",
    "plt.xlabel(\"Ano\")\n",
    "plt.ylabel(\"Tempo de manutenção (min)\");"
   ]
  },
  {
   "cell_type": "markdown",
   "id": "3cf63835-e1af-4f98-8ec2-428701a24fa3",
   "metadata": {},
   "source": [
    "O boxplot construído acima foi realizado com filtros na coluna tempo_manutenção. Através dos filtros foram retirados todos os tempos iguais a 0 e os 2% de tempos mais elevados. A partir de dessa análise podemos perceber que de formar consistente 75% das manutenções são realizadas em torno de 60 minutos de forma consistente ao decorrer dos anos, e que a mediana do tempo teve uma tendência de queda, além do que os outliers se mantiveram consistentes a partir dos 150 minutos."
   ]
  },
  {
   "cell_type": "code",
   "execution_count": 50,
   "id": "faec2120-de68-4159-80b7-d2e28e20eefb",
   "metadata": {},
   "outputs": [
    {
     "data": {
      "text/html": [
       "<div>\n",
       "<style scoped>\n",
       "    .dataframe tbody tr th:only-of-type {\n",
       "        vertical-align: middle;\n",
       "    }\n",
       "\n",
       "    .dataframe tbody tr th {\n",
       "        vertical-align: top;\n",
       "    }\n",
       "\n",
       "    .dataframe thead th {\n",
       "        text-align: right;\n",
       "    }\n",
       "</style>\n",
       "<table border=\"1\" class=\"dataframe\">\n",
       "  <thead>\n",
       "    <tr style=\"text-align: right;\">\n",
       "      <th></th>\n",
       "      <th>count</th>\n",
       "      <th>mean</th>\n",
       "      <th>std</th>\n",
       "      <th>min</th>\n",
       "      <th>25%</th>\n",
       "      <th>50%</th>\n",
       "      <th>75%</th>\n",
       "      <th>max</th>\n",
       "    </tr>\n",
       "    <tr>\n",
       "      <th>data_inicio</th>\n",
       "      <th></th>\n",
       "      <th></th>\n",
       "      <th></th>\n",
       "      <th></th>\n",
       "      <th></th>\n",
       "      <th></th>\n",
       "      <th></th>\n",
       "      <th></th>\n",
       "    </tr>\n",
       "  </thead>\n",
       "  <tbody>\n",
       "    <tr>\n",
       "      <th>2015</th>\n",
       "      <td>9704</td>\n",
       "      <td>53</td>\n",
       "      <td>59</td>\n",
       "      <td>0</td>\n",
       "      <td>14</td>\n",
       "      <td>32</td>\n",
       "      <td>69</td>\n",
       "      <td>329</td>\n",
       "    </tr>\n",
       "    <tr>\n",
       "      <th>2016</th>\n",
       "      <td>11484</td>\n",
       "      <td>52</td>\n",
       "      <td>58</td>\n",
       "      <td>0</td>\n",
       "      <td>15</td>\n",
       "      <td>31</td>\n",
       "      <td>65</td>\n",
       "      <td>327</td>\n",
       "    </tr>\n",
       "    <tr>\n",
       "      <th>2017</th>\n",
       "      <td>15395</td>\n",
       "      <td>50</td>\n",
       "      <td>57</td>\n",
       "      <td>0</td>\n",
       "      <td>13</td>\n",
       "      <td>31</td>\n",
       "      <td>63</td>\n",
       "      <td>328</td>\n",
       "    </tr>\n",
       "    <tr>\n",
       "      <th>2018</th>\n",
       "      <td>24259</td>\n",
       "      <td>50</td>\n",
       "      <td>56</td>\n",
       "      <td>0</td>\n",
       "      <td>13</td>\n",
       "      <td>31</td>\n",
       "      <td>63</td>\n",
       "      <td>328</td>\n",
       "    </tr>\n",
       "    <tr>\n",
       "      <th>2019</th>\n",
       "      <td>28745</td>\n",
       "      <td>47</td>\n",
       "      <td>54</td>\n",
       "      <td>0</td>\n",
       "      <td>12</td>\n",
       "      <td>28</td>\n",
       "      <td>60</td>\n",
       "      <td>329</td>\n",
       "    </tr>\n",
       "    <tr>\n",
       "      <th>2020</th>\n",
       "      <td>20574</td>\n",
       "      <td>44</td>\n",
       "      <td>53</td>\n",
       "      <td>0</td>\n",
       "      <td>11</td>\n",
       "      <td>25</td>\n",
       "      <td>55</td>\n",
       "      <td>328</td>\n",
       "    </tr>\n",
       "    <tr>\n",
       "      <th>2021</th>\n",
       "      <td>24006</td>\n",
       "      <td>45</td>\n",
       "      <td>53</td>\n",
       "      <td>0</td>\n",
       "      <td>11</td>\n",
       "      <td>25</td>\n",
       "      <td>55</td>\n",
       "      <td>329</td>\n",
       "    </tr>\n",
       "    <tr>\n",
       "      <th>2022</th>\n",
       "      <td>13427</td>\n",
       "      <td>46</td>\n",
       "      <td>54</td>\n",
       "      <td>0</td>\n",
       "      <td>12</td>\n",
       "      <td>26</td>\n",
       "      <td>58</td>\n",
       "      <td>328</td>\n",
       "    </tr>\n",
       "  </tbody>\n",
       "</table>\n",
       "</div>"
      ],
      "text/plain": [
       "             count  mean  std  min  25%  50%  75%  max\n",
       "data_inicio                                           \n",
       "2015          9704    53   59    0   14   32   69  329\n",
       "2016         11484    52   58    0   15   31   65  327\n",
       "2017         15395    50   57    0   13   31   63  328\n",
       "2018         24259    50   56    0   13   31   63  328\n",
       "2019         28745    47   54    0   12   28   60  329\n",
       "2020         20574    44   53    0   11   25   55  328\n",
       "2021         24006    45   53    0   11   25   55  329\n",
       "2022         13427    46   54    0   12   26   58  328"
      ]
     },
     "execution_count": 50,
     "metadata": {},
     "output_type": "execute_result"
    }
   ],
   "source": [
    "df_chamados_concluidos.groupby(df[\"data_inicio\"].dt.year)[\"tempo_manutencao\"].describe().astype(int)"
   ]
  },
  {
   "cell_type": "markdown",
   "id": "97962bfe-6b98-4d80-b45a-2e8035208c6b",
   "metadata": {},
   "source": [
    "À cima pode-se observar uma tabela contendo a média, mediana e os 75% dos dados. Como pode-se perceber, e como foi citado anteriormente, 75% das manutenções ocorrem em até 60 minutos no decorrer dos anos."
   ]
  },
  {
   "cell_type": "markdown",
   "id": "7cf10734-dbee-4b55-bda0-e8f90ea281a0",
   "metadata": {},
   "source": [
    "## Análise 6 - Evolução do custo anual de manutenção dos chamados concluídos, comparando com o a mesma evolução considerando o dataset inteiro."
   ]
  },
  {
   "cell_type": "markdown",
   "id": "882ae06e-5ee9-4f48-9ccf-048375c1e02b",
   "metadata": {},
   "source": [
    "Para essa análise, decidimos separar e comparar as informações do dataset inteiro vs. as informações apenas das ordens concluídas. O ano de 2022 também foi excluído da análise, visto que só há informações até agosto."
   ]
  },
  {
   "cell_type": "code",
   "execution_count": 51,
   "id": "d4626566-d186-4723-8763-746b220e07ce",
   "metadata": {},
   "outputs": [],
   "source": [
    "mask1 = ~df[\"n_ordem\"].isna()\n",
    "mask2 = ~df[\"data_fim\"].isna()\n",
    "mask3 = df[\"data_inicio\"].dt.year != 2022\n",
    "df_chamados_concluidos = df[(mask1) & (mask2) & (mask3)]\n",
    "df_concluidos_total = df_chamados_concluidos.groupby(df_chamados_concluidos[\"data_inicio\"].dt.year)[\"custo_de_pecas\"].sum().rename(\"custo_manutencoes_concluidas\").to_frame()\n",
    "df_total = df.groupby(df[df[\"data_inicio\"].dt.year != 2022][\"data_inicio\"].dt.year)[\"custo_de_pecas\"].sum().rename(\"custo_total\").to_frame()\n",
    "df_tudo = pd.concat([df_concluidos_total, df_total], axis=1)"
   ]
  },
  {
   "cell_type": "code",
   "execution_count": 52,
   "id": "a1719d23-8417-48e3-ab70-3238de1d3f59",
   "metadata": {},
   "outputs": [
    {
     "data": {
      "application/vnd.plotly.v1+json": {
       "config": {
        "plotlyServerURL": "https://plot.ly"
       },
       "data": [
        {
         "hovertemplate": "variable=custo_manutencoes_concluidas<br>data_inicio=%{x}<br>value=%{y}<extra></extra>",
         "legendgroup": "custo_manutencoes_concluidas",
         "line": {
          "color": "#636efa",
          "dash": "solid"
         },
         "marker": {
          "symbol": "circle"
         },
         "mode": "lines",
         "name": "custo_manutencoes_concluidas",
         "orientation": "v",
         "showlegend": true,
         "type": "scatter",
         "x": [
          2015,
          2016,
          2017,
          2018,
          2019,
          2020,
          2021
         ],
         "xaxis": "x",
         "y": [
          4001550.65,
          4572025.02,
          4981776.61,
          4726729.29,
          4700608.07,
          4370003.98,
          4373139.39
         ],
         "yaxis": "y"
        },
        {
         "hovertemplate": "variable=custo_total<br>data_inicio=%{x}<br>value=%{y}<extra></extra>",
         "legendgroup": "custo_total",
         "line": {
          "color": "#EF553B",
          "dash": "solid"
         },
         "marker": {
          "symbol": "circle"
         },
         "mode": "lines",
         "name": "custo_total",
         "orientation": "v",
         "showlegend": true,
         "type": "scatter",
         "x": [
          2015,
          2016,
          2017,
          2018,
          2019,
          2020,
          2021
         ],
         "xaxis": "x",
         "y": [
          4828428.11,
          5297666.76,
          6030385.42,
          5574444.45,
          5071390.55,
          4851105.61,
          4682937.79
         ],
         "yaxis": "y"
        }
       ],
       "layout": {
        "autosize": true,
        "legend": {
         "title": {
          "text": "variable"
         },
         "tracegroupgap": 0
        },
        "template": {
         "data": {
          "bar": [
           {
            "error_x": {
             "color": "#2a3f5f"
            },
            "error_y": {
             "color": "#2a3f5f"
            },
            "marker": {
             "line": {
              "color": "#E5ECF6",
              "width": 0.5
             },
             "pattern": {
              "fillmode": "overlay",
              "size": 10,
              "solidity": 0.2
             }
            },
            "type": "bar"
           }
          ],
          "barpolar": [
           {
            "marker": {
             "line": {
              "color": "#E5ECF6",
              "width": 0.5
             },
             "pattern": {
              "fillmode": "overlay",
              "size": 10,
              "solidity": 0.2
             }
            },
            "type": "barpolar"
           }
          ],
          "carpet": [
           {
            "aaxis": {
             "endlinecolor": "#2a3f5f",
             "gridcolor": "white",
             "linecolor": "white",
             "minorgridcolor": "white",
             "startlinecolor": "#2a3f5f"
            },
            "baxis": {
             "endlinecolor": "#2a3f5f",
             "gridcolor": "white",
             "linecolor": "white",
             "minorgridcolor": "white",
             "startlinecolor": "#2a3f5f"
            },
            "type": "carpet"
           }
          ],
          "choropleth": [
           {
            "colorbar": {
             "outlinewidth": 0,
             "ticks": ""
            },
            "type": "choropleth"
           }
          ],
          "contour": [
           {
            "colorbar": {
             "outlinewidth": 0,
             "ticks": ""
            },
            "colorscale": [
             [
              0,
              "#0d0887"
             ],
             [
              0.1111111111111111,
              "#46039f"
             ],
             [
              0.2222222222222222,
              "#7201a8"
             ],
             [
              0.3333333333333333,
              "#9c179e"
             ],
             [
              0.4444444444444444,
              "#bd3786"
             ],
             [
              0.5555555555555556,
              "#d8576b"
             ],
             [
              0.6666666666666666,
              "#ed7953"
             ],
             [
              0.7777777777777778,
              "#fb9f3a"
             ],
             [
              0.8888888888888888,
              "#fdca26"
             ],
             [
              1,
              "#f0f921"
             ]
            ],
            "type": "contour"
           }
          ],
          "contourcarpet": [
           {
            "colorbar": {
             "outlinewidth": 0,
             "ticks": ""
            },
            "type": "contourcarpet"
           }
          ],
          "heatmap": [
           {
            "colorbar": {
             "outlinewidth": 0,
             "ticks": ""
            },
            "colorscale": [
             [
              0,
              "#0d0887"
             ],
             [
              0.1111111111111111,
              "#46039f"
             ],
             [
              0.2222222222222222,
              "#7201a8"
             ],
             [
              0.3333333333333333,
              "#9c179e"
             ],
             [
              0.4444444444444444,
              "#bd3786"
             ],
             [
              0.5555555555555556,
              "#d8576b"
             ],
             [
              0.6666666666666666,
              "#ed7953"
             ],
             [
              0.7777777777777778,
              "#fb9f3a"
             ],
             [
              0.8888888888888888,
              "#fdca26"
             ],
             [
              1,
              "#f0f921"
             ]
            ],
            "type": "heatmap"
           }
          ],
          "heatmapgl": [
           {
            "colorbar": {
             "outlinewidth": 0,
             "ticks": ""
            },
            "colorscale": [
             [
              0,
              "#0d0887"
             ],
             [
              0.1111111111111111,
              "#46039f"
             ],
             [
              0.2222222222222222,
              "#7201a8"
             ],
             [
              0.3333333333333333,
              "#9c179e"
             ],
             [
              0.4444444444444444,
              "#bd3786"
             ],
             [
              0.5555555555555556,
              "#d8576b"
             ],
             [
              0.6666666666666666,
              "#ed7953"
             ],
             [
              0.7777777777777778,
              "#fb9f3a"
             ],
             [
              0.8888888888888888,
              "#fdca26"
             ],
             [
              1,
              "#f0f921"
             ]
            ],
            "type": "heatmapgl"
           }
          ],
          "histogram": [
           {
            "marker": {
             "pattern": {
              "fillmode": "overlay",
              "size": 10,
              "solidity": 0.2
             }
            },
            "type": "histogram"
           }
          ],
          "histogram2d": [
           {
            "colorbar": {
             "outlinewidth": 0,
             "ticks": ""
            },
            "colorscale": [
             [
              0,
              "#0d0887"
             ],
             [
              0.1111111111111111,
              "#46039f"
             ],
             [
              0.2222222222222222,
              "#7201a8"
             ],
             [
              0.3333333333333333,
              "#9c179e"
             ],
             [
              0.4444444444444444,
              "#bd3786"
             ],
             [
              0.5555555555555556,
              "#d8576b"
             ],
             [
              0.6666666666666666,
              "#ed7953"
             ],
             [
              0.7777777777777778,
              "#fb9f3a"
             ],
             [
              0.8888888888888888,
              "#fdca26"
             ],
             [
              1,
              "#f0f921"
             ]
            ],
            "type": "histogram2d"
           }
          ],
          "histogram2dcontour": [
           {
            "colorbar": {
             "outlinewidth": 0,
             "ticks": ""
            },
            "colorscale": [
             [
              0,
              "#0d0887"
             ],
             [
              0.1111111111111111,
              "#46039f"
             ],
             [
              0.2222222222222222,
              "#7201a8"
             ],
             [
              0.3333333333333333,
              "#9c179e"
             ],
             [
              0.4444444444444444,
              "#bd3786"
             ],
             [
              0.5555555555555556,
              "#d8576b"
             ],
             [
              0.6666666666666666,
              "#ed7953"
             ],
             [
              0.7777777777777778,
              "#fb9f3a"
             ],
             [
              0.8888888888888888,
              "#fdca26"
             ],
             [
              1,
              "#f0f921"
             ]
            ],
            "type": "histogram2dcontour"
           }
          ],
          "mesh3d": [
           {
            "colorbar": {
             "outlinewidth": 0,
             "ticks": ""
            },
            "type": "mesh3d"
           }
          ],
          "parcoords": [
           {
            "line": {
             "colorbar": {
              "outlinewidth": 0,
              "ticks": ""
             }
            },
            "type": "parcoords"
           }
          ],
          "pie": [
           {
            "automargin": true,
            "type": "pie"
           }
          ],
          "scatter": [
           {
            "fillpattern": {
             "fillmode": "overlay",
             "size": 10,
             "solidity": 0.2
            },
            "type": "scatter"
           }
          ],
          "scatter3d": [
           {
            "line": {
             "colorbar": {
              "outlinewidth": 0,
              "ticks": ""
             }
            },
            "marker": {
             "colorbar": {
              "outlinewidth": 0,
              "ticks": ""
             }
            },
            "type": "scatter3d"
           }
          ],
          "scattercarpet": [
           {
            "marker": {
             "colorbar": {
              "outlinewidth": 0,
              "ticks": ""
             }
            },
            "type": "scattercarpet"
           }
          ],
          "scattergeo": [
           {
            "marker": {
             "colorbar": {
              "outlinewidth": 0,
              "ticks": ""
             }
            },
            "type": "scattergeo"
           }
          ],
          "scattergl": [
           {
            "marker": {
             "colorbar": {
              "outlinewidth": 0,
              "ticks": ""
             }
            },
            "type": "scattergl"
           }
          ],
          "scattermapbox": [
           {
            "marker": {
             "colorbar": {
              "outlinewidth": 0,
              "ticks": ""
             }
            },
            "type": "scattermapbox"
           }
          ],
          "scatterpolar": [
           {
            "marker": {
             "colorbar": {
              "outlinewidth": 0,
              "ticks": ""
             }
            },
            "type": "scatterpolar"
           }
          ],
          "scatterpolargl": [
           {
            "marker": {
             "colorbar": {
              "outlinewidth": 0,
              "ticks": ""
             }
            },
            "type": "scatterpolargl"
           }
          ],
          "scatterternary": [
           {
            "marker": {
             "colorbar": {
              "outlinewidth": 0,
              "ticks": ""
             }
            },
            "type": "scatterternary"
           }
          ],
          "surface": [
           {
            "colorbar": {
             "outlinewidth": 0,
             "ticks": ""
            },
            "colorscale": [
             [
              0,
              "#0d0887"
             ],
             [
              0.1111111111111111,
              "#46039f"
             ],
             [
              0.2222222222222222,
              "#7201a8"
             ],
             [
              0.3333333333333333,
              "#9c179e"
             ],
             [
              0.4444444444444444,
              "#bd3786"
             ],
             [
              0.5555555555555556,
              "#d8576b"
             ],
             [
              0.6666666666666666,
              "#ed7953"
             ],
             [
              0.7777777777777778,
              "#fb9f3a"
             ],
             [
              0.8888888888888888,
              "#fdca26"
             ],
             [
              1,
              "#f0f921"
             ]
            ],
            "type": "surface"
           }
          ],
          "table": [
           {
            "cells": {
             "fill": {
              "color": "#EBF0F8"
             },
             "line": {
              "color": "white"
             }
            },
            "header": {
             "fill": {
              "color": "#C8D4E3"
             },
             "line": {
              "color": "white"
             }
            },
            "type": "table"
           }
          ]
         },
         "layout": {
          "annotationdefaults": {
           "arrowcolor": "#2a3f5f",
           "arrowhead": 0,
           "arrowwidth": 1
          },
          "autotypenumbers": "strict",
          "coloraxis": {
           "colorbar": {
            "outlinewidth": 0,
            "ticks": ""
           }
          },
          "colorscale": {
           "diverging": [
            [
             0,
             "#8e0152"
            ],
            [
             0.1,
             "#c51b7d"
            ],
            [
             0.2,
             "#de77ae"
            ],
            [
             0.3,
             "#f1b6da"
            ],
            [
             0.4,
             "#fde0ef"
            ],
            [
             0.5,
             "#f7f7f7"
            ],
            [
             0.6,
             "#e6f5d0"
            ],
            [
             0.7,
             "#b8e186"
            ],
            [
             0.8,
             "#7fbc41"
            ],
            [
             0.9,
             "#4d9221"
            ],
            [
             1,
             "#276419"
            ]
           ],
           "sequential": [
            [
             0,
             "#0d0887"
            ],
            [
             0.1111111111111111,
             "#46039f"
            ],
            [
             0.2222222222222222,
             "#7201a8"
            ],
            [
             0.3333333333333333,
             "#9c179e"
            ],
            [
             0.4444444444444444,
             "#bd3786"
            ],
            [
             0.5555555555555556,
             "#d8576b"
            ],
            [
             0.6666666666666666,
             "#ed7953"
            ],
            [
             0.7777777777777778,
             "#fb9f3a"
            ],
            [
             0.8888888888888888,
             "#fdca26"
            ],
            [
             1,
             "#f0f921"
            ]
           ],
           "sequentialminus": [
            [
             0,
             "#0d0887"
            ],
            [
             0.1111111111111111,
             "#46039f"
            ],
            [
             0.2222222222222222,
             "#7201a8"
            ],
            [
             0.3333333333333333,
             "#9c179e"
            ],
            [
             0.4444444444444444,
             "#bd3786"
            ],
            [
             0.5555555555555556,
             "#d8576b"
            ],
            [
             0.6666666666666666,
             "#ed7953"
            ],
            [
             0.7777777777777778,
             "#fb9f3a"
            ],
            [
             0.8888888888888888,
             "#fdca26"
            ],
            [
             1,
             "#f0f921"
            ]
           ]
          },
          "colorway": [
           "#636efa",
           "#EF553B",
           "#00cc96",
           "#ab63fa",
           "#FFA15A",
           "#19d3f3",
           "#FF6692",
           "#B6E880",
           "#FF97FF",
           "#FECB52"
          ],
          "font": {
           "color": "#2a3f5f"
          },
          "geo": {
           "bgcolor": "white",
           "lakecolor": "white",
           "landcolor": "#E5ECF6",
           "showlakes": true,
           "showland": true,
           "subunitcolor": "white"
          },
          "hoverlabel": {
           "align": "left"
          },
          "hovermode": "closest",
          "mapbox": {
           "style": "light"
          },
          "paper_bgcolor": "white",
          "plot_bgcolor": "#E5ECF6",
          "polar": {
           "angularaxis": {
            "gridcolor": "white",
            "linecolor": "white",
            "ticks": ""
           },
           "bgcolor": "#E5ECF6",
           "radialaxis": {
            "gridcolor": "white",
            "linecolor": "white",
            "ticks": ""
           }
          },
          "scene": {
           "xaxis": {
            "backgroundcolor": "#E5ECF6",
            "gridcolor": "white",
            "gridwidth": 2,
            "linecolor": "white",
            "showbackground": true,
            "ticks": "",
            "zerolinecolor": "white"
           },
           "yaxis": {
            "backgroundcolor": "#E5ECF6",
            "gridcolor": "white",
            "gridwidth": 2,
            "linecolor": "white",
            "showbackground": true,
            "ticks": "",
            "zerolinecolor": "white"
           },
           "zaxis": {
            "backgroundcolor": "#E5ECF6",
            "gridcolor": "white",
            "gridwidth": 2,
            "linecolor": "white",
            "showbackground": true,
            "ticks": "",
            "zerolinecolor": "white"
           }
          },
          "shapedefaults": {
           "line": {
            "color": "#2a3f5f"
           }
          },
          "ternary": {
           "aaxis": {
            "gridcolor": "white",
            "linecolor": "white",
            "ticks": ""
           },
           "baxis": {
            "gridcolor": "white",
            "linecolor": "white",
            "ticks": ""
           },
           "bgcolor": "#E5ECF6",
           "caxis": {
            "gridcolor": "white",
            "linecolor": "white",
            "ticks": ""
           }
          },
          "title": {
           "x": 0.05
          },
          "xaxis": {
           "automargin": true,
           "gridcolor": "white",
           "linecolor": "white",
           "ticks": "",
           "title": {
            "standoff": 15
           },
           "zerolinecolor": "white",
           "zerolinewidth": 2
          },
          "yaxis": {
           "automargin": true,
           "gridcolor": "white",
           "linecolor": "white",
           "ticks": "",
           "title": {
            "standoff": 15
           },
           "zerolinecolor": "white",
           "zerolinewidth": 2
          }
         }
        },
        "title": {
         "text": "Custo anual de manutenção: todo o dataset vs chamados concluídos"
        },
        "xaxis": {
         "anchor": "y",
         "autorange": true,
         "domain": [
          0,
          1
         ],
         "range": [
          2015,
          2021
         ],
         "title": {
          "text": "Ano"
         },
         "type": "linear"
        },
        "yaxis": {
         "anchor": "x",
         "autorange": true,
         "domain": [
          0,
          1
         ],
         "range": [
          3888837.6072222223,
          6143098.462777778
         ],
         "title": {
          "text": "Custo total (R$)"
         },
         "type": "linear"
        }
       }
      },
      "image/png": "[encoded data removed]",
      "text/html": [
       "<div>                            <div id=\"d992fda7-32a0-4f61-9e3c-7b13712c30a3\" class=\"plotly-graph-div\" style=\"height:525px; width:100%;\"></div>            <script type=\"text/javascript\">                require([\"plotly\"], function(Plotly) {                    window.PLOTLYENV=window.PLOTLYENV || {};                                    if (document.getElementById(\"d992fda7-32a0-4f61-9e3c-7b13712c30a3\")) {                    Plotly.newPlot(                        \"d992fda7-32a0-4f61-9e3c-7b13712c30a3\",                        [{\"hovertemplate\":\"variable=custo_manutencoes_concluidas<br>data_inicio=%{x}<br>value=%{y}<extra></extra>\",\"legendgroup\":\"custo_manutencoes_concluidas\",\"line\":{\"color\":\"#636efa\",\"dash\":\"solid\"},\"marker\":{\"symbol\":\"circle\"},\"mode\":\"lines\",\"name\":\"custo_manutencoes_concluidas\",\"orientation\":\"v\",\"showlegend\":true,\"x\":[2015.0,2016.0,2017.0,2018.0,2019.0,2020.0,2021.0],\"xaxis\":\"x\",\"y\":[4001550.65,4572025.02,4981776.61,4726729.29,4700608.07,4370003.98,4373139.39],\"yaxis\":\"y\",\"type\":\"scatter\"},{\"hovertemplate\":\"variable=custo_total<br>data_inicio=%{x}<br>value=%{y}<extra></extra>\",\"legendgroup\":\"custo_total\",\"line\":{\"color\":\"#EF553B\",\"dash\":\"solid\"},\"marker\":{\"symbol\":\"circle\"},\"mode\":\"lines\",\"name\":\"custo_total\",\"orientation\":\"v\",\"showlegend\":true,\"x\":[2015.0,2016.0,2017.0,2018.0,2019.0,2020.0,2021.0],\"xaxis\":\"x\",\"y\":[4828428.11,5297666.76,6030385.42,5574444.45,5071390.55,4851105.61,4682937.79],\"yaxis\":\"y\",\"type\":\"scatter\"}],                        {\"template\":{\"data\":{\"histogram2dcontour\":[{\"type\":\"histogram2dcontour\",\"colorbar\":{\"outlinewidth\":0,\"ticks\":\"\"},\"colorscale\":[[0.0,\"#0d0887\"],[0.1111111111111111,\"#46039f\"],[0.2222222222222222,\"#7201a8\"],[0.3333333333333333,\"#9c179e\"],[0.4444444444444444,\"#bd3786\"],[0.5555555555555556,\"#d8576b\"],[0.6666666666666666,\"#ed7953\"],[0.7777777777777778,\"#fb9f3a\"],[0.8888888888888888,\"#fdca26\"],[1.0,\"#f0f921\"]]}],\"choropleth\":[{\"type\":\"choropleth\",\"colorbar\":{\"outlinewidth\":0,\"ticks\":\"\"}}],\"histogram2d\":[{\"type\":\"histogram2d\",\"colorbar\":{\"outlinewidth\":0,\"ticks\":\"\"},\"colorscale\":[[0.0,\"#0d0887\"],[0.1111111111111111,\"#46039f\"],[0.2222222222222222,\"#7201a8\"],[0.3333333333333333,\"#9c179e\"],[0.4444444444444444,\"#bd3786\"],[0.5555555555555556,\"#d8576b\"],[0.6666666666666666,\"#ed7953\"],[0.7777777777777778,\"#fb9f3a\"],[0.8888888888888888,\"#fdca26\"],[1.0,\"#f0f921\"]]}],\"heatmap\":[{\"type\":\"heatmap\",\"colorbar\":{\"outlinewidth\":0,\"ticks\":\"\"},\"colorscale\":[[0.0,\"#0d0887\"],[0.1111111111111111,\"#46039f\"],[0.2222222222222222,\"#7201a8\"],[0.3333333333333333,\"#9c179e\"],[0.4444444444444444,\"#bd3786\"],[0.5555555555555556,\"#d8576b\"],[0.6666666666666666,\"#ed7953\"],[0.7777777777777778,\"#fb9f3a\"],[0.8888888888888888,\"#fdca26\"],[1.0,\"#f0f921\"]]}],\"heatmapgl\":[{\"type\":\"heatmapgl\",\"colorbar\":{\"outlinewidth\":0,\"ticks\":\"\"},\"colorscale\":[[0.0,\"#0d0887\"],[0.1111111111111111,\"#46039f\"],[0.2222222222222222,\"#7201a8\"],[0.3333333333333333,\"#9c179e\"],[0.4444444444444444,\"#bd3786\"],[0.5555555555555556,\"#d8576b\"],[0.6666666666666666,\"#ed7953\"],[0.7777777777777778,\"#fb9f3a\"],[0.8888888888888888,\"#fdca26\"],[1.0,\"#f0f921\"]]}],\"contourcarpet\":[{\"type\":\"contourcarpet\",\"colorbar\":{\"outlinewidth\":0,\"ticks\":\"\"}}],\"contour\":[{\"type\":\"contour\",\"colorbar\":{\"outlinewidth\":0,\"ticks\":\"\"},\"colorscale\":[[0.0,\"#0d0887\"],[0.1111111111111111,\"#46039f\"],[0.2222222222222222,\"#7201a8\"],[0.3333333333333333,\"#9c179e\"],[0.4444444444444444,\"#bd3786\"],[0.5555555555555556,\"#d8576b\"],[0.6666666666666666,\"#ed7953\"],[0.7777777777777778,\"#fb9f3a\"],[0.8888888888888888,\"#fdca26\"],[1.0,\"#f0f921\"]]}],\"surface\":[{\"type\":\"surface\",\"colorbar\":{\"outlinewidth\":0,\"ticks\":\"\"},\"colorscale\":[[0.0,\"#0d0887\"],[0.1111111111111111,\"#46039f\"],[0.2222222222222222,\"#7201a8\"],[0.3333333333333333,\"#9c179e\"],[0.4444444444444444,\"#bd3786\"],[0.5555555555555556,\"#d8576b\"],[0.6666666666666666,\"#ed7953\"],[0.7777777777777778,\"#fb9f3a\"],[0.8888888888888888,\"#fdca26\"],[1.0,\"#f0f921\"]]}],\"mesh3d\":[{\"type\":\"mesh3d\",\"colorbar\":{\"outlinewidth\":0,\"ticks\":\"\"}}],\"scatter\":[{\"fillpattern\":{\"fillmode\":\"overlay\",\"size\":10,\"solidity\":0.2},\"type\":\"scatter\"}],\"parcoords\":[{\"type\":\"parcoords\",\"line\":{\"colorbar\":{\"outlinewidth\":0,\"ticks\":\"\"}}}],\"scatterpolargl\":[{\"type\":\"scatterpolargl\",\"marker\":{\"colorbar\":{\"outlinewidth\":0,\"ticks\":\"\"}}}],\"bar\":[{\"error_x\":{\"color\":\"#2a3f5f\"},\"error_y\":{\"color\":\"#2a3f5f\"},\"marker\":{\"line\":{\"color\":\"#E5ECF6\",\"width\":0.5},\"pattern\":{\"fillmode\":\"overlay\",\"size\":10,\"solidity\":0.2}},\"type\":\"bar\"}],\"scattergeo\":[{\"type\":\"scattergeo\",\"marker\":{\"colorbar\":{\"outlinewidth\":0,\"ticks\":\"\"}}}],\"scatterpolar\":[{\"type\":\"scatterpolar\",\"marker\":{\"colorbar\":{\"outlinewidth\":0,\"ticks\":\"\"}}}],\"histogram\":[{\"marker\":{\"pattern\":{\"fillmode\":\"overlay\",\"size\":10,\"solidity\":0.2}},\"type\":\"histogram\"}],\"scattergl\":[{\"type\":\"scattergl\",\"marker\":{\"colorbar\":{\"outlinewidth\":0,\"ticks\":\"\"}}}],\"scatter3d\":[{\"type\":\"scatter3d\",\"line\":{\"colorbar\":{\"outlinewidth\":0,\"ticks\":\"\"}},\"marker\":{\"colorbar\":{\"outlinewidth\":0,\"ticks\":\"\"}}}],\"scattermapbox\":[{\"type\":\"scattermapbox\",\"marker\":{\"colorbar\":{\"outlinewidth\":0,\"ticks\":\"\"}}}],\"scatterternary\":[{\"type\":\"scatterternary\",\"marker\":{\"colorbar\":{\"outlinewidth\":0,\"ticks\":\"\"}}}],\"scattercarpet\":[{\"type\":\"scattercarpet\",\"marker\":{\"colorbar\":{\"outlinewidth\":0,\"ticks\":\"\"}}}],\"carpet\":[{\"aaxis\":{\"endlinecolor\":\"#2a3f5f\",\"gridcolor\":\"white\",\"linecolor\":\"white\",\"minorgridcolor\":\"white\",\"startlinecolor\":\"#2a3f5f\"},\"baxis\":{\"endlinecolor\":\"#2a3f5f\",\"gridcolor\":\"white\",\"linecolor\":\"white\",\"minorgridcolor\":\"white\",\"startlinecolor\":\"#2a3f5f\"},\"type\":\"carpet\"}],\"table\":[{\"cells\":{\"fill\":{\"color\":\"#EBF0F8\"},\"line\":{\"color\":\"white\"}},\"header\":{\"fill\":{\"color\":\"#C8D4E3\"},\"line\":{\"color\":\"white\"}},\"type\":\"table\"}],\"barpolar\":[{\"marker\":{\"line\":{\"color\":\"#E5ECF6\",\"width\":0.5},\"pattern\":{\"fillmode\":\"overlay\",\"size\":10,\"solidity\":0.2}},\"type\":\"barpolar\"}],\"pie\":[{\"automargin\":true,\"type\":\"pie\"}]},\"layout\":{\"autotypenumbers\":\"strict\",\"colorway\":[\"#636efa\",\"#EF553B\",\"#00cc96\",\"#ab63fa\",\"#FFA15A\",\"#19d3f3\",\"#FF6692\",\"#B6E880\",\"#FF97FF\",\"#FECB52\"],\"font\":{\"color\":\"#2a3f5f\"},\"hovermode\":\"closest\",\"hoverlabel\":{\"align\":\"left\"},\"paper_bgcolor\":\"white\",\"plot_bgcolor\":\"#E5ECF6\",\"polar\":{\"bgcolor\":\"#E5ECF6\",\"angularaxis\":{\"gridcolor\":\"white\",\"linecolor\":\"white\",\"ticks\":\"\"},\"radialaxis\":{\"gridcolor\":\"white\",\"linecolor\":\"white\",\"ticks\":\"\"}},\"ternary\":{\"bgcolor\":\"#E5ECF6\",\"aaxis\":{\"gridcolor\":\"white\",\"linecolor\":\"white\",\"ticks\":\"\"},\"baxis\":{\"gridcolor\":\"white\",\"linecolor\":\"white\",\"ticks\":\"\"},\"caxis\":{\"gridcolor\":\"white\",\"linecolor\":\"white\",\"ticks\":\"\"}},\"coloraxis\":{\"colorbar\":{\"outlinewidth\":0,\"ticks\":\"\"}},\"colorscale\":{\"sequential\":[[0.0,\"#0d0887\"],[0.1111111111111111,\"#46039f\"],[0.2222222222222222,\"#7201a8\"],[0.3333333333333333,\"#9c179e\"],[0.4444444444444444,\"#bd3786\"],[0.5555555555555556,\"#d8576b\"],[0.6666666666666666,\"#ed7953\"],[0.7777777777777778,\"#fb9f3a\"],[0.8888888888888888,\"#fdca26\"],[1.0,\"#f0f921\"]],\"sequentialminus\":[[0.0,\"#0d0887\"],[0.1111111111111111,\"#46039f\"],[0.2222222222222222,\"#7201a8\"],[0.3333333333333333,\"#9c179e\"],[0.4444444444444444,\"#bd3786\"],[0.5555555555555556,\"#d8576b\"],[0.6666666666666666,\"#ed7953\"],[0.7777777777777778,\"#fb9f3a\"],[0.8888888888888888,\"#fdca26\"],[1.0,\"#f0f921\"]],\"diverging\":[[0,\"#8e0152\"],[0.1,\"#c51b7d\"],[0.2,\"#de77ae\"],[0.3,\"#f1b6da\"],[0.4,\"#fde0ef\"],[0.5,\"#f7f7f7\"],[0.6,\"#e6f5d0\"],[0.7,\"#b8e186\"],[0.8,\"#7fbc41\"],[0.9,\"#4d9221\"],[1,\"#276419\"]]},\"xaxis\":{\"gridcolor\":\"white\",\"linecolor\":\"white\",\"ticks\":\"\",\"title\":{\"standoff\":15},\"zerolinecolor\":\"white\",\"automargin\":true,\"zerolinewidth\":2},\"yaxis\":{\"gridcolor\":\"white\",\"linecolor\":\"white\",\"ticks\":\"\",\"title\":{\"standoff\":15},\"zerolinecolor\":\"white\",\"automargin\":true,\"zerolinewidth\":2},\"scene\":{\"xaxis\":{\"backgroundcolor\":\"#E5ECF6\",\"gridcolor\":\"white\",\"linecolor\":\"white\",\"showbackground\":true,\"ticks\":\"\",\"zerolinecolor\":\"white\",\"gridwidth\":2},\"yaxis\":{\"backgroundcolor\":\"#E5ECF6\",\"gridcolor\":\"white\",\"linecolor\":\"white\",\"showbackground\":true,\"ticks\":\"\",\"zerolinecolor\":\"white\",\"gridwidth\":2},\"zaxis\":{\"backgroundcolor\":\"#E5ECF6\",\"gridcolor\":\"white\",\"linecolor\":\"white\",\"showbackground\":true,\"ticks\":\"\",\"zerolinecolor\":\"white\",\"gridwidth\":2}},\"shapedefaults\":{\"line\":{\"color\":\"#2a3f5f\"}},\"annotationdefaults\":{\"arrowcolor\":\"#2a3f5f\",\"arrowhead\":0,\"arrowwidth\":1},\"geo\":{\"bgcolor\":\"white\",\"landcolor\":\"#E5ECF6\",\"subunitcolor\":\"white\",\"showland\":true,\"showlakes\":true,\"lakecolor\":\"white\"},\"title\":{\"x\":0.05},\"mapbox\":{\"style\":\"light\"}}},\"xaxis\":{\"anchor\":\"y\",\"domain\":[0.0,1.0],\"title\":{\"text\":\"Ano\"}},\"yaxis\":{\"anchor\":\"x\",\"domain\":[0.0,1.0],\"title\":{\"text\":\"Custo total (R$)\"}},\"legend\":{\"title\":{\"text\":\"variable\"},\"tracegroupgap\":0},\"title\":{\"text\":\"Custo anual de manuten\\u00e7\\u00e3o: todo o dataset vs chamados conclu\\u00eddos\"}},                        {\"responsive\": true}                    ).then(function(){\n",
       "                            \n",
       "var gd = document.getElementById('d992fda7-32a0-4f61-9e3c-7b13712c30a3');\n",
       "var x = new MutationObserver(function (mutations, observer) {{\n",
       "        var display = window.getComputedStyle(gd).display;\n",
       "        if (!display || display === 'none') {{\n",
       "            console.log([gd, 'removed!']);\n",
       "            Plotly.purge(gd);\n",
       "            observer.disconnect();\n",
       "        }}\n",
       "}});\n",
       "\n",
       "// Listen for the removal of the full notebook cells\n",
       "var notebookContainer = gd.closest('#notebook-container');\n",
       "if (notebookContainer) {{\n",
       "    x.observe(notebookContainer, {childList: true});\n",
       "}}\n",
       "\n",
       "// Listen for the clearing of the current output cell\n",
       "var outputEl = gd.closest('.output');\n",
       "if (outputEl) {{\n",
       "    x.observe(outputEl, {childList: true});\n",
       "}}\n",
       "\n",
       "                        })                };                });            </script>        </div>"
      ]
     },
     "metadata": {},
     "output_type": "display_data"
    }
   ],
   "source": [
    "fig = px.line(data_frame=df_tudo, x=df_tudo.index, y= [\"custo_manutencoes_concluidas\", \"custo_total\"], title=\"Custo anual de manutenção: todo o dataset vs chamados concluídos\")#, barmode= \"group\")\n",
    "fig.update_layout(xaxis_title=\"Ano\", yaxis_title=\"Custo total (R$)\")\n",
    "fig.show()"
   ]
  },
  {
   "cell_type": "markdown",
   "id": "0c803a0a-c1f1-46f9-9292-d999b2eda30f",
   "metadata": {},
   "source": [
    "Percebemos, portanto, que apesar de ordens estarem abertas até a data que o dado foi coletado, elas ainda geram custo de manutenção relevante no dataframe. Os custos de manutenção tiveram queda expressiva a partir do ano de 2018."
   ]
  },
  {
   "cell_type": "markdown",
   "id": "8eb1da73-8b26-438f-9d73-baf2f1e5d893",
   "metadata": {},
   "source": [
    "## Análise 7 - Definir a taxa de chamada manutenção vs ordens de atendimento."
   ]
  },
  {
   "cell_type": "markdown",
   "id": "1eb05efe-29e6-40bc-9c18-3f50089a4441",
   "metadata": {},
   "source": [
    "Foi considerado na análise apenas os anos concluídos."
   ]
  },
  {
   "cell_type": "code",
   "execution_count": 53,
   "id": "ee026f68-fab6-4cd3-b768-d35f16155eec",
   "metadata": {},
   "outputs": [],
   "source": [
    "mask1 = df[\"data_inicio\"].dt.year != 2022\n",
    "df_chamadas = df[mask1].groupby(df[\"data_inicio\"].dt.year).agg({\"n_nota\": \"size\", \"n_ordem\": \"count\"}).reset_index()"
   ]
  },
  {
   "cell_type": "code",
   "execution_count": 54,
   "id": "5ccf8d60-4aa1-4c11-b7c6-f2a2a8e6339e",
   "metadata": {},
   "outputs": [],
   "source": [
    "df_chamadas.rename(columns={\"data_inicio\": \"ano\", \"n_nota\": \"chamadas\", \"n_ordem\": \"atendimentos\"}, inplace=True)"
   ]
  },
  {
   "cell_type": "code",
   "execution_count": 55,
   "id": "17e08f54-16f6-463d-ad03-e6319305e955",
   "metadata": {},
   "outputs": [
    {
     "data": {
      "image/png": "[encoded data removed]",
      "text/plain": [
       "<Figure size 720x720 with 1 Axes>"
      ]
     },
     "metadata": {
      "needs_background": "light"
     },
     "output_type": "display_data"
    },
    {
     "data": {
      "text/plain": [
       "<Figure size 720x720 with 0 Axes>"
      ]
     },
     "metadata": {},
     "output_type": "display_data"
    }
   ],
   "source": [
    "fig, ax = plt.subplots()\n",
    "fig.set_figheight(10)\n",
    "fig.set_figwidth(10)\n",
    "plt.figure(figsize=(10,10))\n",
    "ax.plot(df_chamadas[\"ano\"], df_chamadas[\"chamadas\"], c=\"b\")\n",
    "ax.plot(df_chamadas[\"ano\"], df_chamadas[\"atendimentos\"], c=\"orange\")\n",
    "ax.text(2021 + 0.1, df_chamadas[\"chamadas\"].tail(1), \"Solicitações\", c=\"b\", weight=\"bold\", fontsize=14)\n",
    "ax.text(2021 + 0.1, df_chamadas[\"atendimentos\"].tail(1), \"Manutenções\", c=\"orange\", weight=\"bold\", fontsize=14)\n",
    "ax.grid()\n",
    "ax.spines.right.set_visible(False)\n",
    "ax.spines.top.set_visible(False)\n",
    "ax.set_title(\"Solicitações vs Manutenções por ano\", fontsize=18)\n",
    "ax.set_ylabel(\"Frequência\", fontsize=14)\n",
    "ax.set_xlabel(\"Ano\", fontsize=14);"
   ]
  },
  {
   "cell_type": "markdown",
   "id": "5def8ed1-dda3-48ec-bdb1-770a72a42f20",
   "metadata": {},
   "source": [
    "A partir do gráfico gerado acima, percebe-se que o número de chamadas de manutenção e o número de manutenções tem uma tendência crescente com os anos. Além disso pode-se observar uma queda expressiva dos chamados de manutenção no ano de 2020, que pode ser explicada pela pandemia de Covid-19, uma vez que a indústria permaneceu fechada por 45 dias.\n",
    "\n",
    "Outra observação que pode ser feita é que o número de chamados de manutenção e de atendimentos sempre permanecem a uma distância constante. Essa distância pode ser explicada pelo motivo do funcionário abrir mais de uma solicitação de manutenção para o mesmo problema, com o objetivo de ser atendido \"mais rápido\"."
   ]
  },
  {
   "cell_type": "code",
   "execution_count": 56,
   "id": "47f3be32-5e10-4f4b-a30e-bbf4488ebeb5",
   "metadata": {},
   "outputs": [],
   "source": [
    "df_chamadas[\"porcentagem\"] = ((df_chamadas.atendimentos / df_chamadas.chamadas)*100).round(2)"
   ]
  },
  {
   "cell_type": "code",
   "execution_count": 57,
   "id": "cce960a0-1bd7-426a-8e5e-02dbe533a11f",
   "metadata": {},
   "outputs": [
    {
     "data": {
      "image/png": "[encoded data removed]",
      "text/plain": [
       "<Figure size 720x720 with 1 Axes>"
      ]
     },
     "metadata": {
      "needs_background": "light"
     },
     "output_type": "display_data"
    }
   ],
   "source": [
    "fig, ax = plt.subplots()\n",
    "fig.set_figheight(10)\n",
    "fig.set_figwidth(10)\n",
    "ax.plot(df_chamadas[\"ano\"], df_chamadas[\"porcentagem\"])\n",
    "ax.plot(df_chamadas[\"ano\"], [90]*len(df_chamadas[\"ano\"]), c= \"grey\")\n",
    "ax.text(2020.5, 90.2, \"Meta\", c=\"grey\", weight=\"bold\", fontsize=14)\n",
    "ax.set_ylim([80,100])\n",
    "ax.spines.right.set_visible(False)\n",
    "ax.spines.top.set_visible(False)\n",
    "ax.set_title(\"% de solicitações de manutenção atendidas por ano\", fontsize=18)\n",
    "ax.grid()\n",
    "ax.set_ylabel(\"%\", fontsize=14);"
   ]
  },
  {
   "cell_type": "markdown",
   "id": "5e38ce74-4414-4a1c-a789-ff9f580bc146",
   "metadata": {
    "tags": []
   },
   "source": [
    "### 2018 foi o ano que a maior quantidade de solicitações de manutenção foi atendida."
   ]
  },
  {
   "cell_type": "markdown",
   "id": "3da224ce-ed3f-4a2a-83af-7426479d36fc",
   "metadata": {},
   "source": [
    "# Regressão Linear\n",
    "### A regressão linear tentar prever o tempo de manutenção da máquina utilizando a consequência e o equipamento que está recebendo a manutenção.\n",
    "#### Para essa regressão foi considerado que o tempo de manutenção no dataframe tinha que ser maior que 0 (uma vez que não podem existir manutenções com tempo 0) e menores que 98% dos maiores valores do dataset, visto que esses são outliers. Também removemos todas as consequências diferentes de 1 a 3, visto que só essas que são reais."
   ]
  },
  {
   "cell_type": "code",
   "execution_count": 58,
   "id": "77c7fd36-c1be-47a5-9217-158e8a4df6bc",
   "metadata": {},
   "outputs": [],
   "source": [
    "mask1 = df[\"tempo_manutencao\"] > 0\n",
    "mask2 = df[\"tempo_manutencao\"] < df[\"tempo_manutencao\"].quantile(0.98)\n",
    "mask3 = df[\"consequencia\"] < 4\n",
    "df_reg = df[(mask1) & (mask2) & (mask3)]\n",
    "df_reg[\"consequencia\"] = df_reg[\"consequencia\"].astype(str)"
   ]
  },
  {
   "cell_type": "markdown",
   "id": "f48e0bd6-c5fc-48b7-89fe-5d6bd9ec8de0",
   "metadata": {},
   "source": [
    "#### Como pode-se observar abaixo, mais de 25% dos equipamentos tiveram apenas 11 manutenções ou menos em 8 anos. Com o intuito de aumentar a acertividade nos equipamentos mais críticos, foi definido como mínimo de manutenções 442."
   ]
  },
  {
   "cell_type": "code",
   "execution_count": 59,
   "id": "157bdc90-79ec-45ab-9122-eeac9f7f3ea3",
   "metadata": {},
   "outputs": [
    {
     "data": {
      "text/plain": [
       "count     258.000000\n",
       "mean      570.058140\n",
       "std       695.228082\n",
       "min         1.000000\n",
       "25%        11.000000\n",
       "50%       442.500000\n",
       "75%       682.000000\n",
       "max      3094.000000\n",
       "Name: equipamento, dtype: float64"
      ]
     },
     "execution_count": 59,
     "metadata": {},
     "output_type": "execute_result"
    }
   ],
   "source": [
    "df_reg[\"equipamento\"].value_counts().describe()"
   ]
  },
  {
   "cell_type": "code",
   "execution_count": 60,
   "id": "667f0ecf-cd12-4a23-966a-2ef08420153c",
   "metadata": {},
   "outputs": [],
   "source": [
    "equipamentos = []\n",
    "for i in range(df_reg[\"equipamento\"].nunique()):\n",
    "    if (df_reg[\"equipamento\"].value_counts() > 441)[i]:\n",
    "        equipamentos.append(df_reg[\"equipamento\"].value_counts().index[i])"
   ]
  },
  {
   "cell_type": "code",
   "execution_count": 61,
   "id": "85e7cb75-f501-44a2-ad27-d81553211657",
   "metadata": {},
   "outputs": [
    {
     "data": {
      "text/plain": [
       "130"
      ]
     },
     "execution_count": 61,
     "metadata": {},
     "output_type": "execute_result"
    }
   ],
   "source": [
    "len(equipamentos)"
   ]
  },
  {
   "cell_type": "code",
   "execution_count": 62,
   "id": "dc2b6e72-3aa9-41c2-9837-673d479a65ae",
   "metadata": {},
   "outputs": [],
   "source": [
    "df_reg[\"equipamentos_excluir\"] = df[\"equipamento\"].apply(lambda x: True if x in equipamentos else False)"
   ]
  },
  {
   "cell_type": "code",
   "execution_count": 63,
   "id": "55c500a1-15d8-4f00-995a-154e539a7a49",
   "metadata": {},
   "outputs": [],
   "source": [
    "mask4 = df_reg[\"equipamentos_excluir\"] == True\n",
    "df_reg = df_reg[mask4]\n",
    "df_reg.drop(columns=\"equipamentos_excluir\", inplace=True)"
   ]
  },
  {
   "cell_type": "markdown",
   "id": "f6e755bd-229f-41bf-b315-2bc629d7fcca",
   "metadata": {},
   "source": [
    "## Definindo a Baseline"
   ]
  },
  {
   "cell_type": "code",
   "execution_count": 64,
   "id": "615542aa-13c8-497d-b985-4919ffa7acd8",
   "metadata": {},
   "outputs": [
    {
     "name": "stdout",
     "output_type": "stream",
     "text": [
      "37.61971818059113\n"
     ]
    }
   ],
   "source": [
    "y_mean = df_reg[\"tempo_manutencao\"].mean()\n",
    "y_pred_mae = [y_mean] * len(df_reg)\n",
    "y_baseline = mean_absolute_error(df_reg[\"tempo_manutencao\"], y_pred_mae)\n",
    "print(y_baseline)"
   ]
  },
  {
   "cell_type": "markdown",
   "id": "8ff94c0e-0754-4144-af39-80ebd9b51806",
   "metadata": {},
   "source": [
    "### A baseline do modelo é de 37.61 minutos"
   ]
  },
  {
   "cell_type": "markdown",
   "id": "35d2eb0d-f4b3-46bc-85bd-2a6f7940b096",
   "metadata": {},
   "source": [
    "## Train_test_split"
   ]
  },
  {
   "cell_type": "code",
   "execution_count": 65,
   "id": "e25b3814-b72b-4577-ab52-2d11677b5a28",
   "metadata": {},
   "outputs": [],
   "source": [
    "X = df_reg[[\"consequencia\", \"equipamento\"]]\n",
    "y = df_reg[\"tempo_manutencao\"]\n",
    "X_train, X_test, y_train, y_test = train_test_split(X, y, test_size=0.2, random_state=42)"
   ]
  },
  {
   "cell_type": "markdown",
   "id": "37e2bcfd-35c8-42b7-8aab-fb12bd53f218",
   "metadata": {},
   "source": [
    "## Definindo o modelo e fitando:"
   ]
  },
  {
   "cell_type": "code",
   "execution_count": 66,
   "id": "babbe0d5-6fd2-4980-9132-08768045e9d0",
   "metadata": {},
   "outputs": [
    {
     "data": {
      "text/html": [
       "<style>#sk-container-id-1 {color: black;background-color: white;}#sk-container-id-1 pre{padding: 0;}#sk-container-id-1 div.sk-toggleable {background-color: white;}#sk-container-id-1 label.sk-toggleable__label {cursor: pointer;display: block;width: 100%;margin-bottom: 0;padding: 0.3em;box-sizing: border-box;text-align: center;}#sk-container-id-1 label.sk-toggleable__label-arrow:before {content: \"▸\";float: left;margin-right: 0.25em;color: #696969;}#sk-container-id-1 label.sk-toggleable__label-arrow:hover:before {color: black;}#sk-container-id-1 div.sk-estimator:hover label.sk-toggleable__label-arrow:before {color: black;}#sk-container-id-1 div.sk-toggleable__content {max-height: 0;max-width: 0;overflow: hidden;text-align: left;background-color: #f0f8ff;}#sk-container-id-1 div.sk-toggleable__content pre {margin: 0.2em;color: black;border-radius: 0.25em;background-color: #f0f8ff;}#sk-container-id-1 input.sk-toggleable__control:checked~div.sk-toggleable__content {max-height: 200px;max-width: 100%;overflow: auto;}#sk-container-id-1 input.sk-toggleable__control:checked~label.sk-toggleable__label-arrow:before {content: \"▾\";}#sk-container-id-1 div.sk-estimator input.sk-toggleable__control:checked~label.sk-toggleable__label {background-color: #d4ebff;}#sk-container-id-1 div.sk-label input.sk-toggleable__control:checked~label.sk-toggleable__label {background-color: #d4ebff;}#sk-container-id-1 input.sk-hidden--visually {border: 0;clip: rect(1px 1px 1px 1px);clip: rect(1px, 1px, 1px, 1px);height: 1px;margin: -1px;overflow: hidden;padding: 0;position: absolute;width: 1px;}#sk-container-id-1 div.sk-estimator {font-family: monospace;background-color: #f0f8ff;border: 1px dotted black;border-radius: 0.25em;box-sizing: border-box;margin-bottom: 0.5em;}#sk-container-id-1 div.sk-estimator:hover {background-color: #d4ebff;}#sk-container-id-1 div.sk-parallel-item::after {content: \"\";width: 100%;border-bottom: 1px solid gray;flex-grow: 1;}#sk-container-id-1 div.sk-label:hover label.sk-toggleable__label {background-color: #d4ebff;}#sk-container-id-1 div.sk-serial::before {content: \"\";position: absolute;border-left: 1px solid gray;box-sizing: border-box;top: 0;bottom: 0;left: 50%;z-index: 0;}#sk-container-id-1 div.sk-serial {display: flex;flex-direction: column;align-items: center;background-color: white;padding-right: 0.2em;padding-left: 0.2em;position: relative;}#sk-container-id-1 div.sk-item {position: relative;z-index: 1;}#sk-container-id-1 div.sk-parallel {display: flex;align-items: stretch;justify-content: center;background-color: white;position: relative;}#sk-container-id-1 div.sk-item::before, #sk-container-id-1 div.sk-parallel-item::before {content: \"\";position: absolute;border-left: 1px solid gray;box-sizing: border-box;top: 0;bottom: 0;left: 50%;z-index: -1;}#sk-container-id-1 div.sk-parallel-item {display: flex;flex-direction: column;z-index: 1;position: relative;background-color: white;}#sk-container-id-1 div.sk-parallel-item:first-child::after {align-self: flex-end;width: 50%;}#sk-container-id-1 div.sk-parallel-item:last-child::after {align-self: flex-start;width: 50%;}#sk-container-id-1 div.sk-parallel-item:only-child::after {width: 0;}#sk-container-id-1 div.sk-dashed-wrapped {border: 1px dashed gray;margin: 0 0.4em 0.5em 0.4em;box-sizing: border-box;padding-bottom: 0.4em;background-color: white;}#sk-container-id-1 div.sk-label label {font-family: monospace;font-weight: bold;display: inline-block;line-height: 1.2em;}#sk-container-id-1 div.sk-label-container {text-align: center;}#sk-container-id-1 div.sk-container {/* jupyter's `normalize.less` sets `[hidden] { display: none; }` but bootstrap.min.css set `[hidden] { display: none !important; }` so we also need the `!important` here to be able to override the default hidden behavior on the sphinx rendered scikit-learn.org. See: https://github.com/scikit-learn/scikit-learn/issues/21755 */display: inline-block !important;position: relative;}#sk-container-id-1 div.sk-text-repr-fallback {display: none;}</style><div id=\"sk-container-id-1\" class=\"sk-top-container\"><div class=\"sk-text-repr-fallback\"><pre>Pipeline(steps=[(&#x27;onehotencoder&#x27;,\n",
       "                 OneHotEncoder(cols=[&#x27;consequencia&#x27;, &#x27;equipamento&#x27;],\n",
       "                               use_cat_names=True)),\n",
       "                (&#x27;ridge&#x27;, Ridge())])</pre><b>In a Jupyter environment, please rerun this cell to show the HTML representation or trust the notebook. <br />On GitHub, the HTML representation is unable to render, please try loading this page with nbviewer.org.</b></div><div class=\"sk-container\" hidden><div class=\"sk-item sk-dashed-wrapped\"><div class=\"sk-label-container\"><div class=\"sk-label sk-toggleable\"><input class=\"sk-toggleable__control sk-hidden--visually\" id=\"sk-estimator-id-1\" type=\"checkbox\" ><label for=\"sk-estimator-id-1\" class=\"sk-toggleable__label sk-toggleable__label-arrow\">Pipeline</label><div class=\"sk-toggleable__content\"><pre>Pipeline(steps=[(&#x27;onehotencoder&#x27;,\n",
       "                 OneHotEncoder(cols=[&#x27;consequencia&#x27;, &#x27;equipamento&#x27;],\n",
       "                               use_cat_names=True)),\n",
       "                (&#x27;ridge&#x27;, Ridge())])</pre></div></div></div><div class=\"sk-serial\"><div class=\"sk-item\"><div class=\"sk-estimator sk-toggleable\"><input class=\"sk-toggleable__control sk-hidden--visually\" id=\"sk-estimator-id-2\" type=\"checkbox\" ><label for=\"sk-estimator-id-2\" class=\"sk-toggleable__label sk-toggleable__label-arrow\">OneHotEncoder</label><div class=\"sk-toggleable__content\"><pre>OneHotEncoder(cols=[&#x27;consequencia&#x27;, &#x27;equipamento&#x27;], use_cat_names=True)</pre></div></div></div><div class=\"sk-item\"><div class=\"sk-estimator sk-toggleable\"><input class=\"sk-toggleable__control sk-hidden--visually\" id=\"sk-estimator-id-3\" type=\"checkbox\" ><label for=\"sk-estimator-id-3\" class=\"sk-toggleable__label sk-toggleable__label-arrow\">Ridge</label><div class=\"sk-toggleable__content\"><pre>Ridge()</pre></div></div></div></div></div></div></div>"
      ],
      "text/plain": [
       "Pipeline(steps=[('onehotencoder',\n",
       "                 OneHotEncoder(cols=['consequencia', 'equipamento'],\n",
       "                               use_cat_names=True)),\n",
       "                ('ridge', Ridge())])"
      ]
     },
     "execution_count": 66,
     "metadata": {},
     "output_type": "execute_result"
    }
   ],
   "source": [
    "model = make_pipeline(OneHotEncoder(use_cat_names=True), Ridge())\n",
    "model.fit(X_train, y_train)"
   ]
  },
  {
   "cell_type": "markdown",
   "id": "1dc080a2-118c-4718-871a-ae24a659d6f2",
   "metadata": {},
   "source": [
    "## Verificando o MAE"
   ]
  },
  {
   "cell_type": "code",
   "execution_count": 67,
   "id": "212f1372-adc9-42ed-9906-cd74e509dccc",
   "metadata": {},
   "outputs": [
    {
     "data": {
      "text/plain": [
       "37.12265192239362"
      ]
     },
     "execution_count": 67,
     "metadata": {},
     "output_type": "execute_result"
    }
   ],
   "source": [
    "mean_absolute_error(y_train, model.predict(X_train))"
   ]
  },
  {
   "cell_type": "markdown",
   "id": "289f62bd-3885-4573-ace6-49f4d8fd6ee9",
   "metadata": {},
   "source": [
    "### O modelo bate a Baseline"
   ]
  },
  {
   "cell_type": "code",
   "execution_count": 68,
   "id": "d337856d-5637-41ee-87d8-e9aeac5a83ab",
   "metadata": {},
   "outputs": [
    {
     "data": {
      "text/plain": [
       "37.16089836627806"
      ]
     },
     "execution_count": 68,
     "metadata": {},
     "output_type": "execute_result"
    }
   ],
   "source": [
    "mean_absolute_error(y_test, model.predict(X_test))"
   ]
  },
  {
   "cell_type": "code",
   "execution_count": 69,
   "id": "c9b91501-fb7f-4afc-80fb-84bbfaddd9fb",
   "metadata": {},
   "outputs": [],
   "source": [
    "def make_prediction(consequencia, equipamento):\n",
    "    data = {\n",
    "        \"consequencia\": consequencia,\n",
    "        \"equipamento\": equipamento,\n",
    "    }\n",
    "    df = pd.DataFrame(data, index=[0])\n",
    "    prediction = model.predict(df)\n",
    "    return f\"O equipamento levará {prediction[0]:.2f} minutos para ficar pronto da manutenção\""
   ]
  },
  {
   "cell_type": "code",
   "execution_count": 70,
   "id": "12b6999a-89ac-490f-9172-70394cfbb4b2",
   "metadata": {},
   "outputs": [
    {
     "data": {
      "application/vnd.jupyter.widget-view+json": {
       "model_id": "6fc53a3541af427293f202ae4f045bb2",
       "version_major": 2,
       "version_minor": 0
      },
      "text/plain": [
       "interactive(children=(Dropdown(description='consequencia', options=('1', '2', '3'), value='1'), Dropdown(descr…"
      ]
     },
     "metadata": {},
     "output_type": "display_data"
    }
   ],
   "source": [
    "interact(\n",
    "    make_prediction,\n",
    "    consequencia=Dropdown(options=sorted(X_train[\"consequencia\"].unique())),\n",
    "    equipamento=Dropdown(options=sorted(X_train[\"equipamento\"].unique())),\n",
    ");"
   ]
  }
 ],
 "metadata": {
  "kernelspec": {
   "display_name": "Python 3 (ipykernel)",
   "language": "python",
   "name": "python3"
  },
  "language_info": {
   "codemirror_mode": {
    "name": "ipython",
    "version": 3
   },
   "file_extension": ".py",
   "mimetype": "text/x-python",
   "name": "python",
   "nbconvert_exporter": "python",
   "pygments_lexer": "ipython3",
   "version": "3.9.7"
  }
 },
 "nbformat": 4,
 "nbformat_minor": 5
}
